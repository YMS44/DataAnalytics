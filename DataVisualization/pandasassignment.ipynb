{
 "cells": [
  {
   "cell_type": "code",
   "execution_count": 23,
   "id": "c956fe1e-b6f3-45b0-b774-f1108eb1b66c",
   "metadata": {},
   "outputs": [
    {
     "name": "stdout",
     "output_type": "stream",
     "text": [
      "   stuid     name  marks\n",
      "0      6  Atharva     98\n",
      "1      7     Arti     97\n",
      "2      8  Prakash     57\n",
      "3      9   sanjay     68\n",
      "4     10   pramod     35\n"
     ]
    }
   ],
   "source": [
    "import pandas as pd\n",
    "import numpy as np\n",
    "import seaborn as sns\n",
    "df = pd.read_excel('student.xlsx')\n",
    "df1 = pd.read_csv('student4.csv')\n",
    "df2 = pd.read_excel('interviewer_rating.xlsx')\n",
    "print(df1)"
   ]
  },
  {
   "cell_type": "code",
   "execution_count": 5,
   "id": "760e8ffd-f28a-45e5-b461-d5936b7d60e2",
   "metadata": {},
   "outputs": [
    {
     "name": "stdout",
     "output_type": "stream",
     "text": [
      "           rating\n",
      "studentid        \n",
      "1            4.50\n",
      "2            3.50\n",
      "3            3.75\n",
      "4            4.50\n",
      "5            3.75\n",
      "6            3.25\n",
      "7            4.00\n",
      "8            3.75\n",
      "9            4.50\n",
      "10           3.25\n"
     ]
    }
   ],
   "source": [
    "avg= df2[['studentid','rating']].groupby('studentid').mean()\n",
    "print(avg)"
   ]
  },
  {
   "cell_type": "code",
   "execution_count": 10,
   "id": "027bb992-6924-42b2-96ed-b9d14a03aef9",
   "metadata": {},
   "outputs": [
    {
     "name": "stdout",
     "output_type": "stream",
     "text": [
      "    stuid     name  marks\n",
      "1       1    Rajan     98\n",
      "2       2   Revati     97\n",
      "3       3   mugdha     57\n",
      "4       4    Gauri     68\n",
      "5       5  manjiri     70\n",
      "6       6  Atharva     98\n",
      "7       7     Arti     97\n",
      "8       8  Prakash     57\n",
      "9       9   sanjay     68\n",
      "10     10   pramod     35\n"
     ]
    }
   ],
   "source": [
    "df_merged = pd.concat([df, df1], ignore_index=True)\n",
    "# df_merged.reset_index()\n",
    "df_merged.index = df_merged.index + 1\n",
    "print(df_merged)"
   ]
  },
  {
   "cell_type": "code",
   "execution_count": 19,
   "id": "7cd52b83-e104-4184-a954-0fecc68497c4",
   "metadata": {},
   "outputs": [
    {
     "name": "stdout",
     "output_type": "stream",
     "text": [
      "          name  marks  rating\n",
      "stuid                        \n",
      "1        Rajan     98    4.50\n",
      "2       Revati     97    3.50\n",
      "3       mugdha     57    3.75\n",
      "4        Gauri     68    4.50\n",
      "5      manjiri     70    3.75\n",
      "6      Atharva     98    3.25\n",
      "7         Arti     97    4.00\n",
      "8      Prakash     57    3.75\n",
      "9       sanjay     68    4.50\n",
      "10      pramod     35    3.25\n"
     ]
    }
   ],
   "source": [
    "df3 = pd.concat([df_merged, avg], axis=1)\n",
    "print(df3.set_index('stuid'))"
   ]
  },
  {
   "cell_type": "code",
   "execution_count": 20,
   "id": "a0e9970a-dc83-4dd2-b6e8-eafe875b81d2",
   "metadata": {},
   "outputs": [
    {
     "data": {
      "text/html": [
       "<div>\n",
       "<style scoped>\n",
       "    .dataframe tbody tr th:only-of-type {\n",
       "        vertical-align: middle;\n",
       "    }\n",
       "\n",
       "    .dataframe tbody tr th {\n",
       "        vertical-align: top;\n",
       "    }\n",
       "\n",
       "    .dataframe thead th {\n",
       "        text-align: right;\n",
       "    }\n",
       "</style>\n",
       "<table border=\"1\" class=\"dataframe\">\n",
       "  <thead>\n",
       "    <tr style=\"text-align: right;\">\n",
       "      <th></th>\n",
       "      <th>stuid</th>\n",
       "      <th>name</th>\n",
       "      <th>marks</th>\n",
       "      <th>rating</th>\n",
       "      <th>technology</th>\n",
       "    </tr>\n",
       "  </thead>\n",
       "  <tbody>\n",
       "    <tr>\n",
       "      <th>1</th>\n",
       "      <td>1</td>\n",
       "      <td>Rajan</td>\n",
       "      <td>98</td>\n",
       "      <td>4.50</td>\n",
       "      <td>Python Project</td>\n",
       "    </tr>\n",
       "    <tr>\n",
       "      <th>2</th>\n",
       "      <td>2</td>\n",
       "      <td>Revati</td>\n",
       "      <td>97</td>\n",
       "      <td>3.50</td>\n",
       "      <td>Java Project</td>\n",
       "    </tr>\n",
       "    <tr>\n",
       "      <th>3</th>\n",
       "      <td>3</td>\n",
       "      <td>mugdha</td>\n",
       "      <td>57</td>\n",
       "      <td>3.75</td>\n",
       "      <td>Java Training</td>\n",
       "    </tr>\n",
       "    <tr>\n",
       "      <th>4</th>\n",
       "      <td>4</td>\n",
       "      <td>Gauri</td>\n",
       "      <td>68</td>\n",
       "      <td>4.50</td>\n",
       "      <td>Python Training</td>\n",
       "    </tr>\n",
       "    <tr>\n",
       "      <th>5</th>\n",
       "      <td>5</td>\n",
       "      <td>manjiri</td>\n",
       "      <td>70</td>\n",
       "      <td>3.75</td>\n",
       "      <td>Java Training</td>\n",
       "    </tr>\n",
       "    <tr>\n",
       "      <th>6</th>\n",
       "      <td>6</td>\n",
       "      <td>Atharva</td>\n",
       "      <td>98</td>\n",
       "      <td>3.25</td>\n",
       "      <td>Java Project</td>\n",
       "    </tr>\n",
       "    <tr>\n",
       "      <th>7</th>\n",
       "      <td>7</td>\n",
       "      <td>Arti</td>\n",
       "      <td>97</td>\n",
       "      <td>4.00</td>\n",
       "      <td>Java Project</td>\n",
       "    </tr>\n",
       "    <tr>\n",
       "      <th>8</th>\n",
       "      <td>8</td>\n",
       "      <td>Prakash</td>\n",
       "      <td>57</td>\n",
       "      <td>3.75</td>\n",
       "      <td>Java Training</td>\n",
       "    </tr>\n",
       "    <tr>\n",
       "      <th>9</th>\n",
       "      <td>9</td>\n",
       "      <td>sanjay</td>\n",
       "      <td>68</td>\n",
       "      <td>4.50</td>\n",
       "      <td>Python Training</td>\n",
       "    </tr>\n",
       "    <tr>\n",
       "      <th>10</th>\n",
       "      <td>10</td>\n",
       "      <td>pramod</td>\n",
       "      <td>35</td>\n",
       "      <td>3.25</td>\n",
       "      <td>Java Training</td>\n",
       "    </tr>\n",
       "  </tbody>\n",
       "</table>\n",
       "</div>"
      ],
      "text/plain": [
       "    stuid     name  marks  rating       technology\n",
       "1       1    Rajan     98    4.50   Python Project\n",
       "2       2   Revati     97    3.50     Java Project\n",
       "3       3   mugdha     57    3.75    Java Training\n",
       "4       4    Gauri     68    4.50  Python Training\n",
       "5       5  manjiri     70    3.75    Java Training\n",
       "6       6  Atharva     98    3.25     Java Project\n",
       "7       7     Arti     97    4.00     Java Project\n",
       "8       8  Prakash     57    3.75    Java Training\n",
       "9       9   sanjay     68    4.50  Python Training\n",
       "10     10   pramod     35    3.25    Java Training"
      ]
     },
     "execution_count": 20,
     "metadata": {},
     "output_type": "execute_result"
    }
   ],
   "source": [
    "def myconvert(rating,marks):\n",
    "    if rating>4 and marks>80 :\n",
    "        return 'Python Project'\n",
    "    elif rating>3 and marks>90:\n",
    "        return 'Java Project'\n",
    "        \n",
    "    elif rating>4:\n",
    "        return 'Python Training'\n",
    "    else:\n",
    "        return 'Java Training'\n",
    "df3['technology'] = df3.apply(lambda row: myconvert(row['rating'], row['marks']), axis=1)\n",
    "df3"
   ]
  },
  {
   "cell_type": "code",
   "execution_count": 22,
   "id": "ccb7cfa6-0a8e-4061-a7bd-d2ef4cf193e3",
   "metadata": {},
   "outputs": [
    {
     "data": {
      "text/html": [
       "<div>\n",
       "<style scoped>\n",
       "    .dataframe tbody tr th:only-of-type {\n",
       "        vertical-align: middle;\n",
       "    }\n",
       "\n",
       "    .dataframe tbody tr th {\n",
       "        vertical-align: top;\n",
       "    }\n",
       "\n",
       "    .dataframe thead th {\n",
       "        text-align: right;\n",
       "    }\n",
       "</style>\n",
       "<table border=\"1\" class=\"dataframe\">\n",
       "  <thead>\n",
       "    <tr style=\"text-align: right;\">\n",
       "      <th></th>\n",
       "      <th>stuid</th>\n",
       "      <th>name</th>\n",
       "      <th>marks</th>\n",
       "      <th>rating</th>\n",
       "      <th>technology</th>\n",
       "      <th>location</th>\n",
       "    </tr>\n",
       "  </thead>\n",
       "  <tbody>\n",
       "    <tr>\n",
       "      <th>1</th>\n",
       "      <td>1</td>\n",
       "      <td>Rajan</td>\n",
       "      <td>98</td>\n",
       "      <td>4.50</td>\n",
       "      <td>Python Project</td>\n",
       "      <td>Pune</td>\n",
       "    </tr>\n",
       "    <tr>\n",
       "      <th>2</th>\n",
       "      <td>2</td>\n",
       "      <td>Revati</td>\n",
       "      <td>97</td>\n",
       "      <td>3.50</td>\n",
       "      <td>Java Project</td>\n",
       "      <td>Pune</td>\n",
       "    </tr>\n",
       "    <tr>\n",
       "      <th>3</th>\n",
       "      <td>3</td>\n",
       "      <td>mugdha</td>\n",
       "      <td>57</td>\n",
       "      <td>3.75</td>\n",
       "      <td>Java Training</td>\n",
       "      <td>Mumbai</td>\n",
       "    </tr>\n",
       "    <tr>\n",
       "      <th>4</th>\n",
       "      <td>4</td>\n",
       "      <td>Gauri</td>\n",
       "      <td>68</td>\n",
       "      <td>4.50</td>\n",
       "      <td>Python Training</td>\n",
       "      <td>Mumbai</td>\n",
       "    </tr>\n",
       "    <tr>\n",
       "      <th>5</th>\n",
       "      <td>5</td>\n",
       "      <td>manjiri</td>\n",
       "      <td>70</td>\n",
       "      <td>3.75</td>\n",
       "      <td>Java Training</td>\n",
       "      <td>Delhi</td>\n",
       "    </tr>\n",
       "    <tr>\n",
       "      <th>6</th>\n",
       "      <td>6</td>\n",
       "      <td>Atharva</td>\n",
       "      <td>98</td>\n",
       "      <td>3.25</td>\n",
       "      <td>Java Project</td>\n",
       "      <td>Pune</td>\n",
       "    </tr>\n",
       "    <tr>\n",
       "      <th>7</th>\n",
       "      <td>7</td>\n",
       "      <td>Arti</td>\n",
       "      <td>97</td>\n",
       "      <td>4.00</td>\n",
       "      <td>Java Project</td>\n",
       "      <td>Pune</td>\n",
       "    </tr>\n",
       "    <tr>\n",
       "      <th>8</th>\n",
       "      <td>8</td>\n",
       "      <td>Prakash</td>\n",
       "      <td>57</td>\n",
       "      <td>3.75</td>\n",
       "      <td>Java Training</td>\n",
       "      <td>Mumbai</td>\n",
       "    </tr>\n",
       "    <tr>\n",
       "      <th>9</th>\n",
       "      <td>9</td>\n",
       "      <td>sanjay</td>\n",
       "      <td>68</td>\n",
       "      <td>4.50</td>\n",
       "      <td>Python Training</td>\n",
       "      <td>Mumbai</td>\n",
       "    </tr>\n",
       "    <tr>\n",
       "      <th>10</th>\n",
       "      <td>10</td>\n",
       "      <td>pramod</td>\n",
       "      <td>35</td>\n",
       "      <td>3.25</td>\n",
       "      <td>Java Training</td>\n",
       "      <td>Mumbai</td>\n",
       "    </tr>\n",
       "  </tbody>\n",
       "</table>\n",
       "</div>"
      ],
      "text/plain": [
       "    stuid     name  marks  rating       technology location\n",
       "1       1    Rajan     98    4.50   Python Project     Pune\n",
       "2       2   Revati     97    3.50     Java Project     Pune\n",
       "3       3   mugdha     57    3.75    Java Training   Mumbai\n",
       "4       4    Gauri     68    4.50  Python Training   Mumbai\n",
       "5       5  manjiri     70    3.75    Java Training    Delhi\n",
       "6       6  Atharva     98    3.25     Java Project     Pune\n",
       "7       7     Arti     97    4.00     Java Project     Pune\n",
       "8       8  Prakash     57    3.75    Java Training   Mumbai\n",
       "9       9   sanjay     68    4.50  Python Training   Mumbai\n",
       "10     10   pramod     35    3.25    Java Training   Mumbai"
      ]
     },
     "execution_count": 22,
     "metadata": {},
     "output_type": "execute_result"
    }
   ],
   "source": [
    "#Location Column:\n",
    "def myconvert(marks):\n",
    "    if marks>80 :\n",
    "        return 'Pune'\n",
    "    elif 70<=marks<=80:\n",
    "        return 'Delhi'\n",
    "    else:\n",
    "        return 'Mumbai'\n",
    "df3['location'] = df3['marks'].apply(myconvert)\n",
    "df3"
   ]
  },
  {
   "cell_type": "code",
   "execution_count": 24,
   "id": "d7b88aad-6452-4965-ab55-5d4d9f95bfa8",
   "metadata": {},
   "outputs": [
    {
     "data": {
      "text/plain": [
       "<Axes: xlabel='location', ylabel='count'>"
      ]
     },
     "execution_count": 24,
     "metadata": {},
     "output_type": "execute_result"
    },
    {
     "data": {
      "image/png": "[encoded data removed]",
      "text/plain": [
       "<Figure size 640x480 with 1 Axes>"
      ]
     },
     "metadata": {},
     "output_type": "display_data"
    }
   ],
   "source": [
    "sns.countplot(x=\"location\",data=df3)"
   ]
  },
  {
   "cell_type": "code",
   "execution_count": 25,
   "id": "38f367f4-1929-4973-9374-13a591f8c818",
   "metadata": {},
   "outputs": [
    {
     "data": {
      "text/plain": [
       "<Axes: xlabel='technology', ylabel='count'>"
      ]
     },
     "execution_count": 25,
     "metadata": {},
     "output_type": "execute_result"
    },
    {
     "data": {
      "image/png": "[encoded data removed]",
      "text/plain": [
       "<Figure size 640x480 with 1 Axes>"
      ]
     },
     "metadata": {},
     "output_type": "display_data"
    }
   ],
   "source": [
    "sns.countplot(x=\"technology\",data=df3)"
   ]
  }
 ],
 "metadata": {
  "kernelspec": {
   "display_name": "Python 3 (ipykernel)",
   "language": "python",
   "name": "python3"
  },
  "language_info": {
   "codemirror_mode": {
    "name": "ipython",
    "version": 3
   },
   "file_extension": ".py",
   "mimetype": "text/x-python",
   "name": "python",
   "nbconvert_exporter": "python",
   "pygments_lexer": "ipython3",
   "version": "3.11.7"
  }
 },
 "nbformat": 4,
 "nbformat_minor": 5
}
