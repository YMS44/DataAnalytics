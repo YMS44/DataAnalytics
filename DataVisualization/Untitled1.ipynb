{
 "cells": [
  {
   "cell_type": "code",
   "execution_count": 6,
   "id": "dbed8e88-a916-43c7-84df-d3b0a0d86ee0",
   "metadata": {},
   "outputs": [
    {
     "data": {
      "text/plain": [
       "10"
      ]
     },
     "execution_count": 6,
     "metadata": {},
     "output_type": "execute_result"
    }
   ],
   "source": [
    "i=0\n",
    "while i<10:\n",
    "    i=i+1\n",
    "i"
   ]
  },
  {
   "cell_type": "markdown",
   "id": "9051aef0-08c0-409d-89c5-57985c659c5f",
   "metadata": {},
   "source": [
    "This is notes\n"
   ]
  },
  {
   "cell_type": "code",
   "execution_count": null,
   "id": "c718cbe5-b9af-43c3-b3a8-0afc7c506171",
   "metadata": {},
   "outputs": [],
   "source": []
  }
 ],
 "metadata": {
  "kernelspec": {
   "display_name": "Python 3 (ipykernel)",
   "language": "python",
   "name": "python3"
  },
  "language_info": {
   "codemirror_mode": {
    "name": "ipython",
    "version": 3
   },
   "file_extension": ".py",
   "mimetype": "text/x-python",
   "name": "python",
   "nbconvert_exporter": "python",
   "pygments_lexer": "ipython3",
   "version": "3.11.7"
  }
 },
 "nbformat": 4,
 "nbformat_minor": 5
}
