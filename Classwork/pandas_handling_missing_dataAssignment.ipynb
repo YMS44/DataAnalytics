{
 "cells": [
  {
   "cell_type": "code",
   "execution_count": 100,
   "id": "30aacd89-f787-4ecd-b6b6-10b9e5be76d0",
   "metadata": {},
   "outputs": [],
   "source": [
    "import pandas as pd\n",
    "import numpy as np"
   ]
  },
  {
   "cell_type": "markdown",
   "id": "8933d3ac-10e2-4858-95e7-4e9c8e1aa730",
   "metadata": {},
   "source": [
    "#### 1. Write a Pandas program to detect missing values of a given DataFrame. Display True or False."
   ]
  },
  {
   "cell_type": "code",
   "execution_count": 101,
   "id": "04eb31d7-16c5-4bbf-afd3-73f92617947b",
   "metadata": {},
   "outputs": [
    {
     "name": "stdout",
     "output_type": "stream",
     "text": [
      "Original Orders DataFrame:\n",
      "     ord_no  purch_amt    ord_date  customer_id  salesman_id\n",
      "0   70001.0     150.50  2012-10-05         3002       5002.0\n",
      "1       NaN     270.65  2012-09-10         3001       5003.0\n",
      "2   70002.0      65.26         NaN         3001       5001.0\n",
      "3   70004.0     110.50  2012-08-17         3003          NaN\n",
      "4       NaN     948.50  2012-09-10         3002       5002.0\n",
      "5   70005.0    2400.60  2012-07-27         3001       5001.0\n",
      "6       NaN    5760.00  2012-09-10         3001       5001.0\n",
      "7   70010.0    1983.43  2012-10-10         3004          NaN\n",
      "8   70003.0    2480.40  2012-10-10         3003       5003.0\n",
      "9   70012.0     250.45  2012-06-27         3002       5002.0\n",
      "10      NaN      75.29  2012-08-17         3001       5003.0\n",
      "11  70013.0    3045.60  2012-04-25         3001          NaN\n",
      "\n",
      "Missing values of the said dataframe:\n",
      "    ord_no  purch_amt  ord_date  customer_id  salesman_id\n",
      "0    False      False     False        False        False\n",
      "1     True      False     False        False        False\n",
      "2    False      False      True        False        False\n",
      "3    False      False     False        False         True\n",
      "4     True      False     False        False        False\n",
      "5    False      False     False        False        False\n",
      "6     True      False     False        False        False\n",
      "7    False      False     False        False         True\n",
      "8    False      False     False        False        False\n",
      "9    False      False     False        False        False\n",
      "10    True      False     False        False        False\n",
      "11   False      False     False        False         True\n"
     ]
    }
   ],
   "source": [
    "pd.set_option('display.max_rows', None)\n",
    "#pd.set_option('display.max_columns', None)\n",
    "df = pd.DataFrame({\n",
    "'ord_no':[70001,np.nan,70002,70004,np.nan,70005,np.nan,70010,70003,70012,np.nan,70013],\n",
    "'purch_amt':[150.5,270.65,65.26,110.5,948.5,2400.6,5760,1983.43,2480.4,250.45, 75.29,3045.6],\n",
    "'ord_date': ['2012-10-05','2012-09-10',np.nan,'2012-08-17','2012-09-10','2012-07-27','2012-09-10','2012-10-10','2012-10-10','2012-06-27','2012-08-17','2012-04-25'],\n",
    "'customer_id':[3002,3001,3001,3003,3002,3001,3001,3004,3003,3002,3001,3001],\n",
    "'salesman_id':[5002,5003,5001,np.nan,5002,5001,5001,np.nan,5003,5002,5003,np.nan]})\n",
    "print(\"Original Orders DataFrame:\")\n",
    "print(df)\n",
    "print(\"\\nMissing values of the said dataframe:\")\n",
    "print(df.isna())"
   ]
  },
  {
   "cell_type": "markdown",
   "id": "c8fea2ac-c3ad-4116-aac7-8a73bb4c95ca",
   "metadata": {},
   "source": [
    "#### 2. Write a Pandas program to identify the column(s) of a given DataFrame which have at least one missing value."
   ]
  },
  {
   "cell_type": "code",
   "execution_count": 27,
   "id": "1f760b16-f1d8-4a4c-966d-c88e39cc1e43",
   "metadata": {},
   "outputs": [
    {
     "name": "stdout",
     "output_type": "stream",
     "text": [
      "Original Orders DataFrame:\n",
      "     ord_no  purch_amt    ord_date  customer_id  salesman_id\n",
      "0   70001.0     150.50  2012-10-05         3002       5002.0\n",
      "1       NaN     270.65  2012-09-10         3001       5003.0\n",
      "2   70002.0      65.26         NaN         3001       5001.0\n",
      "3   70004.0     110.50  2012-08-17         3003          NaN\n",
      "4       NaN     948.50  2012-09-10         3002       5002.0\n",
      "5   70005.0    2400.60  2012-07-27         3001       5001.0\n",
      "6       NaN    5760.00  2012-09-10         3001       5001.0\n",
      "7   70010.0    1983.43  2012-10-10         3004          NaN\n",
      "8   70003.0    2480.40  2012-10-10         3003       5003.0\n",
      "9   70012.0     250.45  2012-06-27         3002       5002.0\n",
      "10      NaN      75.29  2012-08-17         3001       5003.0\n",
      "11  70013.0    3045.60  2012-04-25         3001          NaN\n",
      "\n",
      "Identify the columns which have at least one missing value:\n",
      "ord_no          True\n",
      "purch_amt      False\n",
      "ord_date        True\n",
      "customer_id    False\n",
      "salesman_id     True\n",
      "dtype: bool\n"
     ]
    }
   ],
   "source": [
    "print(\"Original Orders DataFrame:\")\n",
    "print(df)\n",
    "print(\"\\nIdentify the columns which have at least one missing value:\")\n",
    "print(df.isna().any())"
   ]
  },
  {
   "cell_type": "markdown",
   "id": "1b185ce9-026f-427e-8709-25664e29e83c",
   "metadata": {},
   "source": [
    "#### 3. Write a Pandas program to count the number of missing values in each column of a given DataFrame."
   ]
  },
  {
   "cell_type": "code",
   "execution_count": 28,
   "id": "54cfd754-8baf-46c8-bbad-2a9e8d851c8c",
   "metadata": {},
   "outputs": [
    {
     "name": "stdout",
     "output_type": "stream",
     "text": [
      "Original Orders DataFrame:\n",
      "     ord_no  purch_amt    ord_date  customer_id  salesman_id\n",
      "0   70001.0     150.50  2012-10-05         3002       5002.0\n",
      "1       NaN     270.65  2012-09-10         3001       5003.0\n",
      "2   70002.0      65.26         NaN         3001       5001.0\n",
      "3   70004.0     110.50  2012-08-17         3003          NaN\n",
      "4       NaN     948.50  2012-09-10         3002       5002.0\n",
      "5   70005.0    2400.60  2012-07-27         3001       5001.0\n",
      "6       NaN    5760.00  2012-09-10         3001       5001.0\n",
      "7   70010.0    1983.43  2012-10-10         3004          NaN\n",
      "8   70003.0    2480.40  2012-10-10         3003       5003.0\n",
      "9   70012.0     250.45  2012-06-27         3002       5002.0\n",
      "10      NaN      75.29  2012-08-17         3001       5003.0\n",
      "11  70013.0    3045.60  2012-04-25         3001          NaN\n",
      "\n",
      "The number of missing values in each column :\n",
      "ord_no         4\n",
      "purch_amt      0\n",
      "ord_date       1\n",
      "customer_id    0\n",
      "salesman_id    3\n",
      "dtype: int64\n"
     ]
    }
   ],
   "source": [
    "print(\"Original Orders DataFrame:\")\n",
    "print(df)\n",
    "print(\"\\nThe number of missing values in each column :\")\n",
    "print(df.isna().sum())"
   ]
  },
  {
   "cell_type": "markdown",
   "id": "7849943c-8fcd-45ff-b767-fb6e6fb95f38",
   "metadata": {},
   "source": [
    "#### 4. Write a Pandas program to find and replace the missing values in a given DataFrame which do not have any valuable information."
   ]
  },
  {
   "cell_type": "code",
   "execution_count": 29,
   "id": "d295d13e-40d2-41b6-a2ab-98428e4b2a19",
   "metadata": {},
   "outputs": [
    {
     "name": "stdout",
     "output_type": "stream",
     "text": [
      "Original Orders DataFrame:\n",
      "   ord_no purch_amt    ord_date customer_id salesman_id\n",
      "0   70001     150.5           ?        3002        5002\n",
      "1     NaN    270.65  2012-09-10        3001        5003\n",
      "2   70002     65.26         NaN        3001           ?\n",
      "3   70004     110.5  2012-08-17        3003        5001\n",
      "4     NaN     948.5  2012-09-10        3002         NaN\n",
      "5   70005    2400.6  2012-07-27        3001        5002\n",
      "6      --      5760  2012-09-10        3001        5001\n",
      "7   70010         ?  2012-10-10        3004           ?\n",
      "8   70003     12.43  2012-10-10          --        5003\n",
      "9   70012    2480.4  2012-06-27        3002        5002\n",
      "10    NaN    250.45  2012-08-17        3001        5003\n",
      "11  70013    3045.6  2012-04-25        3001          --\n",
      "\n",
      "Replace the missing values with NaN:\n",
      "     ord_no  purch_amt    ord_date  customer_id  salesman_id\n",
      "0   70001.0     150.50         NaN       3002.0       5002.0\n",
      "1       NaN     270.65  2012-09-10       3001.0       5003.0\n",
      "2   70002.0      65.26         NaN       3001.0          NaN\n",
      "3   70004.0     110.50  2012-08-17       3003.0       5001.0\n",
      "4       NaN     948.50  2012-09-10       3002.0          NaN\n",
      "5   70005.0    2400.60  2012-07-27       3001.0       5002.0\n",
      "6       NaN    5760.00  2012-09-10       3001.0       5001.0\n",
      "7   70010.0        NaN  2012-10-10       3004.0          NaN\n",
      "8   70003.0      12.43  2012-10-10          NaN       5003.0\n",
      "9   70012.0    2480.40  2012-06-27       3002.0       5002.0\n",
      "10      NaN     250.45  2012-08-17       3001.0       5003.0\n",
      "11  70013.0    3045.60  2012-04-25       3001.0          NaN\n"
     ]
    }
   ],
   "source": [
    "pd.set_option('display.max_rows', None)\n",
    "#pd.set_option('display.max_columns', None)\n",
    "df1 = pd.DataFrame({\n",
    "'ord_no':[70001,np.nan,70002,70004,np.nan,70005,\"--\",70010,70003,70012,np.nan,70013],\n",
    "'purch_amt':[150.5,270.65,65.26,110.5,948.5,2400.6,5760,\"?\",12.43,2480.4,250.45, 3045.6],\n",
    "'ord_date': ['?','2012-09-10',np.nan,'2012-08-17','2012-09-10','2012-07-27','2012-09-10','2012-10-10','2012-10-10','2012-06-27','2012-08-17','2012-04-25'],\n",
    "'customer_id':[3002,3001,3001,3003,3002,3001,3001,3004,\"--\",3002,3001,3001],\n",
    "'salesman_id':[5002,5003,\"?\",5001,np.nan,5002,5001,\"?\",5003,5002,5003,\"--\"]})\n",
    "print(\"Original Orders DataFrame:\")\n",
    "print(df1)\n",
    "print(\"\\nReplace the missing values with NaN:\")\n",
    "result = df1.replace({\"?\": np.nan, \"--\": np.nan})\n",
    "print(result)"
   ]
  },
  {
   "cell_type": "markdown",
   "id": "6591866b-9d8e-4e48-b269-7dc5d6484c18",
   "metadata": {},
   "source": [
    "#### 5. Write a Pandas program to drop the rows where at least one element is missing in a given DataFrame."
   ]
  },
  {
   "cell_type": "code",
   "execution_count": 30,
   "id": "ec199f0a-723c-4786-b2a1-55190b9b417c",
   "metadata": {},
   "outputs": [
    {
     "name": "stdout",
     "output_type": "stream",
     "text": [
      "    ord_no  purch_amt    ord_date  customer_id  salesman_id\n",
      "0  70001.0     150.50  2012-10-05         3002       5002.0\n",
      "5  70005.0    2400.60  2012-07-27         3001       5001.0\n",
      "8  70003.0    2480.40  2012-10-10         3003       5003.0\n",
      "9  70012.0     250.45  2012-06-27         3002       5002.0\n"
     ]
    }
   ],
   "source": [
    "print(df.dropna())"
   ]
  },
  {
   "cell_type": "markdown",
   "id": "92d27460-1fc4-4410-9931-446928d1861d",
   "metadata": {},
   "source": [
    "#### 6. Write a Pandas program to drop the columns where at least one element is missing in a given DataFrame.\n"
   ]
  },
  {
   "cell_type": "code",
   "execution_count": 33,
   "id": "ab59e449-16ca-4c57-ba6c-515ea6bc1831",
   "metadata": {},
   "outputs": [
    {
     "name": "stdout",
     "output_type": "stream",
     "text": [
      "    purch_amt  customer_id\n",
      "0      150.50         3002\n",
      "1      270.65         3001\n",
      "2       65.26         3001\n",
      "3      110.50         3003\n",
      "4      948.50         3002\n",
      "5     2400.60         3001\n",
      "6     5760.00         3001\n",
      "7     1983.43         3004\n",
      "8     2480.40         3003\n",
      "9      250.45         3002\n",
      "10      75.29         3001\n",
      "11    3045.60         3001\n"
     ]
    }
   ],
   "source": [
    "result = df.dropna(axis='columns')\n",
    "print(result)"
   ]
  },
  {
   "cell_type": "markdown",
   "id": "ea3ab46c-4ed3-4327-a072-6d022e04add1",
   "metadata": {},
   "source": [
    "#### 7. Write a Pandas program to drop the rows where all elements are missing in a given DataFrame."
   ]
  },
  {
   "cell_type": "code",
   "execution_count": 35,
   "id": "e15f1152-d5fb-4e34-b366-c7f5914a9ead",
   "metadata": {},
   "outputs": [
    {
     "name": "stdout",
     "output_type": "stream",
     "text": [
      "Original Orders DataFrame:\n",
      "     ord_no  purch_amt    ord_date  customer_id\n",
      "0       NaN        NaN         NaN          NaN\n",
      "1       NaN     270.65  2012-09-10       3001.0\n",
      "2   70002.0      65.26         NaN       3001.0\n",
      "3   70004.0     110.50  2012-08-17       3003.0\n",
      "4       NaN     948.50  2012-09-10       3002.0\n",
      "5   70005.0    2400.60  2012-07-27       3001.0\n",
      "6       NaN    5760.00  2012-09-10       3001.0\n",
      "7   70010.0    1983.43  2012-10-10       3004.0\n",
      "8   70003.0    2480.40  2012-10-10       3003.0\n",
      "9   70012.0     250.45  2012-06-27       3002.0\n",
      "10      NaN      75.29  2012-08-17       3001.0\n",
      "11  70013.0    3045.60  2012-04-25       3001.0\n",
      "\n",
      "Drop the rows where all elements are missing:\n",
      "     ord_no  purch_amt    ord_date  customer_id\n",
      "1       NaN     270.65  2012-09-10       3001.0\n",
      "2   70002.0      65.26         NaN       3001.0\n",
      "3   70004.0     110.50  2012-08-17       3003.0\n",
      "4       NaN     948.50  2012-09-10       3002.0\n",
      "5   70005.0    2400.60  2012-07-27       3001.0\n",
      "6       NaN    5760.00  2012-09-10       3001.0\n",
      "7   70010.0    1983.43  2012-10-10       3004.0\n",
      "8   70003.0    2480.40  2012-10-10       3003.0\n",
      "9   70012.0     250.45  2012-06-27       3002.0\n",
      "10      NaN      75.29  2012-08-17       3001.0\n",
      "11  70013.0    3045.60  2012-04-25       3001.0\n"
     ]
    }
   ],
   "source": [
    "pd.set_option('display.max_rows', None)\n",
    "#pd.set_option('display.max_columns', None)\n",
    "df = pd.DataFrame({\n",
    "'ord_no':[np.nan,np.nan,70002,70004,np.nan,70005,np.nan,70010,70003,70012,np.nan,70013],\n",
    "'purch_amt':[np.nan,270.65,65.26,110.5,948.5,2400.6,5760,1983.43,2480.4,250.45, 75.29,3045.6],\n",
    "'ord_date': [np.nan,'2012-09-10',np.nan,'2012-08-17','2012-09-10','2012-07-27','2012-09-10','2012-10-10','2012-10-10','2012-06-27','2012-08-17','2012-04-25'],\n",
    "'customer_id':[np.nan,3001,3001,3003,3002,3001,3001,3004,3003,3002,3001,3001]})\n",
    "print(\"Original Orders DataFrame:\")\n",
    "print(df)\n",
    "print(\"\\nDrop the rows where all elements are missing:\")\n",
    "result = df.dropna(how='all')\n",
    "print(result)"
   ]
  },
  {
   "cell_type": "markdown",
   "id": "2b5c8357-21f1-4e68-aeed-d6afe69a8d2c",
   "metadata": {},
   "source": [
    "#### 8. Write a Pandas program to keep the rows with at least 2 NaN values in a given DataFrame."
   ]
  },
  {
   "cell_type": "code",
   "execution_count": 43,
   "id": "670c71b1-5115-43d7-be7e-2c998d47ca22",
   "metadata": {},
   "outputs": [
    {
     "name": "stdout",
     "output_type": "stream",
     "text": [
      "Original Orders DataFrame:\n",
      "     ord_no  purch_amt    ord_date  customer_id\n",
      "0       NaN        NaN         NaN          NaN\n",
      "1       NaN     270.65  2012-09-10       3001.0\n",
      "2   70002.0      65.26         NaN       3001.0\n",
      "3       NaN        NaN         NaN          NaN\n",
      "4       NaN     948.50  2012-09-10       3002.0\n",
      "5   70005.0    2400.60  2012-07-27       3001.0\n",
      "6       NaN    5760.00  2012-09-10       3001.0\n",
      "7   70010.0    1983.43  2012-10-10       3004.0\n",
      "8   70003.0    2480.40  2012-10-10       3003.0\n",
      "9   70012.0     250.45  2012-06-27       3002.0\n",
      "10      NaN      75.29  2012-08-17       3001.0\n",
      "11      NaN        NaN         NaN          NaN\n",
      "\n",
      "Keep the rows with at least 2 NaN values of the said DataFrame:\n",
      "     ord_no  purch_amt    ord_date  customer_id\n",
      "1       NaN     270.65  2012-09-10       3001.0\n",
      "2   70002.0      65.26         NaN       3001.0\n",
      "4       NaN     948.50  2012-09-10       3002.0\n",
      "5   70005.0    2400.60  2012-07-27       3001.0\n",
      "6       NaN    5760.00  2012-09-10       3001.0\n",
      "7   70010.0    1983.43  2012-10-10       3004.0\n",
      "8   70003.0    2480.40  2012-10-10       3003.0\n",
      "9   70012.0     250.45  2012-06-27       3002.0\n",
      "10      NaN      75.29  2012-08-17       3001.0\n"
     ]
    }
   ],
   "source": [
    "print(\"Original Orders DataFrame:\")\n",
    "print(df)\n",
    "print(\"\\nKeep the rows with at least 2 NaN values of the said DataFrame:\")\n",
    "\n",
    "result = df.dropna(thresh=2)\n",
    "print(result)"
   ]
  },
  {
   "cell_type": "markdown",
   "id": "ab1227c5-7d6a-41af-a606-fa96266ecd32",
   "metadata": {},
   "source": [
    "#### 9. Write a Pandas program to drop those rows from a given DataFrame in which specific columns have missing values."
   ]
  },
  {
   "cell_type": "code",
   "execution_count": 46,
   "id": "684ec8bf-2c16-4d4f-8a96-b75f23d89384",
   "metadata": {},
   "outputs": [
    {
     "name": "stdout",
     "output_type": "stream",
     "text": [
      "Original Orders DataFrame:\n",
      "     ord_no  purch_amt    ord_date  customer_id\n",
      "0       NaN        NaN         NaN          NaN\n",
      "1       NaN     270.65  2012-09-10       3001.0\n",
      "2   70002.0      65.26         NaN       3001.0\n",
      "3       NaN        NaN         NaN          NaN\n",
      "4       NaN     948.50  2012-09-10       3002.0\n",
      "5   70005.0    2400.60  2012-07-27       3001.0\n",
      "6       NaN    5760.00  2012-09-10       3001.0\n",
      "7   70010.0    1983.43  2012-10-10       3004.0\n",
      "8   70003.0    2480.40  2012-10-10       3003.0\n",
      "9   70012.0     250.45  2012-06-27       3002.0\n",
      "10      NaN      75.29  2012-08-17       3001.0\n",
      "11      NaN        NaN         NaN          NaN\n",
      "\n",
      "Drop those rows in which specific columns have missing values:\n",
      "    ord_no  purch_amt    ord_date  customer_id\n",
      "2  70002.0      65.26         NaN       3001.0\n",
      "5  70005.0    2400.60  2012-07-27       3001.0\n",
      "7  70010.0    1983.43  2012-10-10       3004.0\n",
      "8  70003.0    2480.40  2012-10-10       3003.0\n",
      "9  70012.0     250.45  2012-06-27       3002.0\n"
     ]
    }
   ],
   "source": [
    "pd.set_option('display.max_rows', None)\n",
    "#pd.set_option('display.max_columns', None)\n",
    "df = pd.DataFrame({\n",
    "'ord_no':[np.nan,np.nan,70002,np.nan,np.nan,70005,np.nan,70010,70003,70012,np.nan,np.nan],\n",
    "'purch_amt':[np.nan,270.65,65.26,np.nan,948.5,2400.6,5760,1983.43,2480.4,250.45, 75.29,np.nan],\n",
    "'ord_date': [np.nan,'2012-09-10',np.nan,np.nan,'2012-09-10','2012-07-27','2012-09-10','2012-10-10','2012-10-10','2012-06-27','2012-08-17',np.nan],\n",
    "'customer_id':[np.nan,3001,3001,np.nan,3002,3001,3001,3004,3003,3002,3001,np.nan]})\n",
    "print(\"Original Orders DataFrame:\")\n",
    "print(df)\n",
    "print(\"\\nDrop those rows in which specific columns have missing values:\")\n",
    "result = df.dropna(subset=['ord_no', 'customer_id'])\n",
    "print(result)"
   ]
  },
  {
   "cell_type": "markdown",
   "id": "4e9bc992-9631-4ab7-b044-e6fa3ca34d7b",
   "metadata": {},
   "source": [
    "#### 10. Write a Pandas program to keep the valid entries of a given DataFrame."
   ]
  },
  {
   "cell_type": "code",
   "execution_count": 53,
   "id": "591b090e-ab7c-4d2e-ae85-7b35f85c8b40",
   "metadata": {},
   "outputs": [
    {
     "name": "stdout",
     "output_type": "stream",
     "text": [
      "Original Orders DataFrame:\n",
      "     ord_no  purch_amt    ord_date  customer_id\n",
      "0       NaN        NaN         NaN          NaN\n",
      "1       NaN     270.65  2012-09-10       3001.0\n",
      "2   70002.0      65.26         NaN       3001.0\n",
      "3       NaN        NaN         NaN          NaN\n",
      "4       NaN     948.50  2012-09-10       3002.0\n",
      "5   70005.0    2400.60  2012-07-27       3001.0\n",
      "6       NaN    5760.00  2012-09-10       3001.0\n",
      "7   70010.0    1983.43  2012-10-10       3004.0\n",
      "8   70003.0    2480.40  2012-10-10       3003.0\n",
      "9   70012.0     250.45  2012-06-27       3002.0\n",
      "10      NaN      75.29  2012-08-17       3001.0\n",
      "11      NaN        NaN         NaN          NaN\n",
      "\n",
      "Keep the said DataFrame with valid entries:\n",
      "    ord_no  purch_amt    ord_date  customer_id\n",
      "5  70005.0    2400.60  2012-07-27       3001.0\n",
      "7  70010.0    1983.43  2012-10-10       3004.0\n",
      "8  70003.0    2480.40  2012-10-10       3003.0\n",
      "9  70012.0     250.45  2012-06-27       3002.0\n"
     ]
    }
   ],
   "source": [
    "#pd.set_option('display.max_columns', None)\n",
    "df = pd.DataFrame({\n",
    "'ord_no':[np.nan,np.nan,70002,np.nan,np.nan,70005,np.nan,70010,70003,70012,np.nan,np.nan],\n",
    "'purch_amt':[np.nan,270.65,65.26,np.nan,948.5,2400.6,5760,1983.43,2480.4,250.45, 75.29,np.nan],\n",
    "'ord_date': [np.nan,'2012-09-10',np.nan,np.nan,'2012-09-10','2012-07-27','2012-09-10','2012-10-10','2012-10-10','2012-06-27','2012-08-17',np.nan],\n",
    "'customer_id':[np.nan,3001,3001,np.nan,3002,3001,3001,3004,3003,3002,3001,np.nan]})\n",
    "print(\"Original Orders DataFrame:\")\n",
    "print(df)\n",
    "print(\"\\nKeep the said DataFrame with valid entries:\")\n",
    "result = df.dropna()\n",
    "print(result)"
   ]
  },
  {
   "cell_type": "markdown",
   "id": "6672968e-3315-48e6-9343-8c9f021d681c",
   "metadata": {},
   "source": [
    "#### 11. Write a Pandas program to calculate the total number of missing values in a DataFrame."
   ]
  },
  {
   "cell_type": "code",
   "execution_count": 56,
   "id": "282c0c2f-ad74-4a67-9fc6-5269d7680a74",
   "metadata": {},
   "outputs": [
    {
     "name": "stdout",
     "output_type": "stream",
     "text": [
      "17\n"
     ]
    }
   ],
   "source": [
    "result = df.isna().sum().sum()\n",
    "print(result)"
   ]
  },
  {
   "cell_type": "markdown",
   "id": "71b2a0f3-fd5e-4d49-9ed9-ead20bece954",
   "metadata": {},
   "source": [
    "#### 12. Write a Pandas program to replace NaNs with a single constant value in specified columns in a DataFrame."
   ]
  },
  {
   "cell_type": "code",
   "execution_count": 58,
   "id": "d1023256-edf2-4f29-b4bf-3c8820393032",
   "metadata": {},
   "outputs": [
    {
     "name": "stdout",
     "output_type": "stream",
     "text": [
      "0        0.00\n",
      "1      270.65\n",
      "2       65.26\n",
      "3        0.00\n",
      "4      948.50\n",
      "5     2400.60\n",
      "6     5760.00\n",
      "7     1983.43\n",
      "8     2480.40\n",
      "9      250.45\n",
      "10      75.29\n",
      "11       0.00\n",
      "Name: purch_amt, dtype: float64\n"
     ]
    }
   ],
   "source": [
    "result = df['purch_amt'].fillna(0)\n",
    "print(result)"
   ]
  },
  {
   "cell_type": "markdown",
   "id": "b6632084-aba3-482c-bfee-3423354998c0",
   "metadata": {},
   "source": [
    "#### 13. Write a Pandas program to replace NaNs with the value from the previous row or the next row in a given DataFrame."
   ]
  },
  {
   "cell_type": "code",
   "execution_count": 64,
   "id": "b4599b6d-78e5-42cb-b2e6-80ceaf95edab",
   "metadata": {},
   "outputs": [
    {
     "name": "stdout",
     "output_type": "stream",
     "text": [
      "     ord_no  purch_amt    ord_date  customer_id\n",
      "0       NaN        NaN         NaN          NaN\n",
      "1       NaN     270.65  2012-09-10       3001.0\n",
      "2   70002.0      65.26  2012-09-10       3001.0\n",
      "3   70002.0      65.26  2012-09-10       3001.0\n",
      "4   70002.0     948.50  2012-09-10       3002.0\n",
      "5   70005.0    2400.60  2012-07-27       3001.0\n",
      "6   70005.0    5760.00  2012-09-10       3001.0\n",
      "7   70010.0    1983.43  2012-10-10       3004.0\n",
      "8   70003.0    2480.40  2012-10-10       3003.0\n",
      "9   70012.0     250.45  2012-06-27       3002.0\n",
      "10  70012.0      75.29  2012-08-17       3001.0\n",
      "11  70012.0      75.29  2012-08-17       3001.0\n"
     ]
    }
   ],
   "source": [
    "result = df.ffill()\n",
    "print(result)"
   ]
  },
  {
   "cell_type": "markdown",
   "id": "414be08c-77ca-4eae-a4ee-08b3c728392d",
   "metadata": {},
   "source": [
    "#### 14. Write a Pandas program to replace NaNs with median or mean of the specified columns in a given DataFrame."
   ]
  },
  {
   "cell_type": "code",
   "execution_count": 70,
   "id": "c1e13db8-9e8b-4e91-8f3f-c2b583cd02c1",
   "metadata": {},
   "outputs": [
    {
     "name": "stdout",
     "output_type": "stream",
     "text": [
      "0      948.50\n",
      "1      270.65\n",
      "2       65.26\n",
      "3      948.50\n",
      "4      948.50\n",
      "5     2400.60\n",
      "6     5760.00\n",
      "7     1983.43\n",
      "8     2480.40\n",
      "9      250.45\n",
      "10      75.29\n",
      "11     948.50\n",
      "Name: purch_amt, dtype: float64\n"
     ]
    }
   ],
   "source": [
    "result = df['purch_amt'].fillna(df['purch_amt'].median())\n",
    "print(result)"
   ]
  },
  {
   "cell_type": "markdown",
   "id": "17a27eb8-bad8-4093-9e2e-09fd67b09f87",
   "metadata": {},
   "source": [
    "#### 15.  Write a Pandas program to interpolate the missing values using the Linear Interpolation method in a given DataFrame.\n",
    "#### From Wikipedia, in mathematics, linearinterpolation is a method of curve fitting using linear polynomials to construct \n",
    "#### new data points within the range of a discrete set of known data points."
   ]
  },
  {
   "cell_type": "code",
   "execution_count": 88,
   "id": "394aeb15-66dd-4409-8336-dd0c641eef17",
   "metadata": {},
   "outputs": [
    {
     "name": "stdout",
     "output_type": "stream",
     "text": [
      "Original Orders DataFrame:\n",
      "     ord_no  purch_amt  sale_amt    ord_date  customer_id  salesman_id\n",
      "0   70001.0     150.50     10.50  2012-10-05         3002       5002.0\n",
      "1       NaN        NaN     20.65  2012-09-10         3001       5003.0\n",
      "2   70002.0      65.26       NaN         NaN         3001       5001.0\n",
      "3   70004.0     110.50     11.50  2012-08-17         3003          NaN\n",
      "4       NaN     948.50     98.50  2012-09-10         3002       5002.0\n",
      "5   70005.0        NaN       NaN  2012-07-27         3001       5001.0\n",
      "6       NaN    5760.00     57.00  2012-09-10         3001       5001.0\n",
      "7   70010.0    1983.43     19.43  2012-10-10         3004          NaN\n",
      "8   70003.0        NaN       NaN  2012-10-10         3003       5003.0\n",
      "9   70012.0     250.45     25.45  2012-06-27         3002       5002.0\n",
      "10      NaN      75.29     75.29  2012-08-17         3001       5003.0\n",
      "11  70013.0    3045.60     35.60  2012-04-25         3001          NaN\n",
      "\n",
      "Interpolate the missing values using the Linear Interpolation method (purch_amt):\n",
      "     ord_no  purch_amt  sale_amt    ord_date  customer_id  salesman_id\n",
      "0   70001.0     150.50     10.50  2012-10-05         3002       5002.0\n",
      "1       NaN     107.88     20.65  2012-09-10         3001       5003.0\n",
      "2   70002.0      65.26       NaN         NaN         3001       5001.0\n",
      "3   70004.0     110.50     11.50  2012-08-17         3003          NaN\n",
      "4       NaN     948.50     98.50  2012-09-10         3002       5002.0\n",
      "5   70005.0    3354.25       NaN  2012-07-27         3001       5001.0\n",
      "6       NaN    5760.00     57.00  2012-09-10         3001       5001.0\n",
      "7   70010.0    1983.43     19.43  2012-10-10         3004          NaN\n",
      "8   70003.0    1116.94       NaN  2012-10-10         3003       5003.0\n",
      "9   70012.0     250.45     25.45  2012-06-27         3002       5002.0\n",
      "10      NaN      75.29     75.29  2012-08-17         3001       5003.0\n",
      "11  70013.0    3045.60     35.60  2012-04-25         3001          NaN\n"
     ]
    }
   ],
   "source": [
    "df = pd.DataFrame({\n",
    "'ord_no':[70001,np.nan,70002,70004,np.nan,70005,np.nan,70010,70003,70012,np.nan,70013],\n",
    "'purch_amt':[150.5,np.nan,65.26,110.5,948.5,np.nan,5760,1983.43,np.nan,250.45, 75.29,3045.6],\n",
    "'sale_amt':[10.5,20.65,np.nan,11.5,98.5,np.nan,57,19.43,np.nan,25.45, 75.29,35.6],\n",
    "'ord_date': ['2012-10-05','2012-09-10',np.nan,'2012-08-17','2012-09-10','2012-07-27','2012-09-10','2012-10-10','2012-10-10','2012-06-27','2012-08-17','2012-04-25'],\n",
    "'customer_id':[3002,3001,3001,3003,3002,3001,3001,3004,3003,3002,3001,3001],\n",
    "'salesman_id':[5002,5003,5001,np.nan,5002,5001,5001,np.nan,5003,5002,5003,np.nan]})\n",
    "print(\"Original Orders DataFrame:\")\n",
    "print(df)\n",
    "print(\"\\nInterpolate the missing values using the Linear Interpolation method (purch_amt):\")\n",
    "df['purch_amt'].interpolate(method='linear', direction = 'forward', inplace=True)\n",
    "print(df)"
   ]
  },
  {
   "cell_type": "markdown",
   "id": "516b1547-96f7-49ab-9a0b-289d4e3c5022",
   "metadata": {},
   "source": [
    "#### 16. Write a Pandas program to count the number of missing values of a specified column in a given DataFrame."
   ]
  },
  {
   "cell_type": "code",
   "execution_count": 89,
   "id": "e0f767e4-0fda-4f84-b76e-142dbbdf46e9",
   "metadata": {},
   "outputs": [
    {
     "name": "stdout",
     "output_type": "stream",
     "text": [
      "Original Orders DataFrame:\n",
      "     ord_no  purch_amt  sale_amt    ord_date  customer_id  salesman_id\n",
      "0   70001.0     150.50     10.50  2012-10-05         3002       5002.0\n",
      "1       NaN        NaN     20.65  2012-09-10         3001       5003.0\n",
      "2   70002.0      65.26       NaN         NaN         3001       5001.0\n",
      "3   70004.0     110.50     11.50  2012-08-17         3003          NaN\n",
      "4       NaN     948.50     98.50  2012-09-10         3002       5002.0\n",
      "5   70005.0        NaN       NaN  2012-07-27         3001       5001.0\n",
      "6       NaN    5760.00     57.00  2012-09-10         3001       5001.0\n",
      "7   70010.0    1983.43     19.43  2012-10-10         3004          NaN\n",
      "8   70003.0        NaN       NaN  2012-10-10         3003       5003.0\n",
      "9   70012.0     250.45     25.45  2012-06-27         3002       5002.0\n",
      "10      NaN      75.29     75.29  2012-08-17         3001       5003.0\n",
      "11  70013.0    3045.60     35.60  2012-04-25         3001          NaN\n",
      "\n",
      "Missing values in purch_amt column:\n",
      "3\n"
     ]
    }
   ],
   "source": [
    "df = pd.DataFrame({\n",
    "'ord_no':[70001,np.nan,70002,70004,np.nan,70005,np.nan,70010,70003,70012,np.nan,70013],\n",
    "'purch_amt':[150.5,np.nan,65.26,110.5,948.5,np.nan,5760,1983.43,np.nan,250.45, 75.29,3045.6],\n",
    "'sale_amt':[10.5,20.65,np.nan,11.5,98.5,np.nan,57,19.43,np.nan,25.45, 75.29,35.6],\n",
    "'ord_date': ['2012-10-05','2012-09-10',np.nan,'2012-08-17','2012-09-10','2012-07-27','2012-09-10','2012-10-10','2012-10-10','2012-06-27','2012-08-17','2012-04-25'],\n",
    "'customer_id':[3002,3001,3001,3003,3002,3001,3001,3004,3003,3002,3001,3001],\n",
    "'salesman_id':[5002,5003,5001,np.nan,5002,5001,5001,np.nan,5003,5002,5003,np.nan]})\n",
    "print(\"Original Orders DataFrame:\")\n",
    "print(df) \n",
    "print(\"\\nMissing values in purch_amt column:\")\n",
    "result = df['purch_amt'].value_counts(dropna=False).loc[np.nan]\n",
    "print(result)"
   ]
  },
  {
   "cell_type": "markdown",
   "id": "428374a5-9d0f-42ea-96b6-4f159878334d",
   "metadata": {},
   "source": [
    "#### 17. Write a Pandas program to count the missing values in a given DataFrame."
   ]
  },
  {
   "cell_type": "code",
   "execution_count": 94,
   "id": "95b31edb-46ad-4b1d-a72f-4c356cf3bfac",
   "metadata": {},
   "outputs": [
    {
     "name": "stdout",
     "output_type": "stream",
     "text": [
      "Original Orders DataFrame:\n",
      "     ord_no  purch_amt  sale_amt    ord_date  customer_id  salesman_id\n",
      "0   70001.0     150.50     10.50  2012-10-05         3002       5002.0\n",
      "1       NaN        NaN     20.65  2012-09-10         3001       5003.0\n",
      "2   70002.0      65.26       NaN         NaN         3001       5001.0\n",
      "3   70004.0     110.50     11.50  2012-08-17         3003          NaN\n",
      "4       NaN     948.50     98.50  2012-09-10         3002       5002.0\n",
      "5   70005.0        NaN       NaN  2012-07-27         3001       5001.0\n",
      "6       NaN    5760.00     57.00  2012-09-10         3001       5001.0\n",
      "7   70010.0    1983.43     19.43  2012-10-10         3004          NaN\n",
      "8   70003.0        NaN       NaN  2012-10-10         3003       5003.0\n",
      "9   70012.0     250.45     25.45  2012-06-27         3002       5002.0\n",
      "10      NaN      75.29     75.29  2012-08-17         3001       5003.0\n",
      "11  70013.0    3045.60     35.60  2012-04-25         3001          NaN\n",
      "\n",
      "Total missing values in a dataframe:\n",
      "14\n"
     ]
    }
   ],
   "source": [
    "print(\"Original Orders DataFrame:\")\n",
    "print(df) \n",
    "tot_missing_vals = df.isnull().sum().sum()\n",
    "print(\"\\nTotal missing values in a dataframe:\")\n",
    "print(tot_missing_vals)"
   ]
  },
  {
   "cell_type": "markdown",
   "id": "61414f31-19eb-4ef7-a687-0e7fcf64cf96",
   "metadata": {},
   "source": [
    "#### 18. Write a Pandas program to find the Indexes of missing values in a given DataFrame."
   ]
  },
  {
   "cell_type": "code",
   "execution_count": 95,
   "id": "dbe00042-194a-4751-9437-3ace2e7668d6",
   "metadata": {},
   "outputs": [
    {
     "name": "stdout",
     "output_type": "stream",
     "text": [
      "Original Orders DataFrame:\n",
      "     ord_no  purch_amt  sale_amt    ord_date  customer_id  salesman_id\n",
      "0   70001.0     150.50     10.50  2012-10-05         3002       5002.0\n",
      "1       NaN        NaN     20.65  2012-09-10         3001       5003.0\n",
      "2   70002.0      65.26       NaN         NaN         3001       5001.0\n",
      "3   70004.0     110.50     11.50  2012-08-17         3003          NaN\n",
      "4       NaN     948.50     98.50  2012-09-10         3002       5002.0\n",
      "5   70005.0        NaN       NaN  2012-07-27         3001       5001.0\n",
      "6       NaN    5760.00     57.00  2012-09-10         3001       5001.0\n",
      "7   70010.0    1983.43     19.43  2012-10-10         3004          NaN\n",
      "8   70003.0        NaN       NaN  2012-10-10         3003       5003.0\n",
      "9   70012.0     250.45     25.45  2012-06-27         3002       5002.0\n",
      "10      NaN      75.29     75.29  2012-08-17         3001       5003.0\n",
      "11  70013.0    3045.60     35.60  2012-04-25         3001          NaN\n",
      "\n",
      "Missing values in purch_amt column:\n",
      "(array([ 1,  4,  6, 10], dtype=int64),)\n"
     ]
    }
   ],
   "source": [
    "print(\"Original Orders DataFrame:\")\n",
    "print(df) \n",
    "print(\"\\nMissing values in purch_amt column:\")\n",
    "result = df['ord_no'].isnull().to_numpy().nonzero()\n",
    "print(result)"
   ]
  },
  {
   "cell_type": "markdown",
   "id": "f7e77afb-c847-4eab-b6f0-93548ada9cdd",
   "metadata": {},
   "source": [
    "##### 19. Write a Pandas program to replace the missing values with the most frequent values present in each column of a given DataFrame."
   ]
  },
  {
   "cell_type": "code",
   "execution_count": 96,
   "id": "68530457-521e-4fad-9b35-0f13c31d9a85",
   "metadata": {},
   "outputs": [
    {
     "name": "stdout",
     "output_type": "stream",
     "text": [
      "Original Orders DataFrame:\n",
      "     ord_no  purch_amt  sale_amt    ord_date  customer_id  salesman_id\n",
      "0   70001.0     150.50     10.50  2012-10-05         3002       5002.0\n",
      "1       NaN        NaN     20.65  2012-09-10         3001       5003.0\n",
      "2   70002.0      65.26       NaN         NaN         3001       5001.0\n",
      "3   70004.0     110.50     11.50  2012-08-17         3003          NaN\n",
      "4       NaN     948.50     98.50  2012-09-10         3002       5002.0\n",
      "5   70005.0        NaN       NaN  2012-07-27         3001       5001.0\n",
      "6       NaN    5760.00     57.00  2012-09-10         3001       5001.0\n",
      "7   70010.0    1983.43     19.43  2012-10-10         3004          NaN\n",
      "8   70003.0        NaN       NaN  2012-10-10         3003       5003.0\n",
      "9   70012.0     250.45     25.45  2012-06-27         3002       5002.0\n",
      "10      NaN      75.29     75.29  2012-08-17         3001       5003.0\n",
      "11  70013.0    3045.60     35.60  2012-04-25         3001          NaN\n",
      "\n",
      "Replace the missing values with the most frequent values present in each column:\n",
      "     ord_no  purch_amt  sale_amt    ord_date  customer_id  salesman_id\n",
      "0   70001.0     150.50     10.50  2012-10-05         3002       5002.0\n",
      "1   70001.0      65.26     20.65  2012-09-10         3001       5003.0\n",
      "2   70002.0      65.26     10.50  2012-09-10         3001       5001.0\n",
      "3   70004.0     110.50     11.50  2012-08-17         3003       5001.0\n",
      "4   70001.0     948.50     98.50  2012-09-10         3002       5002.0\n",
      "5   70005.0      65.26     10.50  2012-07-27         3001       5001.0\n",
      "6   70001.0    5760.00     57.00  2012-09-10         3001       5001.0\n",
      "7   70010.0    1983.43     19.43  2012-10-10         3004       5001.0\n",
      "8   70003.0      65.26     10.50  2012-10-10         3003       5003.0\n",
      "9   70012.0     250.45     25.45  2012-06-27         3002       5002.0\n",
      "10  70001.0      75.29     75.29  2012-08-17         3001       5003.0\n",
      "11  70013.0    3045.60     35.60  2012-04-25         3001       5001.0\n"
     ]
    }
   ],
   "source": [
    "print(\"Original Orders DataFrame:\")\n",
    "print(df) \n",
    "print(\"\\nReplace the missing values with the most frequent values present in each column:\")\n",
    "result = df.fillna(df.mode().iloc[0])\n",
    "print(result)\n"
   ]
  },
  {
   "cell_type": "markdown",
   "id": "ff2b7749-3719-44e5-93f4-6b53d948e899",
   "metadata": {},
   "source": [
    "#### 20. Write a Pandas program to create a hitmap for more information about the distribution of missing values in a given DataFrame."
   ]
  },
  {
   "cell_type": "code",
   "execution_count": 109,
   "id": "ee7abc3e-c595-4129-ba07-b1a78ea1dfb4",
   "metadata": {},
   "outputs": [
    {
     "data": {
      "image/png": "[encoded data removed]",
      "text/plain": [
       "<Figure size 1200x800 with 1 Axes>"
      ]
     },
     "metadata": {},
     "output_type": "display_data"
    }
   ],
   "source": [
    "import seaborn as sns\n",
    "import matplotlib.pyplot as plt\n",
    "\n",
    "plt.figure(figsize=(12, 8))\n",
    "sns.heatmap(df.isnull(), cbar=False, cmap=\"YlGnBu\")\n",
    "plt.show()"
   ]
  },
  {
   "cell_type": "code",
   "execution_count": null,
   "id": "bec70bab-2396-4307-b634-0ba0b3f38f68",
   "metadata": {},
   "outputs": [],
   "source": [
    " "
   ]
  }
 ],
 "metadata": {
  "kernelspec": {
   "display_name": "Python 3 (ipykernel)",
   "language": "python",
   "name": "python3"
  },
  "language_info": {
   "codemirror_mode": {
    "name": "ipython",
    "version": 3
   },
   "file_extension": ".py",
   "mimetype": "text/x-python",
   "name": "python",
   "nbconvert_exporter": "python",
   "pygments_lexer": "ipython3",
   "version": "3.11.7"
  }
 },
 "nbformat": 4,
 "nbformat_minor": 5
}
