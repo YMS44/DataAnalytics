{
 "cells": [
  {
   "cell_type": "code",
   "execution_count": 22,
   "id": "57857e67-18cd-4f72-86fe-134b36fbf2b2",
   "metadata": {},
   "outputs": [],
   "source": [
    "import pandas as pd\n",
    "import numpy as np"
   ]
  },
  {
   "cell_type": "code",
   "execution_count": 23,
   "id": "99f89eaa-19bc-4df0-ba42-08bfbc274a34",
   "metadata": {},
   "outputs": [
    {
     "name": "stdout",
     "output_type": "stream",
     "text": [
      "  first_name last_name   age gender  pre_movie_score  post_movie_score\n",
      "0        Tom     Hanks  63.0      m              8.0              10.0\n",
      "1        NaN       NaN   NaN    NaN              NaN               NaN\n",
      "2       Hugh   Jackman  51.0      m              NaN               NaN\n",
      "3      Oprah   Winfrey  66.0      f              6.0               8.0\n",
      "4       Emma     Stone  31.0      f              7.0               9.0\n"
     ]
    }
   ],
   "source": [
    "df = pd.read_csv('../movie_scores.csv')\n",
    "print(df)"
   ]
  },
  {
   "cell_type": "code",
   "execution_count": 24,
   "id": "aeebab3d-7a20-4518-92e6-d95cef6e2625",
   "metadata": {},
   "outputs": [
    {
     "name": "stdout",
     "output_type": "stream",
     "text": [
      "   first_name  last_name    age  gender  pre_movie_score  post_movie_score\n",
      "0       False      False  False   False            False             False\n",
      "1        True       True   True    True             True              True\n",
      "2       False      False  False   False             True              True\n",
      "3       False      False  False   False            False             False\n",
      "4       False      False  False   False            False             False\n",
      "   first_name  last_name    age  gender  pre_movie_score  post_movie_score\n",
      "0        True       True   True    True             True              True\n",
      "1       False      False  False   False            False             False\n",
      "2        True       True   True    True            False             False\n",
      "3        True       True   True    True             True              True\n",
      "4        True       True   True    True             True              True\n"
     ]
    }
   ],
   "source": [
    "# Checking and selecting for null values\n",
    "print(df.isnull())\n",
    "print(df.notnull())"
   ]
  },
  {
   "cell_type": "code",
   "execution_count": 25,
   "id": "98cc2a87-908b-41a4-a3cc-ed2fb333ad40",
   "metadata": {},
   "outputs": [
    {
     "name": "stdout",
     "output_type": "stream",
     "text": [
      "0      Tom\n",
      "1      NaN\n",
      "2     Hugh\n",
      "3    Oprah\n",
      "4     Emma\n",
      "Name: first_name, dtype: object\n",
      "  first_name last_name   age gender  pre_movie_score  post_movie_score\n",
      "0        Tom     Hanks  63.0      m              8.0              10.0\n",
      "2       Hugh   Jackman  51.0      m              NaN               NaN\n",
      "3      Oprah   Winfrey  66.0      f              6.0               8.0\n",
      "4       Emma     Stone  31.0      f              7.0               9.0\n"
     ]
    }
   ],
   "source": [
    "print(df['first_name'])\n",
    "print(df[df['first_name'].notnull()])"
   ]
  },
  {
   "cell_type": "code",
   "execution_count": 26,
   "id": "9d4e088c-3c78-4612-a518-3a4614fee9a3",
   "metadata": {},
   "outputs": [
    {
     "name": "stdout",
     "output_type": "stream",
     "text": [
      "  first_name last_name   age gender  pre_movie_score  post_movie_score\n",
      "2       Hugh   Jackman  51.0      m              NaN               NaN\n"
     ]
    }
   ],
   "source": [
    "print(df[(df['pre_movie_score'].isnull()) & df['gender'].notnull()])"
   ]
  },
  {
   "cell_type": "code",
   "execution_count": 27,
   "id": "51eea57a-20dd-4372-9f0d-4afabf7ce414",
   "metadata": {},
   "outputs": [
    {
     "name": "stdout",
     "output_type": "stream",
     "text": [
      "  first_name last_name   age gender  pre_movie_score  post_movie_score\n",
      "0        Tom     Hanks  63.0      m              8.0              10.0\n",
      "3      Oprah   Winfrey  66.0      f              6.0               8.0\n",
      "4       Emma     Stone  31.0      f              7.0               9.0\n"
     ]
    }
   ],
   "source": [
    "# dropna\n",
    "print(df.dropna())   # Drop row if any column contains a null"
   ]
  },
  {
   "cell_type": "code",
   "execution_count": 28,
   "id": "e9e9c2cf-1832-4fa6-b63b-7d444ce7633e",
   "metadata": {},
   "outputs": [
    {
     "name": "stdout",
     "output_type": "stream",
     "text": [
      "  first_name last_name   age gender  pre_movie_score  post_movie_score\n",
      "0        Tom     Hanks  63.0      m              8.0              10.0\n",
      "2       Hugh   Jackman  51.0      m              NaN               NaN\n",
      "3      Oprah   Winfrey  66.0      f              6.0               8.0\n",
      "4       Emma     Stone  31.0      f              7.0               9.0\n"
     ]
    }
   ],
   "source": [
    "print(df.dropna(thresh=1))  # Any row with at least one null-value is retained"
   ]
  },
  {
   "cell_type": "code",
   "execution_count": 29,
   "id": "06123410-8848-49e4-b932-f929192b5c8e",
   "metadata": {},
   "outputs": [
    {
     "name": "stdout",
     "output_type": "stream",
     "text": [
      "Empty DataFrame\n",
      "Columns: []\n",
      "Index: [0, 1, 2, 3, 4]\n"
     ]
    }
   ],
   "source": [
    "print(df.dropna(axis=1))   # Drop a column that conains at least one null"
   ]
  },
  {
   "cell_type": "code",
   "execution_count": 30,
   "id": "84cb93f8-2ca0-4e6e-b8d6-f17005137676",
   "metadata": {},
   "outputs": [
    {
     "name": "stdout",
     "output_type": "stream",
     "text": [
      "  first_name last_name   age gender\n",
      "0        Tom     Hanks  63.0      m\n",
      "1        NaN       NaN   NaN    NaN\n",
      "2       Hugh   Jackman  51.0      m\n",
      "3      Oprah   Winfrey  66.0      f\n",
      "4       Emma     Stone  31.0      f\n"
     ]
    }
   ],
   "source": [
    "print(df.dropna(thresh=4, axis = 1))  # A column must have at least 4 non-null values to be retained"
   ]
  },
  {
   "cell_type": "code",
   "execution_count": 31,
   "id": "c32455f3-5ef0-4f9d-b872-062270b59dad",
   "metadata": {},
   "outputs": [
    {
     "name": "stdout",
     "output_type": "stream",
     "text": [
      "0      Tom\n",
      "1    Empty\n",
      "2     Hugh\n",
      "3    Oprah\n",
      "4     Emma\n",
      "Name: first_name, dtype: object\n"
     ]
    }
   ],
   "source": [
    "# fill data\n",
    "df.fillna(\"NEW VALUE!\")\n",
    "print(df['first_name'].fillna(\"Empty\"))\n",
    "df['first_name'] = df['first_name'].fillna(\"Empty\")"
   ]
  },
  {
   "cell_type": "code",
   "execution_count": 32,
   "id": "2e1fe7da-cf76-42b7-b073-635884582243",
   "metadata": {},
   "outputs": [
    {
     "name": "stdout",
     "output_type": "stream",
     "text": [
      "7.0\n"
     ]
    },
    {
     "data": {
      "text/plain": [
       "0    8.0\n",
       "1    7.0\n",
       "2    7.0\n",
       "3    6.0\n",
       "4    7.0\n",
       "Name: pre_movie_score, dtype: float64"
      ]
     },
     "execution_count": 32,
     "metadata": {},
     "output_type": "execute_result"
    }
   ],
   "source": [
    "# Fill nulls with average\n",
    "print(df['pre_movie_score'].mean())\n",
    "df['pre_movie_score'].fillna(df['pre_movie_score'].mean())"
   ]
  },
  {
   "cell_type": "code",
   "execution_count": null,
   "id": "85d9002a-dc73-46a8-8765-cdc5ba4791a9",
   "metadata": {},
   "outputs": [],
   "source": []
  }
 ],
 "metadata": {
  "kernelspec": {
   "display_name": "Python 3 (ipykernel)",
   "language": "python",
   "name": "python3"
  },
  "language_info": {
   "codemirror_mode": {
    "name": "ipython",
    "version": 3
   },
   "file_extension": ".py",
   "mimetype": "text/x-python",
   "name": "python",
   "nbconvert_exporter": "python",
   "pygments_lexer": "ipython3",
   "version": "3.11.7"
  }
 },
 "nbformat": 4,
 "nbformat_minor": 5
}
