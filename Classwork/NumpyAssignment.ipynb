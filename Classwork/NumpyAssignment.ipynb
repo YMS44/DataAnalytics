{
 "cells": [
  {
   "cell_type": "code",
   "execution_count": 2,
   "id": "edf39f42-89da-418e-91e4-ec12821fb28d",
   "metadata": {},
   "outputs": [],
   "source": [
    "import numpy as np"
   ]
  },
  {
   "cell_type": "markdown",
   "id": "74a9ebc3-8626-4d91-bab2-640dda9fc66f",
   "metadata": {},
   "source": [
    "#### 1. Write a NumPy program to get the numpy version and show numpy build configuration.\n"
   ]
  },
  {
   "cell_type": "code",
   "execution_count": 5,
   "id": "ecad3b92-40fb-4f32-ba52-085fdeae820d",
   "metadata": {},
   "outputs": [
    {
     "name": "stdout",
     "output_type": "stream",
     "text": [
      "<module 'numpy.version' from 'C:\\\\Users\\\\Administrator.DAI-PC2\\\\anaconda3\\\\Lib\\\\site-packages\\\\numpy\\\\version.py'>\n"
     ]
    }
   ],
   "source": [
    "print(np.version)"
   ]
  },
  {
   "cell_type": "markdown",
   "id": "e01196c4-75ba-4409-8da2-4f36b74c1b7c",
   "metadata": {},
   "source": [
    "#### 2. Write a NumPy program to get help on the add function."
   ]
  },
  {
   "cell_type": "code",
   "execution_count": 3,
   "id": "4f0f23bd-2736-48c9-963c-73db96190f78",
   "metadata": {},
   "outputs": [
    {
     "name": "stdout",
     "output_type": "stream",
     "text": [
      "add(x1, x2, /, out=None, *, where=True, casting='same_kind', order='K', dtype=None, subok=True[, signature, extobj])\n",
      "\n",
      "Add arguments element-wise.\n",
      "\n",
      "Parameters\n",
      "----------\n",
      "x1, x2 : array_like\n",
      "    The arrays to be added.\n",
      "    If ``x1.shape != x2.shape``, they must be broadcastable to a common\n",
      "    shape (which becomes the shape of the output).\n",
      "out : ndarray, None, or tuple of ndarray and None, optional\n",
      "    A location into which the result is stored. If provided, it must have\n",
      "    a shape that the inputs broadcast to. If not provided or None,\n",
      "    a freshly-allocated array is returned. A tuple (possible only as a\n",
      "    keyword argument) must have length equal to the number of outputs.\n",
      "where : array_like, optional\n",
      "    This condition is broadcast over the input. At locations where the\n",
      "    condition is True, the `out` array will be set to the ufunc result.\n",
      "    Elsewhere, the `out` array will retain its original value.\n",
      "    Note that if an uninitialized `out` array is created via the default\n",
      "    ``out=None``, locations within it where the condition is False will\n",
      "    remain uninitialized.\n",
      "**kwargs\n",
      "    For other keyword-only arguments, see the\n",
      "    :ref:`ufunc docs <ufuncs.kwargs>`.\n",
      "\n",
      "Returns\n",
      "-------\n",
      "add : ndarray or scalar\n",
      "    The sum of `x1` and `x2`, element-wise.\n",
      "    This is a scalar if both `x1` and `x2` are scalars.\n",
      "\n",
      "Notes\n",
      "-----\n",
      "Equivalent to `x1` + `x2` in terms of array broadcasting.\n",
      "\n",
      "Examples\n",
      "--------\n",
      ">>> np.add(1.0, 4.0)\n",
      "5.0\n",
      ">>> x1 = np.arange(9.0).reshape((3, 3))\n",
      ">>> x2 = np.arange(3.0)\n",
      ">>> np.add(x1, x2)\n",
      "array([[  0.,   2.,   4.],\n",
      "       [  3.,   5.,   7.],\n",
      "       [  6.,   8.,  10.]])\n",
      "\n",
      "The ``+`` operator can be used as a shorthand for ``np.add`` on ndarrays.\n",
      "\n",
      ">>> x1 = np.arange(9.0).reshape((3, 3))\n",
      ">>> x2 = np.arange(3.0)\n",
      ">>> x1 + x2\n",
      "array([[ 0.,  2.,  4.],\n",
      "       [ 3.,  5.,  7.],\n",
      "       [ 6.,  8., 10.]])\n"
     ]
    }
   ],
   "source": [
    "np.info(np.add)"
   ]
  },
  {
   "cell_type": "code",
   "execution_count": 7,
   "id": "876295c1-94d9-48d3-b78f-f68a416ba060",
   "metadata": {},
   "outputs": [
    {
     "name": "stdout",
     "output_type": "stream",
     "text": [
      "[False False  True False False]\n",
      "[False False  True False False]\n"
     ]
    }
   ],
   "source": [
    "# 3. Write a NumPy program to test whether none of the elements of a given array is zero.\n",
    "lst1 = [1, 2, 0, 4, 5]\n",
    "arr = np.array(lst1)\n",
    "\n",
    "# 1st method\n",
    "isZero = np.isin(arr, 0)\n",
    "print(isZero)\n",
    "\n",
    "# 2nd Method\n",
    "bool_arr = arr == 0\n",
    "print(bool_arr)"
   ]
  },
  {
   "cell_type": "code",
   "execution_count": 11,
   "id": "e22150ce-ffd1-4c9c-806d-0af114be32e2",
   "metadata": {},
   "outputs": [
    {
     "data": {
      "text/plain": [
       "False"
      ]
     },
     "execution_count": 11,
     "metadata": {},
     "output_type": "execute_result"
    }
   ],
   "source": [
    "np.all(arr)"
   ]
  },
  {
   "cell_type": "code",
   "execution_count": 14,
   "id": "50bb8ed2-82f7-4b76-933c-c796dc4d87f9",
   "metadata": {},
   "outputs": [
    {
     "name": "stdout",
     "output_type": "stream",
     "text": [
      "True\n",
      "[False False  True  True  True]\n"
     ]
    }
   ],
   "source": [
    "# 4. Write a NumPy program to test whether any of the elements of a given array is non-zero.\n",
    "arr = np.random.randint(0, 10, 5)\n",
    "print(arr.any())\n",
    "\n",
    "bool_arr = arr != 0\n",
    "print(bool_arr)"
   ]
  },
  {
   "cell_type": "code",
   "execution_count": 82,
   "id": "2296107e-ef96-4a74-b26e-c0d484789149",
   "metadata": {},
   "outputs": [
    {
     "name": "stdout",
     "output_type": "stream",
     "text": [
      "[  1.   0.  nan  inf -inf]\n",
      "[ True  True False False False]\n"
     ]
    }
   ],
   "source": [
    "# 5. Write a NumPy program to test a given array element-wise for finiteness (not infinity or not Number).\n",
    "arr = np.array([1, 0, np.nan, np.inf, -np.inf])\n",
    "print(arr)\n",
    "\n",
    "print(np.isfinite(arr))"
   ]
  },
  {
   "cell_type": "code",
   "execution_count": 83,
   "id": "012230fe-7f5a-4cea-9866-0b9d9c4dbed2",
   "metadata": {},
   "outputs": [
    {
     "name": "stdout",
     "output_type": "stream",
     "text": [
      "[  1.   0.  nan  inf -inf]\n",
      "[False False False  True  True]\n"
     ]
    }
   ],
   "source": [
    "# 6. Write a NumPy program to test element-wise for positive or negative infinity.\n",
    "arr = np.array([1, 0, np.nan, np.inf, -np.inf])\n",
    "print(arr)\n",
    "\n",
    "print(np.isinf(arr)) "
   ]
  },
  {
   "cell_type": "code",
   "execution_count": 84,
   "id": "9947bd8c-0c71-4310-863f-dcc177cafbbd",
   "metadata": {},
   "outputs": [
    {
     "name": "stdout",
     "output_type": "stream",
     "text": [
      "[  1.   0.  nan  inf -inf]\n",
      "[False False  True False False]\n"
     ]
    }
   ],
   "source": [
    "# 7. Write a NumPy program to test element-wise for NaN of a given array.\n",
    "arr = np.array([1, 0, np.nan, np.inf, -np.inf])\n",
    "print(arr)\n",
    "\n",
    "print(np.isnan(arr)) "
   ]
  },
  {
   "cell_type": "markdown",
   "id": "f1430eb2-e3a3-4ea7-ba5e-f0a574040c42",
   "metadata": {},
   "source": [
    "#### 8. Write a NumPy program to test element-wise for complex number, real number of a given array. "
   ]
  },
  {
   "cell_type": "code",
   "execution_count": 22,
   "id": "8e31cb60-cbbd-4b85-a5bf-f15ed28d184f",
   "metadata": {},
   "outputs": [
    {
     "name": "stdout",
     "output_type": "stream",
     "text": [
      "Array:  [  1.+2.j   0.+0.j  nan+0.j  inf+0.j -inf+0.j]\n",
      "Check array for complex numbers: [ True False False False False]\n",
      "Check array for complex numbers: [ True False False False False]\n",
      "Check scalar: True\n"
     ]
    }
   ],
   "source": [
    "# Also test whether a given number is a scalar type or not.\n",
    "import cmath\n",
    "i = cmath.sqrt(-1)\n",
    "arr = np.array([1+2*i, 0, np.nan, np.inf, -np.inf])\n",
    "print(\"Array: \", arr)\n",
    "\n",
    "print(\"Check array for complex numbers: \", end=\"\")\n",
    "print(np.iscomplex(arr)) \n",
    "\n",
    "print(\"Check array for complex numbers: \", end=\"\")\n",
    "print(np.iscomplex(arr)) \n",
    "\n",
    "print(\"Check scalar: \", end=\"\")\n",
    "print(np.isscalar(5)) "
   ]
  },
  {
   "cell_type": "markdown",
   "id": "b94ce6db-06ec-41ab-acc5-5364e4e048b9",
   "metadata": {},
   "source": [
    "#### 9. Write a NumPy program to create an element-wise comparison (greater, greater_equal, less and less_equal) of two given arrays.\n"
   ]
  },
  {
   "cell_type": "code",
   "execution_count": 16,
   "id": "e7c18b80-4924-4b5d-ac01-6935896ce696",
   "metadata": {},
   "outputs": [
    {
     "name": "stdout",
     "output_type": "stream",
     "text": [
      "Original numbers:\n",
      "[3 5]\n",
      "[2 5]\n",
      "Comparison - greater\n",
      "[ True False]\n",
      "Comparison - greater_equal\n",
      "[ True  True]\n",
      "Comparison - less\n",
      "[False False]\n",
      "Comparison - less_equal\n",
      "[False  True]\n"
     ]
    }
   ],
   "source": [
    "x = np.array([3, 5])\n",
    "y = np.array([2, 5])\n",
    "print(\"Original numbers:\")\n",
    "print(x)\n",
    "print(y)\n",
    "print(\"Comparison - greater\")   \n",
    "print(np.greater(x, y))\n",
    "print(\"Comparison - greater_equal\")\n",
    "print(np.greater_equal(x, y))\n",
    "print(\"Comparison - less\")\n",
    "print(np.less(x, y))\n",
    "print(\"Comparison - less_equal\")\n",
    "print(np.less_equal(x, y)) "
   ]
  },
  {
   "cell_type": "markdown",
   "id": "e13bb331-7c76-42b8-9caa-239f06a02760",
   "metadata": {},
   "source": [
    "#### 10. Write a NumPy program to create an array with the values 1, 7, 13, 105 and determine the size of the memory occupied by the array."
   ]
  },
  {
   "cell_type": "code",
   "execution_count": 33,
   "id": "f7d98b36-71f8-44bb-894a-66c7561bf372",
   "metadata": {},
   "outputs": [
    {
     "name": "stdout",
     "output_type": "stream",
     "text": [
      "128\n"
     ]
    }
   ],
   "source": [
    "import sys\n",
    "arr = np.array([1, 7, 13, 105])\n",
    "print(sys.getsizeof(arr))"
   ]
  },
  {
   "cell_type": "markdown",
   "id": "bdd5762b-377e-4329-a3ed-c91e1dc29cec",
   "metadata": {},
   "source": [
    "#### 11. Write a NumPy program to create an array of 10 zeros,10 ones, 10 fives."
   ]
  },
  {
   "cell_type": "code",
   "execution_count": 45,
   "id": "8e8b60c1-8e4e-4de4-83b1-3e287ac99e2a",
   "metadata": {},
   "outputs": [
    {
     "name": "stdout",
     "output_type": "stream",
     "text": [
      "[0. 0. 0. 0. 0. 0. 0. 0. 0. 0.]\n",
      "[1. 1. 1. 1. 1. 1. 1. 1. 1. 1.]\n",
      "[5. 5. 5. 5. 5. 5. 5. 5. 5. 5.]\n",
      "[5. 5. 5. 5. 5. 5. 5. 5. 5. 5.]\n"
     ]
    }
   ],
   "source": [
    "# Zeroes array of 10 elements\n",
    "zeroarray = np.zeros(10)\n",
    "print(zeroarray)\n",
    "\n",
    "# Ones array of 10 elements\n",
    "onesarray = np.ones(10)\n",
    "print(onesarray)\n",
    "\n",
    "# 10 Fives 1st method\n",
    "fivesarray = np.ones(10)*5\n",
    "print(fivesarray)\n",
    "\n",
    "# 10 fives using broadcasting\n",
    "onesarray[0:] = 5\n",
    "print(onesarray)"
   ]
  },
  {
   "cell_type": "markdown",
   "id": "f523c754-567b-455e-953f-ab7bca841d23",
   "metadata": {},
   "source": [
    "#### 12. Write a NumPy program to create an array of the integers from 30 to 70."
   ]
  },
  {
   "cell_type": "code",
   "execution_count": 46,
   "id": "382d623e-970b-4313-82a7-21ca760d248c",
   "metadata": {},
   "outputs": [
    {
     "name": "stdout",
     "output_type": "stream",
     "text": [
      "[30 31 32 33 34 35 36 37 38 39 40 41 42 43 44 45 46 47 48 49 50 51 52 53\n",
      " 54 55 56 57 58 59 60 61 62 63 64 65 66 67 68 69 70]\n"
     ]
    }
   ],
   "source": [
    "arr = np.arange(30, 71)\n",
    "print(arr)"
   ]
  },
  {
   "cell_type": "markdown",
   "id": "dc824e07-672b-4c05-84ef-97ba6002e942",
   "metadata": {},
   "source": [
    "#### 13. Write a NumPy program to create an array of all the even integers from 30 to 70."
   ]
  },
  {
   "cell_type": "code",
   "execution_count": 47,
   "id": "aba9e5fa-b79f-495c-ad69-bcf057ca14ec",
   "metadata": {},
   "outputs": [
    {
     "name": "stdout",
     "output_type": "stream",
     "text": [
      "[30 32 34 36 38 40 42 44 46 48 50 52 54 56 58 60 62 64 66 68 70]\n"
     ]
    }
   ],
   "source": [
    "arr = np.arange(30, 71, 2)\n",
    "print(arr)"
   ]
  },
  {
   "cell_type": "markdown",
   "id": "8e07f119-8889-4161-8c3c-7e17c8980446",
   "metadata": {},
   "source": [
    "#### 14. Write a NumPy program to create a 3x3 identity matrix."
   ]
  },
  {
   "cell_type": "code",
   "execution_count": 51,
   "id": "2e1a855e-5833-449c-a14b-528b3c681c1c",
   "metadata": {},
   "outputs": [
    {
     "name": "stdout",
     "output_type": "stream",
     "text": [
      "[[87 50 40]\n",
      " [62 35 69]\n",
      " [ 4 74 20]]\n"
     ]
    }
   ],
   "source": [
    "arr = np.random.randint(0, 100, 9)\n",
    "print(arr.reshape(3, 3))"
   ]
  },
  {
   "cell_type": "markdown",
   "id": "e8db2923-b6b1-40cb-9840-898b62e2c0b1",
   "metadata": {},
   "source": [
    "#### 15. Write a NumPy program to generate a random number between 0 and 1."
   ]
  },
  {
   "cell_type": "code",
   "execution_count": 67,
   "id": "4ffdbd60-3019-4597-8a8d-e2d0db9524a5",
   "metadata": {},
   "outputs": [
    {
     "name": "stdout",
     "output_type": "stream",
     "text": [
      "[0.29852741]\n"
     ]
    }
   ],
   "source": [
    "random_number = np.random.random(1)\n",
    "print(random_number)"
   ]
  },
  {
   "cell_type": "markdown",
   "id": "639eb9db-d3ed-4072-8662-f26e0d953c76",
   "metadata": {},
   "source": [
    "#### 16. Write a NumPy program to generate an array of 15 random numbers from a standard normal distribution."
   ]
  },
  {
   "cell_type": "code",
   "execution_count": 58,
   "id": "0804b218-c049-40c5-8324-31f2cef465ab",
   "metadata": {},
   "outputs": [
    {
     "name": "stdout",
     "output_type": "stream",
     "text": [
      "[[-0.45304311 -0.42973977 -0.07072723  1.36364135  0.44567777  0.17018195\n",
      "   0.60931989 -0.84818563 -0.00655764 -1.52051995 -0.24501745  0.11827033\n",
      "   0.83275054  0.43753695  1.33139539]]\n"
     ]
    }
   ],
   "source": [
    "arr = np.random.randn(1, 15)\n",
    "print(arr)"
   ]
  },
  {
   "cell_type": "markdown",
   "id": "37a36564-1c42-4423-8eef-319b159dc884",
   "metadata": {},
   "source": [
    "#### 17. Write a NumPy program to create a vector with values ranging from 15 to 55 and print all values except the first and last."
   ]
  },
  {
   "cell_type": "code",
   "execution_count": 69,
   "id": "eb22b5b7-feb7-445a-aeef-a8dcda619721",
   "metadata": {},
   "outputs": [
    {
     "name": "stdout",
     "output_type": "stream",
     "text": [
      "[16 17 18 19 20 21 22 23 24 25 26 27 28 29 30 31 32 33 34 35 36 37 38 39\n",
      " 40 41 42 43 44 45 46 47 48 49 50 51 52 53 54]\n"
     ]
    }
   ],
   "source": [
    "arr = np.arange(15, 56)\n",
    "print(arr[1:-1])"
   ]
  },
  {
   "cell_type": "markdown",
   "id": "f107b455-ff49-4e54-9d67-122c61dc9493",
   "metadata": {},
   "source": [
    "#### 18. Write a NumPy program to create a 3X4 array using and iterate over it."
   ]
  },
  {
   "cell_type": "code",
   "execution_count": 73,
   "id": "bc8e4df7-e33d-4938-8d00-128509c445ba",
   "metadata": {},
   "outputs": [
    {
     "name": "stdout",
     "output_type": "stream",
     "text": [
      "[[ 0  1  2  3]\n",
      " [ 4  5  6  7]\n",
      " [ 8  9 10 11]]\n"
     ]
    }
   ],
   "source": [
    "arr = np.arange(0, 12)\n",
    "print(arr.reshape(3, 4))"
   ]
  },
  {
   "cell_type": "markdown",
   "id": "37a20d5d-23c0-4ef4-ad51-a3355e40a60c",
   "metadata": {},
   "source": [
    "#### 19. Write a NumPy program to create a vector of length 10 with values evenly distributed between 5 and 50."
   ]
  },
  {
   "cell_type": "code",
   "execution_count": 75,
   "id": "b3c23268-f6c1-4ec0-8590-2342edaddd13",
   "metadata": {},
   "outputs": [
    {
     "name": "stdout",
     "output_type": "stream",
     "text": [
      "[ 5 10 15 20 25 30 35 40 45 50]\n"
     ]
    }
   ],
   "source": [
    "v = np.arange(5, 55, 5)\n",
    "print(v)"
   ]
  },
  {
   "cell_type": "markdown",
   "id": "2093b5ba-99e3-45b9-9030-37704347d65a",
   "metadata": {},
   "source": [
    "#### 20. Write a NumPy program to create a vector with values from 0 to 20 and change the sign of the numbers in the range from 9 to 15."
   ]
  },
  {
   "cell_type": "code",
   "execution_count": 93,
   "id": "5da5ec63-32f5-419e-b120-86b57eba7028",
   "metadata": {},
   "outputs": [
    {
     "name": "stdout",
     "output_type": "stream",
     "text": [
      "[  0   1   2   3   4   5   6   7   8  -9 -10 -11 -12 -13 -14 -15  16  17\n",
      "  18  19  20]\n"
     ]
    }
   ],
   "source": [
    "v = np.arange(0, 21)\n",
    "slice = v[9:16]\n",
    "slice[:] *= -1\n",
    "\n",
    "# If changes are made on a slice of an array it reflects on the original array as well\n",
    "print(v)"
   ]
  },
  {
   "cell_type": "markdown",
   "id": "42446ca6-5d94-404c-a860-73c948689c65",
   "metadata": {},
   "source": [
    "#### 21. Write a NumPy program to create a vector of length 5 filled with arbitrary integers from 0 to 10."
   ]
  },
  {
   "cell_type": "code",
   "execution_count": 97,
   "id": "f994fdcb-b5b7-428d-b12f-9285132169df",
   "metadata": {},
   "outputs": [
    {
     "name": "stdout",
     "output_type": "stream",
     "text": [
      "[0 2 4 6 8]\n",
      "[1 3 5 7 9]\n",
      "[9 1 5 8 1]\n"
     ]
    }
   ],
   "source": [
    "v = np.arange(0, 10, 2)\n",
    "print(v)\n",
    "\n",
    "# OR\n",
    "\n",
    "v = np.arange(1, 10, 2)\n",
    "print(v)\n",
    "\n",
    "# OR\n",
    "\n",
    "v = np.random.randint(0 , 10, 5)\n",
    "print(v)"
   ]
  },
  {
   "cell_type": "markdown",
   "id": "a61c3719-91ed-4431-b30d-a7e97d6fb0f1",
   "metadata": {},
   "source": [
    "#### 22. Write a NumPy program to create a 3x4 matrix filled with values from 10 to 21."
   ]
  },
  {
   "cell_type": "code",
   "execution_count": 103,
   "id": "319fdeee-93ab-4d72-9e4d-a6d378a388fd",
   "metadata": {},
   "outputs": [
    {
     "name": "stdout",
     "output_type": "stream",
     "text": [
      "[[10 11 12 13]\n",
      " [14 15 16 17]\n",
      " [18 19 20 21]]\n"
     ]
    }
   ],
   "source": [
    "arr = np.arange(10, 22)\n",
    "print(arr.reshape(3, 4))"
   ]
  },
  {
   "cell_type": "markdown",
   "id": "47598631-168f-4e37-89e8-605cb90ad601",
   "metadata": {},
   "source": [
    "#### 23. Write a NumPy program to find the number of rows and columns of a given matrix."
   ]
  },
  {
   "cell_type": "code",
   "execution_count": 111,
   "id": "3543e27d-2b30-47fd-8c1d-840c62d5a1a8",
   "metadata": {},
   "outputs": [
    {
     "name": "stdout",
     "output_type": "stream",
     "text": [
      "[[-0.20608413  0.18466381 -0.08258537 -0.24504896 -1.4481344 ]\n",
      " [-2.15509098  0.78533929  1.89478977 -0.04870562 -2.36132685]\n",
      " [-0.90838076  0.79450158  0.76761918  0.01292841  0.83115234]\n",
      " [-0.59454003  0.80251805 -3.17414669  0.907032    0.16561095]\n",
      " [ 0.48786859  0.701319    1.40908561  0.20368553  0.68646335]]\n",
      "Shape of array:  (5, 5)\n"
     ]
    }
   ],
   "source": [
    "arr = np.random.randn(5, 5)\n",
    "print(arr)\n",
    "\n",
    "print(\"Shape of array: \", arr.shape)"
   ]
  },
  {
   "cell_type": "markdown",
   "id": "4dfab5f3-758f-4b68-808c-c172311058ba",
   "metadata": {},
   "source": [
    "#### 24. Write a NumPy program to create a 3x3 identity matrix, i.e. diagonal elements are 1, the rest are 0."
   ]
  },
  {
   "cell_type": "code",
   "execution_count": 142,
   "id": "3da7f0bb-e445-4705-8691-0b0fa03be000",
   "metadata": {},
   "outputs": [
    {
     "name": "stdout",
     "output_type": "stream",
     "text": [
      "[[1 0 0]\n",
      " [0 1 0]\n",
      " [0 0 1]]\n"
     ]
    }
   ],
   "source": [
    "arr = np.diag([1, 1, 1])\n",
    "print(arr)"
   ]
  },
  {
   "cell_type": "markdown",
   "id": "1e2c2527-6581-4e26-a129-bd174577d0bc",
   "metadata": {},
   "source": [
    "#### 25. Write a NumPy program to create a 10x10 matrix, in which the elements on the borders will be equal to 1, and inside 0."
   ]
  },
  {
   "cell_type": "code",
   "execution_count": 139,
   "id": "d4442a48-cc62-4408-9d0a-6d5503efea74",
   "metadata": {},
   "outputs": [
    {
     "name": "stdout",
     "output_type": "stream",
     "text": [
      "[[1. 1. 1. 1. 1. 1. 1. 1. 1. 1.]\n",
      " [1. 0. 0. 0. 0. 0. 0. 0. 0. 1.]\n",
      " [1. 0. 0. 0. 0. 0. 0. 0. 0. 1.]\n",
      " [1. 0. 0. 0. 0. 0. 0. 0. 0. 1.]\n",
      " [1. 0. 0. 0. 0. 0. 0. 0. 0. 1.]\n",
      " [1. 0. 0. 0. 0. 0. 0. 0. 0. 1.]\n",
      " [1. 0. 0. 0. 0. 0. 0. 0. 0. 1.]\n",
      " [1. 0. 0. 0. 0. 0. 0. 0. 0. 1.]\n",
      " [1. 0. 0. 0. 0. 0. 0. 0. 0. 1.]\n",
      " [1. 1. 1. 1. 1. 1. 1. 1. 1. 1.]]\n"
     ]
    }
   ],
   "source": [
    "arr = np.ones(100)\n",
    "arr = arr.reshape(10, 10)\n",
    "arr[1:-1, 1:-1] = 0\n",
    "\n",
    "print(arr)"
   ]
  },
  {
   "cell_type": "markdown",
   "id": "36a27aac-9238-4e9f-8ef8-7142b5a5e026",
   "metadata": {},
   "source": [
    "#### 26. Write a NumPy program to create a 5x5 zero matrix with elements on the main diagonal equal to 1, 2, 3, 4, 5."
   ]
  },
  {
   "cell_type": "code",
   "execution_count": 141,
   "id": "bf20839d-d0df-49ca-9f32-3bfb7d58d8c0",
   "metadata": {},
   "outputs": [
    {
     "name": "stdout",
     "output_type": "stream",
     "text": [
      "[[1 0 0 0 0]\n",
      " [0 2 0 0 0]\n",
      " [0 0 3 0 0]\n",
      " [0 0 0 4 0]\n",
      " [0 0 0 0 5]]\n"
     ]
    }
   ],
   "source": [
    "cnt = 1\n",
    "arr = np.diag([1, 2, 3, 4, 5])\n",
    "\n",
    "print(arr)"
   ]
  },
  {
   "cell_type": "markdown",
   "id": "0fe6ce87-b26b-469b-b05d-643872786391",
   "metadata": {},
   "source": [
    "#### 27. Write a NumPy program to create a 4x4 matrix in which 0 and 1 are staggered, with zeros on the main diagonal."
   ]
  },
  {
   "cell_type": "code",
   "execution_count": 145,
   "id": "3c9b2aef-2496-4372-bcb0-72c0c591ea36",
   "metadata": {},
   "outputs": [
    {
     "name": "stdout",
     "output_type": "stream",
     "text": [
      "[[0. 1. 0. 1.]\n",
      " [1. 0. 1. 0.]\n",
      " [0. 1. 0. 1.]\n",
      " [1. 0. 1. 0.]]\n"
     ]
    }
   ],
   "source": [
    "x = np.zeros((4, 4))\n",
    "\n",
    "# Setting elements in alternate rows and columns to 1\n",
    "# Setting elements in even rows (0-based indexing) and odd columns to 1\n",
    "x[::2, 1::2] = 1\n",
    "\n",
    "# Setting elements in odd rows and even columns to 1\n",
    "x[1::2, ::2] = 1\n",
    "\n",
    "# Printing the modified matrix 'x'\n",
    "print(x)"
   ]
  },
  {
   "cell_type": "markdown",
   "id": "f531f406-c96a-434d-8412-13691599d7e3",
   "metadata": {},
   "source": [
    "#### 28. Write a NumPy program to create a 3x3x3 array filled with arbitrary values."
   ]
  },
  {
   "cell_type": "code",
   "execution_count": 144,
   "id": "134258bb-670d-4312-83cf-c28a7141e3a1",
   "metadata": {},
   "outputs": [
    {
     "name": "stdout",
     "output_type": "stream",
     "text": [
      "[[[ 2 56 32]\n",
      "  [22 10 87]\n",
      "  [20 54 31]]\n",
      "\n",
      " [[12 12 50]\n",
      "  [31 94 93]\n",
      "  [96 28 91]]\n",
      "\n",
      " [[36 21 94]\n",
      "  [36 53  4]\n",
      "  [80 93 36]]]\n"
     ]
    }
   ],
   "source": [
    "arr = np.random.randint(0, 100, 27)\n",
    "print(arr.reshape(3, 3, 3))"
   ]
  },
  {
   "cell_type": "markdown",
   "id": "82617cd7-4135-419a-bb61-a5d82c22b28b",
   "metadata": {},
   "source": [
    "#### 29. Write a NumPy program to compute sum of all elements, sum of each column and sum of each row of a given array."
   ]
  },
  {
   "cell_type": "code",
   "execution_count": 187,
   "id": "a787f63c-fdbe-4291-a7a7-8448b460d460",
   "metadata": {},
   "outputs": [
    {
     "name": "stdout",
     "output_type": "stream",
     "text": [
      "Array: \n",
      "[[78 46  0 75]\n",
      " [49 58 11 99]\n",
      " [48 20 21 77]]\n",
      "Column-wise sum:  [175 124  32 251]\n",
      "Row-wise sum:  [199 217 166]\n"
     ]
    }
   ],
   "source": [
    "arr = np.random.randint(0, 100, 12).reshape(3, 4)\n",
    "print(\"Array: \")\n",
    "print(arr)\n",
    "\n",
    "print(\"Column-wise sum: \", arr.sum(axis = 0))\n",
    "print(\"Row-wise sum: \", arr.sum(axis = 1))"
   ]
  },
  {
   "cell_type": "markdown",
   "id": "1f54d605-bf23-42b2-8ed1-439bcde7fe9a",
   "metadata": {},
   "source": [
    "#### 30. Write a NumPy program to compute the inner product of two given vectors."
   ]
  },
  {
   "cell_type": "code",
   "execution_count": 189,
   "id": "6c41ffd8-733d-4a17-b9c1-66b115915273",
   "metadata": {},
   "outputs": [
    {
     "name": "stdout",
     "output_type": "stream",
     "text": [
      "Array 1: \n",
      "[[13  3 12  8]\n",
      " [14 14  3  4]\n",
      " [ 0  7 10  5]]\n",
      "\n",
      "Array 2: \n",
      "[[ 1  7 10]\n",
      " [14  5  0]\n",
      " [ 2  5  2]\n",
      " [14  5  7]]\n",
      "\n",
      "Dot product: \n",
      "[[191 206 210]\n",
      " [272 203 174]\n",
      " [188 110  55]]\n"
     ]
    }
   ],
   "source": [
    "arr1 = np.random.randint(0, 15, 12).reshape(3, 4)\n",
    "print(\"Array 1: \")\n",
    "print(arr1)\n",
    "arr2 = np.random.randint(0, 15, 12).reshape(4, 3)\n",
    "print(\"\\nArray 2: \")\n",
    "print(arr2)\n",
    "\n",
    "print(\"\\nDot product: \")\n",
    "print(arr1.dot(arr2))"
   ]
  },
  {
   "cell_type": "markdown",
   "id": "219b0e1b-cf8c-44cf-ad2e-8188e2ce6b13",
   "metadata": {},
   "source": [
    "#### 31. Write a NumPy program to add a vector to each row of a given matrix."
   ]
  },
  {
   "cell_type": "code",
   "execution_count": 179,
   "id": "0c47726f-df41-4f1a-9249-fd438f014ea6",
   "metadata": {},
   "outputs": [
    {
     "name": "stdout",
     "output_type": "stream",
     "text": [
      "Array: \n",
      "[[13 13  3]\n",
      " [ 0 14  4]\n",
      " [14 10  8]]\n",
      "\n",
      "Vector: \n",
      "[1 2 3]\n",
      "\n",
      "Array after addition with vector: \n",
      "[[14 15  6]\n",
      " [ 1 16  7]\n",
      " [15 12 11]]\n"
     ]
    }
   ],
   "source": [
    "arr = np.random.randint(0, 20, 9)\n",
    "arr = arr.reshape(3, 3)\n",
    "print(\"Array: \")\n",
    "print(arr)\n",
    "\n",
    "print(\"\\nVector: \")\n",
    "v = np.array([1, 2, 3])\n",
    "print(v)\n",
    "\n",
    "print(\"\\nArray after addition with vector: \")\n",
    "print(arr + v)"
   ]
  },
  {
   "cell_type": "markdown",
   "id": "b6cf0889-a50f-425c-a6c7-d2f5c760eb70",
   "metadata": {},
   "source": [
    "#### 32. Write a NumPy program to compute the x and y coordinates for points on a sine curve and plot the points using matplotlib."
   ]
  },
  {
   "cell_type": "code",
   "execution_count": 195,
   "id": "99be97f9-e821-4a40-b54f-95c14006ece0",
   "metadata": {},
   "outputs": [
    {
     "data": {
      "text/plain": [
       "[<matplotlib.lines.Line2D at 0x13e41903990>]"
      ]
     },
     "execution_count": 195,
     "metadata": {},
     "output_type": "execute_result"
    },
    {
     "data": {
      "image/png": "[encoded data removed]",
      "text/plain": [
       "<Figure size 640x480 with 1 Axes>"
      ]
     },
     "metadata": {},
     "output_type": "display_data"
    }
   ],
   "source": [
    "import matplotlib.pyplot as plt\n",
    "a = np.arange(0, 3 * np.pi, 0.2)\n",
    "b = np.sin(a)\n",
    "plt.plot(a,b)"
   ]
  },
  {
   "cell_type": "markdown",
   "id": "032ab4a2-0adf-406f-8b3c-56cb180a5bc9",
   "metadata": {},
   "source": [
    "#### 33. Write a NumPy program to convert numpy dtypes to native python types."
   ]
  },
  {
   "cell_type": "code",
   "execution_count": 200,
   "id": "708fadab-785e-4dab-a68f-8d12181d2c59",
   "metadata": {},
   "outputs": [
    {
     "name": "stdout",
     "output_type": "stream",
     "text": [
      "<class 'numpy.ndarray'>\n",
      "<class 'int'>\n"
     ]
    }
   ],
   "source": [
    "numpydt = np.array([1])\n",
    "\n",
    "print(type(numpydt))\n",
    "print(type(numpydt.item()))"
   ]
  },
  {
   "cell_type": "markdown",
   "id": "ddd06dab-7927-4f80-b5ba-4f0dd443a96d",
   "metadata": {},
   "source": [
    "#### 34. Write a NumPy program to find the missing data in a given array."
   ]
  },
  {
   "cell_type": "code",
   "execution_count": 203,
   "id": "f7492ad5-447d-4e65-b484-ca619d26b2e0",
   "metadata": {},
   "outputs": [
    {
     "name": "stdout",
     "output_type": "stream",
     "text": [
      "[False False  True False False False]\n"
     ]
    }
   ],
   "source": [
    "arr = np.array([1+2*i, 0, np.nan, np.inf, -np.inf, 5])\n",
    "\n",
    "print(np.isnan(arr))"
   ]
  },
  {
   "cell_type": "markdown",
   "id": "f574b30c-a2c5-4d90-87a3-b2a0dc6de038",
   "metadata": {},
   "source": [
    "#### 35. Write a NumPy program to sort a given array by row and column in ascending order."
   ]
  },
  {
   "cell_type": "code",
   "execution_count": 215,
   "id": "0dc6b5a4-d84b-4617-9f67-50a523e3e44d",
   "metadata": {},
   "outputs": [
    {
     "name": "stdout",
     "output_type": "stream",
     "text": [
      "Array: \n",
      " [[ 0 11  1  3 16]\n",
      " [ 6 27  1 26 23]\n",
      " [11 13 28  2 29]]\n",
      "Sort by Row: \n",
      " [[ 0 11  1  2 16]\n",
      " [ 6 13  1  3 23]\n",
      " [11 27 28 26 29]]\n",
      "Sort by Column: \n",
      " [[ 0  1  3 11 16]\n",
      " [ 1  6 23 26 27]\n",
      " [ 2 11 13 28 29]]\n"
     ]
    }
   ],
   "source": [
    "arr = np.random.randint(0, 30, 15).reshape(3, 5)\n",
    "print(\"Array: \\n\", arr)\n",
    "print(\"Sort by Row: \\n\", np.sort(arr, axis = 0))\n",
    "print(\"Sort by Column: \\n\", np.sort(arr, axis = 1))"
   ]
  },
  {
   "cell_type": "markdown",
   "id": "5edf15b5-b29e-47c1-97e7-3ce76db569de",
   "metadata": {},
   "source": [
    "#### 36. Write a NumPy program to extract all numbers from a given array which are less and greater than a specified number."
   ]
  },
  {
   "cell_type": "code",
   "execution_count": null,
   "id": "9a8e0e43-fbed-4ee4-89b4-cdebf867e907",
   "metadata": {},
   "outputs": [],
   "source": []
  }
 ],
 "metadata": {
  "kernelspec": {
   "display_name": "Python 3 (ipykernel)",
   "language": "python",
   "name": "python3"
  },
  "language_info": {
   "codemirror_mode": {
    "name": "ipython",
    "version": 3
   },
   "file_extension": ".py",
   "mimetype": "text/x-python",
   "name": "python",
   "nbconvert_exporter": "python",
   "pygments_lexer": "ipython3",
   "version": "3.11.7"
  }
 },
 "nbformat": 4,
 "nbformat_minor": 5
}
