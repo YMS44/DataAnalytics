{
 "cells": [
  {
   "cell_type": "code",
   "execution_count": 1,
   "id": "7937631b-193a-4a15-9073-301a001cc16a",
   "metadata": {},
   "outputs": [],
   "source": [
    "import pandas as pd\n",
    "import numpy as np"
   ]
  },
  {
   "cell_type": "code",
   "execution_count": 2,
   "id": "10249e57-0155-447f-ac3c-cbca1134a1e2",
   "metadata": {},
   "outputs": [
    {
     "name": "stdout",
     "output_type": "stream",
     "text": [
      "     total_bill   tip  gender smoker   day    time  size  price_per_person  \\\n",
      "0         16.99  1.01  Female     No   Sun  Dinner     2              8.49   \n",
      "1         10.34  1.66    Male     No   Sun  Dinner     3              3.45   \n",
      "2         21.01  3.50    Male     No   Sun  Dinner     3              7.00   \n",
      "3         23.68  3.31    Male     No   Sun  Dinner     2             11.84   \n",
      "4         24.59  3.61  Female     No   Sun  Dinner     4              6.15   \n",
      "..          ...   ...     ...    ...   ...     ...   ...               ...   \n",
      "239       29.03  5.92    Male     No   Sat  Dinner     3              9.68   \n",
      "240       27.18  2.00  Female    Yes   Sat  Dinner     2             13.59   \n",
      "241       22.67  2.00    Male    Yes   Sat  Dinner     2             11.34   \n",
      "242       17.82  1.75    Male     No   Sat  Dinner     2              8.91   \n",
      "243       18.78  3.00  Female     No  Thur  Dinner     2              9.39   \n",
      "\n",
      "             Payer Name     CC Number Payment ID  \n",
      "0    Christy Cunningham  3.560330e+15    Sun2959  \n",
      "1        Douglas Tucker  4.478070e+15    Sun4608  \n",
      "2        Travis Walters  6.011810e+15    Sun4458  \n",
      "3      Nathaniel Harris  4.676140e+15    Sun5260  \n",
      "4          Tonya Carter  4.832730e+15    Sun2251  \n",
      "..                  ...           ...        ...  \n",
      "239       Michael Avila  5.296070e+15    Sat2657  \n",
      "240      Monica Sanders  3.506810e+15    Sat1766  \n",
      "241          Keith Wong  6.011890e+15    Sat3880  \n",
      "242        Dennis Dixon  4.375220e+12      Sat17  \n",
      "243     Michelle Hardin  3.511450e+15    Thur672  \n",
      "\n",
      "[244 rows x 11 columns]\n"
     ]
    }
   ],
   "source": [
    "df = pd.read_csv(\"../tips.csv\")\n",
    "print(df)"
   ]
  },
  {
   "cell_type": "code",
   "execution_count": 8,
   "id": "49b205c8-d0dc-4e45-b9e1-e3c583227310",
   "metadata": {},
   "outputs": [
    {
     "name": "stdout",
     "output_type": "stream",
     "text": [
      "    total_bill   tip  gender smoker  day    time  size  price_per_person  \\\n",
      "0        16.99  1.01  Female     No  Sun  Dinner     2              8.49   \n",
      "1        10.34  1.66    Male     No  Sun  Dinner     3              3.45   \n",
      "2        21.01  3.50    Male     No  Sun  Dinner     3              7.00   \n",
      "3        23.68  3.31    Male     No  Sun  Dinner     2             11.84   \n",
      "4        24.59  3.61  Female     No  Sun  Dinner     4              6.15   \n",
      "5        25.29  4.71    Male     No  Sun  Dinner     4              6.32   \n",
      "6         8.77  2.00    Male     No  Sun  Dinner     2              4.38   \n",
      "11       35.26  5.00  Female     No  Sun  Dinner     4              8.82   \n",
      "14       14.83  3.02  Female     No  Sun  Dinner     2              7.42   \n",
      "16       10.33  1.67  Female     No  Sun  Dinner     3              3.44   \n",
      "\n",
      "            Payer Name     CC Number Payment ID  \n",
      "0   Christy Cunningham  3.560330e+15    Sun2959  \n",
      "1       Douglas Tucker  4.478070e+15    Sun4608  \n",
      "2       Travis Walters  6.011810e+15    Sun4458  \n",
      "3     Nathaniel Harris  4.676140e+15    Sun5260  \n",
      "4         Tonya Carter  4.832730e+15    Sun2251  \n",
      "5           Erik Smith  2.131400e+14    Sun9679  \n",
      "6   Kristopher Johnson  2.223730e+15    Sun5985  \n",
      "11        Diane Macias  4.577820e+15    Sun6686  \n",
      "14       Vanessa Jones  3.001670e+13    Sun3848  \n",
      "16    Elizabeth Foster  4.240030e+15    Sun9715  \n"
     ]
    }
   ],
   "source": [
    "# 1. Splitting\n",
    "df_grouped = df.groupby('gender')\n",
    "\n",
    "# Note that the output will not have any visible impact, except for a mention of grouping\n",
    "print(df_grouped.head())"
   ]
  },
  {
   "cell_type": "code",
   "execution_count": 5,
   "id": "534aa939-7e78-468a-8633-eed8ed926061",
   "metadata": {},
   "outputs": [
    {
     "name": "stdout",
     "output_type": "stream",
     "text": [
      "gender\n",
      "Female    2.833448\n",
      "Male      3.089618\n",
      "Name: tip, dtype: float64\n"
     ]
    }
   ],
   "source": [
    "# 2. Applying \n",
    "# Calculate the mean tip for each gender\n",
    "mean_tip_by_gender = df_grouped[\"tip\"].mean()\n",
    "print(mean_tip_by_gender)"
   ]
  },
  {
   "cell_type": "code",
   "execution_count": 10,
   "id": "2e0e54c6-4bba-40ee-a9dc-a5ae8f7fb508",
   "metadata": {},
   "outputs": [
    {
     "name": "stdout",
     "output_type": "stream",
     "text": [
      "2.99827868852459\n"
     ]
    }
   ],
   "source": [
    "print(df['tip'].mean())"
   ]
  },
  {
   "cell_type": "code",
   "execution_count": 11,
   "id": "e6dd25db-79c6-4f43-bea2-b1a39e86ed51",
   "metadata": {},
   "outputs": [
    {
     "name": "stdout",
     "output_type": "stream",
     "text": [
      "   total_bill   tip  gender smoker  day    time  size  price_per_person  \\\n",
      "0       16.99  1.01  Female     No  Sun  Dinner     2              8.49   \n",
      "1       10.34  1.66    Male     No  Sun  Dinner     3              3.45   \n",
      "2       21.01  3.50    Male     No  Sun  Dinner     3              7.00   \n",
      "3       23.68  3.31    Male     No  Sun  Dinner     2             11.84   \n",
      "4       24.59  3.61  Female     No  Sun  Dinner     4              6.15   \n",
      "\n",
      "           Payer Name     CC Number Payment ID  \n",
      "0  Christy Cunningham  3.560330e+15    Sun2959  \n",
      "1      Douglas Tucker  4.478070e+15    Sun4608  \n",
      "2      Travis Walters  6.011810e+15    Sun4458  \n",
      "3    Nathaniel Harris  4.676140e+15    Sun5260  \n",
      "4        Tonya Carter  4.832730e+15    Sun2251  \n"
     ]
    }
   ],
   "source": [
    "print(df.head())"
   ]
  },
  {
   "cell_type": "code",
   "execution_count": 14,
   "id": "d24fe698-36fb-4f16-98a6-75af366832f8",
   "metadata": {},
   "outputs": [
    {
     "name": "stdout",
     "output_type": "stream",
     "text": [
      "gender\n",
      "Female    1.0\n",
      "Male      1.0\n",
      "Name: tip, dtype: float64\n",
      "gender\n",
      "Female     6.5\n",
      "Male      10.0\n",
      "Name: tip, dtype: float64\n",
      "gender\n",
      "Female    1.159495\n",
      "Male      1.489102\n",
      "Name: tip, dtype: float64\n",
      "gender\n",
      "Female    1.344428\n",
      "Male      2.217424\n",
      "Name: tip, dtype: float64\n",
      "gender\n",
      "Female     87\n",
      "Male      157\n",
      "Name: tip, dtype: int64\n",
      "gender\n",
      "Female    246.51\n",
      "Male      485.07\n",
      "Name: tip, dtype: float64\n"
     ]
    }
   ],
   "source": [
    "print(df_grouped[\"tip\"].min())\n",
    "print(df_grouped[\"tip\"].max())\n",
    "print(df_grouped[\"tip\"].std())\n",
    "print(df_grouped[\"tip\"].var())\n",
    "print(df_grouped[\"tip\"].count())\n",
    "print(df_grouped[\"tip\"].sum())"
   ]
  },
  {
   "cell_type": "code",
   "execution_count": 15,
   "id": "9f906957-58f2-4ad6-bd07-8db67160bf66",
   "metadata": {},
   "outputs": [],
   "source": [
    "# Creating groups on multiple columns\n",
    "df_grouped = df.groupby(['gender', 'day'])"
   ]
  },
  {
   "cell_type": "code",
   "execution_count": 16,
   "id": "30fa7444-3d7b-441b-a8eb-60bcbe171e7e",
   "metadata": {},
   "outputs": [
    {
     "name": "stdout",
     "output_type": "stream",
     "text": [
      "gender  day \n",
      "Female  Fri     2.781111\n",
      "        Sat     2.801786\n",
      "        Sun     3.367222\n",
      "        Thur    2.575625\n",
      "Male    Fri     2.693000\n",
      "        Sat     3.083898\n",
      "        Sun     3.220345\n",
      "        Thur    2.980333\n",
      "Name: tip, dtype: float64\n"
     ]
    }
   ],
   "source": [
    "# 3. Combining\n",
    "mean_tip_by_gender_day = df_grouped['tip'].mean()\n",
    "print(mean_tip_by_gender_day)"
   ]
  },
  {
   "cell_type": "code",
   "execution_count": 19,
   "id": "bab45777-da22-402d-94fd-1989f2c03239",
   "metadata": {},
   "outputs": [
    {
     "name": "stdout",
     "output_type": "stream",
     "text": [
      "   gender   day       tip        \n",
      "                     mean     sum\n",
      "0  Female   Fri  2.781111   25.03\n",
      "1  Female   Sat  2.801786   78.45\n",
      "2  Female   Sun  3.367222   60.61\n",
      "3  Female  Thur  2.575625   82.42\n",
      "4    Male   Fri  2.693000   26.93\n",
      "5    Male   Sat  3.083898  181.95\n",
      "6    Male   Sun  3.220345  186.78\n",
      "7    Male  Thur  2.980333   89.41\n"
     ]
    }
   ],
   "source": [
    "# agg function\n",
    "# Apply multiple aggregration functions to different columns when grouping data\n",
    "# Calculate both the mean and the sum of the 'tip' column for each combination of 'gender' and 'day'\n",
    "\n",
    "# Group the DataFrame by both 'gender' and 'day' and calculate the mean and sum of 'tip' each combination\n",
    "df_grouped = df.groupby(['gender', 'day']).agg({'tip': ['mean', 'sum']}).reset_index()\n",
    "print(df_grouped)"
   ]
  },
  {
   "cell_type": "code",
   "execution_count": null,
   "id": "b4693b7d-b534-4ea8-8057-47735a05ddca",
   "metadata": {},
   "outputs": [],
   "source": [
    "# When we perform group operations using groupby(), the resulting DataFrame has a hierarchical index, \n",
    "# known as Multiindex, which reflects the groups created by the grouping columns\n",
    "# Resetting the index using reset_index() converts the hierarchical index into a simple integer index, making "
   ]
  },
  {
   "cell_type": "code",
   "execution_count": 24,
   "id": "a8812dc9-85a0-4d05-8a52-a5d57f8776ff",
   "metadata": {},
   "outputs": [
    {
     "name": "stdout",
     "output_type": "stream",
     "text": [
      "   gender   day  mean_tip  total_tip\n",
      "0  Female   Fri  2.781111      25.03\n",
      "1  Female   Sat  2.801786      78.45\n",
      "2  Female   Sun  3.367222      60.61\n",
      "3  Female  Thur  2.575625      82.42\n",
      "4    Male   Fri  2.693000      26.93\n",
      "5    Male   Sat  3.083898     181.95\n",
      "6    Male   Sun  3.220345     186.78\n",
      "7    Male  Thur  2.980333      89.41\n"
     ]
    }
   ],
   "source": [
    "# Rename the columns for clarity\n",
    "df_grouped.columns = ['gender', 'day', 'mean_tip', 'total_tip']\n",
    "print(df_grouped.head(8))"
   ]
  },
  {
   "cell_type": "code",
   "execution_count": 31,
   "id": "5ea1e69f-6e27-4250-83ae-be5d84d28438",
   "metadata": {},
   "outputs": [
    {
     "name": "stdout",
     "output_type": "stream",
     "text": [
      "     A    B    C    D\n",
      "0   A0   B0  NaN  NaN\n",
      "1   A1   B1  NaN  NaN\n",
      "2   A2   B2  NaN  NaN\n",
      "3   A3   B3  NaN  NaN\n",
      "0  NaN  NaN   C0   D0\n",
      "1  NaN  NaN   C1   D1\n",
      "2  NaN  NaN   C2   D2\n",
      "3  NaN  NaN   C3   D3\n"
     ]
    }
   ],
   "source": [
    "# Combining DataFrames\n",
    "# Directly \"glue\" together dataframes\n",
    "\n",
    "data_one = {\"A\": ['A0', 'A1', 'A2', 'A3'], \"B\": ['B0', 'B1', 'B2', 'B3'] }\n",
    "data_two = {\"C\": ['C0', 'C1', 'C2', 'C3'], \"D\": ['D0', 'D1', 'D2', 'D3'] }\n",
    "\n",
    "one = pd.DataFrame(data_one)\n",
    "two = pd.DataFrame(data_two)\n",
    "\n",
    "# Concatenate along rowss\n",
    "axis0 = pd.concat([one, two], axis=0)\n",
    "print(axis0)"
   ]
  },
  {
   "cell_type": "code",
   "execution_count": 32,
   "id": "062e2ddd-45fc-4960-a054-33c412ed024a",
   "metadata": {},
   "outputs": [
    {
     "name": "stdout",
     "output_type": "stream",
     "text": [
      "    A   B   C   D\n",
      "0  A0  B0  C0  D0\n",
      "1  A1  B1  C1  D1\n",
      "2  A2  B2  C2  D2\n",
      "3  A3  B3  C3  D3\n"
     ]
    }
   ],
   "source": [
    "axis1 = pd.concat([one, two], axis=1)\n",
    "print(axis1)"
   ]
  },
  {
   "cell_type": "code",
   "execution_count": 34,
   "id": "a235045a-3cff-4734-93da-6bf1d48f3f8d",
   "metadata": {},
   "outputs": [
    {
     "name": "stdout",
     "output_type": "stream",
     "text": [
      "    A   B\n",
      "0  A0  B0\n",
      "1  A1  B1\n",
      "2  A2  B2\n",
      "3  A3  B3\n",
      "0  C0  D0\n",
      "1  C1  D1\n",
      "2  C2  D2\n",
      "3  C3  D3\n"
     ]
    }
   ],
   "source": [
    "two.columns=one.columns\n",
    "\n",
    "print(pd.concat([one,two]))"
   ]
  },
  {
   "cell_type": "code",
   "execution_count": 35,
   "id": "a9991a95-1efd-4a97-baf6-dd38ee24b230",
   "metadata": {},
   "outputs": [
    {
     "name": "stdout",
     "output_type": "stream",
     "text": [
      "    A   B\n",
      "0  A0  B0\n",
      "1  A1  B1\n",
      "2  A2  B2\n",
      "3  A3  B3\n",
      "4  C0  D0\n",
      "5  C1  D1\n",
      "6  C2  D2\n",
      "7  C3  D3\n"
     ]
    }
   ],
   "source": [
    "print(pd.concat([one,two], ignore_index=True))"
   ]
  },
  {
   "cell_type": "code",
   "execution_count": 36,
   "id": "ef5aa157-f6f4-4460-b5bd-c19e1219b4f4",
   "metadata": {},
   "outputs": [
    {
     "name": "stdout",
     "output_type": "stream",
     "text": [
      "   reg_id   name\n",
      "0       1  Alice\n",
      "1       2    Bob\n",
      "2       3  Carol\n",
      "3       4   Dave\n",
      "   log_id     name\n",
      "0       1   Xavier\n",
      "1       2    Alice\n",
      "2       3  Yolanda\n",
      "3       4      Bob\n"
     ]
    }
   ],
   "source": [
    "# Merge \n",
    "registrations = pd.DataFrame({'reg_id': [1, 2, 3, 4], 'name':['Alice', 'Bob', 'Carol', 'Dave']})\n",
    "logins = pd.DataFrame({'log_id': [1, 2, 3, 4], 'name':['Xavier', 'Alice', 'Yolanda', 'Bob']})\n",
    "\n",
    "print(registrations)\n",
    "print(logins)"
   ]
  },
  {
   "cell_type": "code",
   "execution_count": null,
   "id": "1b7f7151-17e8-49f2-ba4d-ec29d0f9c01d",
   "metadata": {},
   "outputs": [],
   "source": [
    "# Inner Join\n",
    "# Match where the key is present in BOTH tables.\n",
    "# There should be no NaNs due to the join, since by definition to be part of the Inner Hoin we need info in both tables."
   ]
  },
  {
   "cell_type": "code",
   "execution_count": 38,
   "id": "69afc4c1-8906-4722-8faf-c7b226077632",
   "metadata": {},
   "outputs": [
    {
     "name": "stdout",
     "output_type": "stream",
     "text": [
      "   reg_id   name  log_id\n",
      "0       1  Alice       2\n",
      "1       2    Bob       4\n"
     ]
    }
   ],
   "source": [
    "# Notice pd.merge does not take in a list like concat\n",
    "merged_df = pd.merge(registrations, logins, how='inner')\n",
    "print(merged_df)"
   ]
  },
  {
   "cell_type": "code",
   "execution_count": 44,
   "id": "b726982e-a762-4ec5-9018-c818354c24f7",
   "metadata": {},
   "outputs": [],
   "source": [
    "# Pandas reports an error if \"on\" key column isn't in both dataframes\n",
    "# pd.merge(registrations, logins, how='inner', on='reg_id')"
   ]
  },
  {
   "cell_type": "code",
   "execution_count": 45,
   "id": "ad933a95-4d0a-42ce-8569-9aa6b0c6e033",
   "metadata": {},
   "outputs": [
    {
     "name": "stdout",
     "output_type": "stream",
     "text": [
      "   reg_id   name  log_id\n",
      "0       1  Alice     2.0\n",
      "1       2    Bob     4.0\n",
      "2       3  Carol     NaN\n",
      "3       4   Dave     NaN\n"
     ]
    }
   ],
   "source": [
    "# Left Join\n",
    "# Match up AND include all rows from Left Table.\n",
    "merged_df = pd.merge(registrations, logins, how=\"left\")\n",
    "print(merged_df)"
   ]
  },
  {
   "cell_type": "code",
   "execution_count": 46,
   "id": "2b55c4d7-7586-4bbd-88dd-731b4910b6f8",
   "metadata": {},
   "outputs": [
    {
     "name": "stdout",
     "output_type": "stream",
     "text": [
      "   reg_id     name  log_id\n",
      "0     NaN   Xavier       1\n",
      "1     1.0    Alice       2\n",
      "2     NaN  Yolanda       3\n",
      "3     2.0      Bob       4\n"
     ]
    }
   ],
   "source": [
    "# Right Join\n",
    "# Match up AND include all rows from Right Table.\n",
    "merged_df = pd.merge(registrations, logins, how=\"right\")\n",
    "print(merged_df)"
   ]
  },
  {
   "cell_type": "code",
   "execution_count": 47,
   "id": "0326fd82-9664-4111-a17c-3cc81c4d5a49",
   "metadata": {},
   "outputs": [
    {
     "name": "stdout",
     "output_type": "stream",
     "text": [
      "   reg_id     name  log_id\n",
      "0     1.0    Alice     2.0\n",
      "1     2.0      Bob     4.0\n",
      "2     3.0    Carol     NaN\n",
      "3     4.0     Dave     NaN\n",
      "4     NaN   Xavier     1.0\n",
      "5     NaN  Yolanda     3.0\n"
     ]
    }
   ],
   "source": [
    "# Outer Join\n",
    "# Match up all info found in either Left or Right Table.\n",
    "merged_df = pd.merge(registrations, logins, how=\"outer\")\n",
    "print(merged_df)"
   ]
  }
 ],
 "metadata": {
  "kernelspec": {
   "display_name": "Python 3 (ipykernel)",
   "language": "python",
   "name": "python3"
  },
  "language_info": {
   "codemirror_mode": {
    "name": "ipython",
    "version": 3
   },
   "file_extension": ".py",
   "mimetype": "text/x-python",
   "name": "python",
   "nbconvert_exporter": "python",
   "pygments_lexer": "ipython3",
   "version": "3.11.7"
  }
 },
 "nbformat": 4,
 "nbformat_minor": 5
}
