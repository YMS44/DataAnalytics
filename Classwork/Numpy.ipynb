{
 "cells": [
  {
   "cell_type": "code",
   "execution_count": 2,
   "id": "37298136-2c11-47aa-9225-623cd0f26a3c",
   "metadata": {},
   "outputs": [],
   "source": [
    "import numpy as np"
   ]
  },
  {
   "cell_type": "code",
   "execution_count": 3,
   "id": "753946fc-509f-4a85-a4c6-99b3e62caebf",
   "metadata": {},
   "outputs": [],
   "source": [
    "my_list = [1, 3, 5]\n",
    "my_array = np.array([1, 2, 3])"
   ]
  },
  {
   "cell_type": "code",
   "execution_count": 4,
   "id": "2d3fe7e8-04ea-4c26-915e-46801e84ec58",
   "metadata": {},
   "outputs": [
    {
     "name": "stdout",
     "output_type": "stream",
     "text": [
      "<class 'list'>\n"
     ]
    }
   ],
   "source": [
    "print(type(my_list))"
   ]
  },
  {
   "cell_type": "code",
   "execution_count": 5,
   "id": "487215cd-1b1b-4114-a9e3-43a98f9de425",
   "metadata": {},
   "outputs": [
    {
     "name": "stdout",
     "output_type": "stream",
     "text": [
      "[1 3 5]\n"
     ]
    }
   ],
   "source": [
    "# Create a numpy array from a list\n",
    "print(np.array(my_list))"
   ]
  },
  {
   "cell_type": "code",
   "execution_count": 6,
   "id": "567d66f5-c660-49e7-868c-bfc2723c28dc",
   "metadata": {},
   "outputs": [
    {
     "name": "stdout",
     "output_type": "stream",
     "text": [
      "[[1 2 3]\n",
      " [4 5 6]\n",
      " [7 8 9]]\n"
     ]
    }
   ],
   "source": [
    "# Or from a list of list\n",
    "my_matrix = [[1, 2, 3], [4, 5, 6], [7, 8, 9]]\n",
    "print(np.array(my_matrix))"
   ]
  },
  {
   "cell_type": "code",
   "execution_count": 7,
   "id": "e519218b-8522-4196-b9dd-d4b5651e0105",
   "metadata": {},
   "outputs": [
    {
     "name": "stdout",
     "output_type": "stream",
     "text": [
      "[0 1 2 3 4 5 6 7 8 9]\n",
      "[ 0  2  4  6  8 10]\n"
     ]
    }
   ],
   "source": [
    "# Creating arrays using built-in fuctions\n",
    "# Return evenly spaced values within a given interval\n",
    "# start stop step\n",
    "print(np.arange(0, 10))\n",
    "print(np.arange(0,11,2))"
   ]
  },
  {
   "cell_type": "code",
   "execution_count": 8,
   "id": "252649ed-a46c-401d-94df-951092619303",
   "metadata": {},
   "outputs": [
    {
     "name": "stdout",
     "output_type": "stream",
     "text": [
      "[0. 0. 0.]\n",
      "[[0. 0. 0. 0. 0.]\n",
      " [0. 0. 0. 0. 0.]\n",
      " [0. 0. 0. 0. 0.]\n",
      " [0. 0. 0. 0. 0.]\n",
      " [0. 0. 0. 0. 0.]]\n",
      "[1. 1. 1.]\n",
      "[[1. 1. 1.]\n",
      " [1. 1. 1.]\n",
      " [1. 1. 1.]]\n"
     ]
    }
   ],
   "source": [
    "# Generate arrays of zeroes or ones\n",
    "\n",
    "print(np.zeros(3))\n",
    "print(np.zeros((5,5)))\n",
    "print(np.ones(3))\n",
    "print(np.ones((3,3)))"
   ]
  },
  {
   "cell_type": "code",
   "execution_count": 9,
   "id": "d04e41de-d983-4d32-8d5a-e395ab764ab8",
   "metadata": {},
   "outputs": [
    {
     "name": "stdout",
     "output_type": "stream",
     "text": [
      "[ 0.  5. 10.]\n",
      "[0.         0.26315789 0.52631579 0.78947368 1.05263158 1.31578947\n",
      " 1.57894737 1.84210526 2.10526316 2.36842105 2.63157895 2.89473684\n",
      " 3.15789474 3.42105263 3.68421053 3.94736842 4.21052632 4.47368421\n",
      " 4.73684211 5.        ]\n",
      "[0.   0.25 0.5  0.75 1.   1.25 1.5  1.75 2.   2.25 2.5  2.75 3.   3.25\n",
      " 3.5  3.75 4.   4.25 4.5  4.75 5.  ]\n"
     ]
    }
   ],
   "source": [
    "# Return evenly spread numbers over a specified interval\n",
    "# start, stop, number of elements(not step)\n",
    "# Unlike numpy.arange(), the stop value is included in the result\n",
    "# The spacing between values is automatically determined based on the specified amount of values(num)\n",
    "print(np.linspace(0,10,3))\n",
    "print(np.linspace(0,5,20))\n",
    "print(np.linspace(0,5,21))"
   ]
  },
  {
   "cell_type": "code",
   "execution_count": 10,
   "id": "ab95a251-f304-4b5c-b6b2-bf70f03bc56a",
   "metadata": {},
   "outputs": [
    {
     "name": "stdout",
     "output_type": "stream",
     "text": [
      "[0.67938072 0.39345382]\n",
      "[[0.85283223 0.12759953 0.09226369 0.52694374 0.70146559]\n",
      " [0.3037356  0.70287986 0.62180543 0.89919473 0.82774926]\n",
      " [0.81461201 0.13594596 0.34870226 0.54978763 0.61617187]\n",
      " [0.16823205 0.2558783  0.82036912 0.90575996 0.2980498 ]\n",
      " [0.99361497 0.6246071  0.95184089 0.58681472 0.41218195]]\n"
     ]
    }
   ],
   "source": [
    "# Random number arrays\n",
    "print(np.random.rand(2))\n",
    "print(np.random.rand(5,5))"
   ]
  },
  {
   "cell_type": "code",
   "execution_count": 11,
   "id": "72a6e88a-91ca-4a3c-9142-7b5e164d99cc",
   "metadata": {},
   "outputs": [
    {
     "name": "stdout",
     "output_type": "stream",
     "text": [
      "[-1.40109361  1.11637751]\n",
      "[[-1.29376632  1.03479403 -0.8102527   0.69144441 -0.1268092 ]\n",
      " [ 0.43820103 -0.27004351 -0.57530521  0.78912154  0.56074678]\n",
      " [-0.28031207 -0.74821809 -0.00337692  0.891102    2.88551427]\n",
      " [ 1.05807098  1.45647492  0.43566472 -1.51735829  0.41034405]\n",
      " [-2.0339367  -1.4112797   1.54920946 -1.48702686  1.16868299]]\n"
     ]
    }
   ],
   "source": [
    "# From normal distribution\n",
    "print(np.random.randn(2))\n",
    "print(np.random.randn(5,5))"
   ]
  },
  {
   "cell_type": "code",
   "execution_count": 12,
   "id": "990e9382-a2a5-4a39-bb59-96868db0567c",
   "metadata": {},
   "outputs": [
    {
     "name": "stdout",
     "output_type": "stream",
     "text": [
      "40\n"
     ]
    }
   ],
   "source": [
    "# Random integers from low (inclusive) to high (exclusive)\n",
    "print(np.random.randint(1,100))"
   ]
  },
  {
   "cell_type": "code",
   "execution_count": 13,
   "id": "3c85aa58-0837-49c3-8812-239cf2de5dc1",
   "metadata": {},
   "outputs": [
    {
     "name": "stdout",
     "output_type": "stream",
     "text": [
      "[41 57 81 56 67 54 40 77 20]\n"
     ]
    }
   ],
   "source": [
    "# 9 random integers between 1 and 100 will be printed.\n",
    "print(np.random.randint(1,100,9))"
   ]
  },
  {
   "cell_type": "code",
   "execution_count": 14,
   "id": "c7e8612e-ac6e-4486-ac4f-8380b0d4ee44",
   "metadata": {},
   "outputs": [
    {
     "name": "stdout",
     "output_type": "stream",
     "text": [
      "[0.91910903 0.6421956 ]\n"
     ]
    }
   ],
   "source": [
    "# Seeding for reproducable results\n",
    "np.random.seed(77)\n",
    "print(np.random.rand(2))"
   ]
  },
  {
   "cell_type": "code",
   "execution_count": 15,
   "id": "abcea3c6-33c7-40b9-8546-187b6d16b344",
   "metadata": {},
   "outputs": [
    {
     "name": "stdout",
     "output_type": "stream",
     "text": [
      "[ 0  1  2  3  4  5  6  7  8  9 10 11 12 13 14 15 16 17 18 19 20 21 22 23\n",
      " 24]\n",
      "[43 37 24 31 32 39 44 19 32 36]\n"
     ]
    }
   ],
   "source": [
    "# Storing\n",
    "arr = np.arange(25) # numbers from 0 to 24\n",
    "ranarr = np.random.randint(0, 50, 10) # 10 random numbers between 0 and 50\n",
    "print(arr)\n",
    "print(ranarr)"
   ]
  },
  {
   "cell_type": "code",
   "execution_count": 16,
   "id": "cf7bb8f5-f2ab-4252-94e1-f6f212fefaca",
   "metadata": {},
   "outputs": [
    {
     "name": "stdout",
     "output_type": "stream",
     "text": [
      "[[ 0  1  2  3  4]\n",
      " [ 5  6  7  8  9]\n",
      " [10 11 12 13 14]\n",
      " [15 16 17 18 19]\n",
      " [20 21 22 23 24]]\n"
     ]
    }
   ],
   "source": [
    "# reshape: Returns an array containing the same data with a new shape\n",
    "print(arr.reshape(5, 5))"
   ]
  },
  {
   "cell_type": "code",
   "execution_count": 17,
   "id": "f39ab13a-3e0a-463e-b564-214e18f6e172",
   "metadata": {},
   "outputs": [
    {
     "name": "stdout",
     "output_type": "stream",
     "text": [
      "44\n",
      "6\n",
      "19\n"
     ]
    }
   ],
   "source": [
    "# Max, Min and their index positions\n",
    "print(ranarr.max())\n",
    "print(ranarr.argmax()) # returns index of maximum elements\n",
    "print(ranarr.min())"
   ]
  },
  {
   "cell_type": "code",
   "execution_count": 18,
   "id": "14b9b355-fabc-4bc6-b628-b2f239c5cccb",
   "metadata": {},
   "outputs": [
    {
     "name": "stdout",
     "output_type": "stream",
     "text": [
      "[ 0  1  2  3  4  5  6  7  8  9 10]\n"
     ]
    }
   ],
   "source": [
    "# Creating sample array\n",
    "arr = np.arange(0, 11)\n",
    "print(arr)"
   ]
  },
  {
   "cell_type": "code",
   "execution_count": 19,
   "id": "be427664-7fb2-43cb-b1e5-c1bc48d884ea",
   "metadata": {},
   "outputs": [
    {
     "name": "stdout",
     "output_type": "stream",
     "text": [
      "7\n"
     ]
    }
   ],
   "source": [
    "# Bracket indexing and selection - similar to Python lists\n",
    "# Get value at an index\n",
    "print(arr[7])"
   ]
  },
  {
   "cell_type": "code",
   "execution_count": 20,
   "id": "2b96f8e0-1afa-40b8-8ae4-df74b4f037b5",
   "metadata": {},
   "outputs": [
    {
     "name": "stdout",
     "output_type": "stream",
     "text": [
      "[1 2 3 4]\n"
     ]
    }
   ],
   "source": [
    "# Get values in a range\n",
    "print(arr[1:5])"
   ]
  },
  {
   "cell_type": "code",
   "execution_count": 21,
   "id": "06eb751c-7bee-447b-90cf-c1341cff6194",
   "metadata": {},
   "outputs": [
    {
     "name": "stdout",
     "output_type": "stream",
     "text": [
      "[0 1 2 3 4]\n"
     ]
    }
   ],
   "source": [
    "# Get values in a range\n",
    "print(arr[0:5])"
   ]
  },
  {
   "cell_type": "code",
   "execution_count": 22,
   "id": "fdd1414d-1c71-45bb-925c-adf1dee0a4d8",
   "metadata": {},
   "outputs": [
    {
     "name": "stdout",
     "output_type": "stream",
     "text": [
      "[100 100 100 100 100   5   6   7   8   9  10]\n"
     ]
    }
   ],
   "source": [
    "# Broadcasting\n",
    "# Setting a value with index range (Broadcasting)\n",
    "arr[0:5] = 100\n",
    "print(arr)"
   ]
  },
  {
   "cell_type": "code",
   "execution_count": 23,
   "id": "f2b8ba4b-2e97-41d5-a2b0-6ef4e6206966",
   "metadata": {},
   "outputs": [
    {
     "name": "stdout",
     "output_type": "stream",
     "text": [
      "[ 0  1  2  3  4  5  6  7  8  9 10]\n"
     ]
    }
   ],
   "source": [
    "# Reset array, why? will be clear soon\n",
    "arr = np.arange(0, 11)\n",
    "print(arr)"
   ]
  },
  {
   "cell_type": "code",
   "execution_count": 60,
   "id": "3fe537b4-11ea-4ea5-94ce-02f9441b6fed",
   "metadata": {},
   "outputs": [
    {
     "name": "stdout",
     "output_type": "stream",
     "text": [
      "[ 0 99 99 99 99  5]\n"
     ]
    }
   ],
   "source": [
    "# Important notes on Slices\n",
    "slice_of_arr = arr[0:6]\n",
    "print(slice_of_arr)"
   ]
  },
  {
   "cell_type": "code",
   "execution_count": 61,
   "id": "c6106950-1d7a-455e-b7be-731893b15504",
   "metadata": {},
   "outputs": [
    {
     "name": "stdout",
     "output_type": "stream",
     "text": [
      "[99 99 99 99 99 99]\n",
      "[99 99 99 99 99 99  6  7  8  9]\n"
     ]
    }
   ],
   "source": [
    "# Change Slice\n",
    "slice_of_arr[:] = 99\n",
    "print(slice_of_arr)\n",
    "print(arr)\n",
    "# Changes made are also there in the original array!\n",
    "# Data is not copied, it is a view of the original array!\n",
    "# This avoids memory problems"
   ]
  },
  {
   "cell_type": "code",
   "execution_count": 26,
   "id": "b6241207-2e40-410b-9c8d-8217ac821a68",
   "metadata": {},
   "outputs": [
    {
     "name": "stdout",
     "output_type": "stream",
     "text": [
      "[ 0  1  2  3  4  5  6  7  8  9 10]\n"
     ]
    }
   ],
   "source": [
    "# To get a copy we need to be explicit\n",
    "arr_copy = arr.copy()\n",
    "print(arr_copy)"
   ]
  },
  {
   "cell_type": "code",
   "execution_count": 27,
   "id": "da48f175-8dea-48d7-b8dd-daa2bd44d234",
   "metadata": {},
   "outputs": [
    {
     "name": "stdout",
     "output_type": "stream",
     "text": [
      "[[ 5 10 15]\n",
      " [20 25 30]\n",
      " [30 40 45]]\n"
     ]
    }
   ],
   "source": [
    "# 2D arrays\n",
    "arr_2D = np.array(([5, 10, 15], [20, 25, 30], [30, 40, 45]))\n",
    "print(arr_2D)"
   ]
  },
  {
   "cell_type": "code",
   "execution_count": 28,
   "id": "12617db8-c54d-4547-90ae-ae970d105158",
   "metadata": {},
   "outputs": [
    {
     "name": "stdout",
     "output_type": "stream",
     "text": [
      "[20 25 30]\n"
     ]
    }
   ],
   "source": [
    "# Indexing row\n",
    "print(arr_2D[1])"
   ]
  },
  {
   "cell_type": "code",
   "execution_count": 29,
   "id": "60c5d172-f56a-45c3-8ea1-7dfb29eee5ea",
   "metadata": {},
   "outputs": [
    {
     "name": "stdout",
     "output_type": "stream",
     "text": [
      "20\n",
      "20\n"
     ]
    }
   ],
   "source": [
    "# Getting individual element value\n",
    "# Syntax is arr_2D[row][column] or arr_2D[row, col]\n",
    "print(arr_2D[1][0])\n",
    "print(arr_2D[1, 0])"
   ]
  },
  {
   "cell_type": "code",
   "execution_count": 30,
   "id": "8786dd71-e98c-4a75-b9a4-49e1eb1f1258",
   "metadata": {},
   "outputs": [
    {
     "name": "stdout",
     "output_type": "stream",
     "text": [
      "[[ 5 10 15]\n",
      " [20 25 30]]\n",
      "[[10 15]\n",
      " [25 30]]\n",
      "[[15]\n",
      " [30]]\n"
     ]
    }
   ],
   "source": [
    "# 2D array slicing\n",
    "# Shape (2,2) from top right corner\n",
    "print(arr_2D[:2, 0:])\n",
    "print(arr_2D[:2, 1:])\n",
    "print(arr_2D[:2, 2:])"
   ]
  },
  {
   "cell_type": "code",
   "execution_count": 31,
   "id": "716bbe84-d283-42f5-afc6-c3f9aac6527e",
   "metadata": {},
   "outputs": [
    {
     "name": "stdout",
     "output_type": "stream",
     "text": [
      "[ 0  1  2  3  4  5  6  7  8  9 10]\n",
      "[False False False False False  True  True  True  True  True  True]\n"
     ]
    }
   ],
   "source": [
    "# Conditional Selection\n",
    "arr = np.arange(0, 11)\n",
    "print(arr)\n",
    "\n",
    "# Check each element of the array against the condition arr>4\n",
    "# which returns a boolean array where\n",
    "# each element is True if the corresponding element in arr is greater than 4, and False otherwise\n",
    "print(arr>4)"
   ]
  },
  {
   "cell_type": "code",
   "execution_count": 32,
   "id": "936d9bc3-e534-4814-9583-5233b68f5aa1",
   "metadata": {},
   "outputs": [
    {
     "name": "stdout",
     "output_type": "stream",
     "text": [
      "[False False False False False  True  True  True  True  True  True]\n"
     ]
    }
   ],
   "source": [
    "# Store boolean results in another array\n",
    "bool_arr = arr> 4\n",
    "print(bool_arr)"
   ]
  },
  {
   "cell_type": "code",
   "execution_count": 33,
   "id": "05f9206f-96a1-4c7a-82d0-d372e1b679c2",
   "metadata": {},
   "outputs": [
    {
     "name": "stdout",
     "output_type": "stream",
     "text": [
      "[ 5  6  7  8  9 10]\n",
      "[ 5  6  7  8  9 10]\n"
     ]
    }
   ],
   "source": [
    "# Select only those elements from the arr array where\n",
    "# the corresponding element in bool_arr is True\n",
    "# It effectively filters out the elements of arr where the condition arr>4 is True\n",
    "print(arr[bool_arr])\n",
    "print(arr[arr> 4])"
   ]
  },
  {
   "cell_type": "code",
   "execution_count": 34,
   "id": "6086907b-ecad-48f9-a96b-f7da3762cdba",
   "metadata": {},
   "outputs": [
    {
     "name": "stdout",
     "output_type": "stream",
     "text": [
      "[0 1 2 3 4 5 6 7 8 9]\n"
     ]
    }
   ],
   "source": [
    "arr = np.arange(0, 10)\n",
    "print(arr)"
   ]
  },
  {
   "cell_type": "code",
   "execution_count": 35,
   "id": "51363b22-13ee-40f2-bd85-fbabd4d69b23",
   "metadata": {},
   "outputs": [
    {
     "name": "stdout",
     "output_type": "stream",
     "text": [
      "[ 0  2  4  6  8 10 12 14 16 18]\n",
      "[0 0 0 0 0 0 0 0 0 0]\n",
      "[ 0  1  4  9 16 25 36 49 64 81]\n"
     ]
    }
   ],
   "source": [
    "# Basic arithmetic\n",
    "print(arr+arr)\n",
    "print(arr-arr)\n",
    "print(arr*arr)"
   ]
  },
  {
   "cell_type": "code",
   "execution_count": 36,
   "id": "1b0f0f5e-3711-45fc-abb3-5170eb0b7e28",
   "metadata": {},
   "outputs": [
    {
     "name": "stdout",
     "output_type": "stream",
     "text": [
      "[nan  1.  1.  1.  1.  1.  1.  1.  1.  1.]\n"
     ]
    },
    {
     "name": "stderr",
     "output_type": "stream",
     "text": [
      "C:\\Users\\Administrator.DAI-PC2\\AppData\\Local\\Temp\\ipykernel_5384\\2200395042.py:1: RuntimeWarning: invalid value encountered in divide\n",
      "  print(arr/arr)\n"
     ]
    }
   ],
   "source": [
    "print(arr/arr)\n",
    "# This will raise a Warning on division by zero, but not an error!\n",
    "# It just fills the spot with nan"
   ]
  },
  {
   "cell_type": "code",
   "execution_count": 37,
   "id": "de9a6e07-2947-40ca-a6ae-e0078980f046",
   "metadata": {},
   "outputs": [
    {
     "name": "stdout",
     "output_type": "stream",
     "text": [
      "[       inf 1.         0.5        0.33333333 0.25       0.2\n",
      " 0.16666667 0.14285714 0.125      0.11111111]\n"
     ]
    },
    {
     "name": "stderr",
     "output_type": "stream",
     "text": [
      "C:\\Users\\Administrator.DAI-PC2\\AppData\\Local\\Temp\\ipykernel_5384\\95783187.py:2: RuntimeWarning: divide by zero encountered in divide\n",
      "  print(1/arr)\n"
     ]
    }
   ],
   "source": [
    "# Also a warning (but not an error) relating to infinty\n",
    "print(1/arr)"
   ]
  },
  {
   "cell_type": "code",
   "execution_count": 38,
   "id": "29a54aaf-6f19-405f-be9e-979368a72e47",
   "metadata": {},
   "outputs": [
    {
     "name": "stdout",
     "output_type": "stream",
     "text": [
      "[  0   1   8  27  64 125 216 343 512 729]\n"
     ]
    }
   ],
   "source": [
    "print(arr**3)"
   ]
  },
  {
   "cell_type": "code",
   "execution_count": 39,
   "id": "7bf1d97e-74f4-4701-8c45-191dfd145aba",
   "metadata": {},
   "outputs": [
    {
     "name": "stdout",
     "output_type": "stream",
     "text": [
      "[0.         1.         1.41421356 1.73205081 2.         2.23606798\n",
      " 2.44948974 2.64575131 2.82842712 3.        ]\n"
     ]
    }
   ],
   "source": [
    "# Universal functions\n",
    "# Taking Square Roots\n",
    "print(np.sqrt(arr))"
   ]
  },
  {
   "cell_type": "code",
   "execution_count": 40,
   "id": "4ed15f0d-6d6e-4670-ad63-553392161807",
   "metadata": {},
   "outputs": [
    {
     "name": "stdout",
     "output_type": "stream",
     "text": [
      "[1.00000000e+00 2.71828183e+00 7.38905610e+00 2.00855369e+01\n",
      " 5.45981500e+01 1.48413159e+02 4.03428793e+02 1.09663316e+03\n",
      " 2.98095799e+03 8.10308393e+03]\n"
     ]
    }
   ],
   "source": [
    "# Calculating exponential (e^)\n",
    "print(np.exp(arr))"
   ]
  },
  {
   "cell_type": "code",
   "execution_count": 41,
   "id": "788b8a0e-ba24-4736-aa67-0a41aa6a7b60",
   "metadata": {},
   "outputs": [
    {
     "name": "stdout",
     "output_type": "stream",
     "text": [
      "[ 0.          0.84147098  0.90929743  0.14112001 -0.7568025  -0.95892427\n",
      " -0.2794155   0.6569866   0.98935825  0.41211849]\n"
     ]
    }
   ],
   "source": [
    "# Trigonometric Functions like sine\n",
    "print(np.sin(arr))"
   ]
  },
  {
   "cell_type": "code",
   "execution_count": 42,
   "id": "8355f88f-5551-4f7c-ba4d-effe3db18956",
   "metadata": {},
   "outputs": [
    {
     "name": "stdout",
     "output_type": "stream",
     "text": [
      "[      -inf 0.         0.69314718 1.09861229 1.38629436 1.60943791\n",
      " 1.79175947 1.94591015 2.07944154 2.19722458]\n"
     ]
    },
    {
     "name": "stderr",
     "output_type": "stream",
     "text": [
      "C:\\Users\\Administrator.DAI-PC2\\AppData\\Local\\Temp\\ipykernel_5384\\3278392787.py:2: RuntimeWarning: divide by zero encountered in log\n",
      "  print(np.log(arr))\n"
     ]
    }
   ],
   "source": [
    "# Taking the Natural Logarithm\n",
    "print(np.log(arr))"
   ]
  },
  {
   "cell_type": "code",
   "execution_count": 43,
   "id": "d4e95a89-96f9-43e5-b73d-8648a8c856f8",
   "metadata": {},
   "outputs": [
    {
     "name": "stdout",
     "output_type": "stream",
     "text": [
      "45\n",
      "4.5\n",
      "9\n",
      "0\n",
      "8.25\n",
      "2.8722813232690143\n"
     ]
    }
   ],
   "source": [
    "# Summary statistics\n",
    "print(arr.sum())\n",
    "print(arr.mean())\n",
    "print(arr.max())\n",
    "print(arr.min())\n",
    "print(arr.var())\n",
    "print(arr.std())"
   ]
  },
  {
   "cell_type": "code",
   "execution_count": 44,
   "id": "26e8df0f-f041-4c42-8917-5966d33f6722",
   "metadata": {},
   "outputs": [
    {
     "name": "stdout",
     "output_type": "stream",
     "text": [
      "[[ 1  2  3  4]\n",
      " [ 5  6  7  8]\n",
      " [ 9 10 11 12]]\n"
     ]
    }
   ],
   "source": [
    "# 2D arrays \n",
    "# This is a 2-Dimensional array with 3 rows and 4 columns\n",
    "arr_2D = np.array([[1, 2, 3, 4], [5, 6, 7, 8], [9, 10, 11, 12]])\n",
    "print(arr_2D)"
   ]
  },
  {
   "cell_type": "code",
   "execution_count": 45,
   "id": "6c2fad91-3b11-41bb-a295-7af969af58cf",
   "metadata": {},
   "outputs": [
    {
     "name": "stdout",
     "output_type": "stream",
     "text": [
      "[15 18 21 24]\n"
     ]
    }
   ],
   "source": [
    "# Sum all the columns for each row (e.g. 1+5+9, 2+6+10, etc)\n",
    "print(arr_2D.sum(axis=0))"
   ]
  },
  {
   "cell_type": "code",
   "execution_count": 46,
   "id": "1d0b5d57-fcf8-4749-b6b2-dad35a5d46bb",
   "metadata": {},
   "outputs": [
    {
     "name": "stdout",
     "output_type": "stream",
     "text": [
      "(3, 4)\n"
     ]
    }
   ],
   "source": [
    "# Row and column count\n",
    "print(arr_2D.shape)"
   ]
  },
  {
   "cell_type": "code",
   "execution_count": 47,
   "id": "528bfa70-a358-4fe3-b141-74aa1c5aed6a",
   "metadata": {},
   "outputs": [
    {
     "name": "stdout",
     "output_type": "stream",
     "text": [
      "[10 26 42]\n"
     ]
    }
   ],
   "source": [
    "print(arr_2D.sum(axis=1))"
   ]
  },
  {
   "cell_type": "code",
   "execution_count": 48,
   "id": "a3fdcb48-517b-4943-9289-57fd021fb54c",
   "metadata": {},
   "outputs": [
    {
     "name": "stdout",
     "output_type": "stream",
     "text": [
      "78\n"
     ]
    }
   ],
   "source": [
    "print(arr_2D.sum())"
   ]
  }
 ],
 "metadata": {
  "kernelspec": {
   "display_name": "Python 3 (ipykernel)",
   "language": "python",
   "name": "python3"
  },
  "language_info": {
   "codemirror_mode": {
    "name": "ipython",
    "version": 3
   },
   "file_extension": ".py",
   "mimetype": "text/x-python",
   "name": "python",
   "nbconvert_exporter": "python",
   "pygments_lexer": "ipython3",
   "version": "3.11.7"
  }
 },
 "nbformat": 4,
 "nbformat_minor": 5
}
