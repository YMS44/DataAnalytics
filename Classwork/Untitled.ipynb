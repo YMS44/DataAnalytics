{
 "cells": [
  {
   "cell_type": "code",
   "execution_count": 1,
   "id": "66f3dd17",
   "metadata": {},
   "outputs": [],
   "source": [
    "import numpy as np"
   ]
  },
  {
   "cell_type": "markdown",
   "id": "9bec4507",
   "metadata": {},
   "source": [
    "#### Write a NumPy program to extract all numbers from a given array which are less and greater than a specified number."
   ]
  },
  {
   "cell_type": "code",
   "execution_count": 11,
   "id": "f32c0ac9",
   "metadata": {},
   "outputs": [
    {
     "name": "stdout",
     "output_type": "stream",
     "text": [
      "Numbers greater than specified number 45\n",
      "--> [67 83 83 97 86 76 85 50 66 46 83 47 54 46 58 87 52 97]\n",
      "Numbers less than specified number 45\n",
      "--> [17 14  5 35 40 25 44]\n"
     ]
    }
   ],
   "source": [
    "arr = np.random.randint(1, 100, 25).reshape(5, 5)\n",
    "specified_number = 45\n",
    "\n",
    "print(\"Numbers greater than specified number\", specified_number)\n",
    "print(\"-->\", arr[arr>specified_number])\n",
    "\n",
    "print(\"Numbers less than specified number\", specified_number)\n",
    "print(\"-->\", arr[arr<specified_number])"
   ]
  },
  {
   "cell_type": "markdown",
   "id": "41ae9302",
   "metadata": {},
   "source": [
    "#### Write a NumPy program to replace all numbers in a given array which is equal, less and greater to a given number."
   ]
  },
  {
   "cell_type": "code",
   "execution_count": 23,
   "id": "c281d8cd",
   "metadata": {},
   "outputs": [
    {
     "name": "stdout",
     "output_type": "stream",
     "text": [
      "Original array: \n",
      "[[51 75 85 42  9]\n",
      " [81 23 62 35 25]\n",
      " [87 27 16 33 70]\n",
      " [65 87 38 73 19]\n",
      " [78 93 23 35 28]]\n",
      "\n",
      "Replacing numbers less than specified number 45 with 33.\n",
      "[[51 75 85 33 33]\n",
      " [81 33 62 33 33]\n",
      " [87 33 33 33 70]\n",
      " [65 87 33 73 33]\n",
      " [78 93 33 33 33]]\n",
      "\n",
      "Replacing numbers equal to specified number 45 with 33.\n",
      "[[51 75 85 42  9]\n",
      " [81 23 62 35 25]\n",
      " [87 27 16 33 70]\n",
      " [65 87 38 73 19]\n",
      " [78 93 23 35 28]]\n",
      "\n",
      "Replacing numbers greater than specified number 45 with 33.\n",
      "[[33 33 33 42  9]\n",
      " [33 23 33 35 25]\n",
      " [33 27 16 33 33]\n",
      " [33 33 38 33 19]\n",
      " [33 33 23 35 28]]\n"
     ]
    }
   ],
   "source": [
    "arr = np.random.randint(1, 100, 25).reshape(5, 5)\n",
    "specified_number = 45\n",
    "replacement = 33\n",
    "print(\"Original array: \")\n",
    "print(arr)\n",
    "print(f\"\\nReplacing numbers less than specified number {specified_number} with {replacement}.\")\n",
    "print(np.where(arr < specified_number, replacement, arr))\n",
    "print(f\"\\nReplacing numbers equal to specified number {specified_number} with {replacement}.\")\n",
    "print(np.where(arr == specified_number, replacement, arr))\n",
    "print(f\"\\nReplacing numbers greater than specified number {specified_number} with {replacement}.\")\n",
    "print(np.where(arr > specified_number, replacement, arr))"
   ]
  },
  {
   "cell_type": "markdown",
   "id": "8e31b734",
   "metadata": {},
   "source": [
    "#### Write a NumPy program to create an array of equal shape and data type of a given array."
   ]
  },
  {
   "cell_type": "code",
   "execution_count": 30,
   "id": "ad3c4e08",
   "metadata": {},
   "outputs": [
    {
     "name": "stdout",
     "output_type": "stream",
     "text": [
      "[[57 38 26 70]\n",
      " [46 72 59 79]\n",
      " [14 36 97  8]]\n"
     ]
    }
   ],
   "source": [
    "arr1 = np.random.randint(0, 100, 12).reshape(3, 4)\n",
    "rows = arr1.shape[0]\n",
    "columns = arr1.shape[1]\n",
    "\n",
    "arr2 = np.random.randint(0, 100, rows*columns).reshape(rows, columns)\n",
    "print(arr2)"
   ]
  },
  {
   "cell_type": "markdown",
   "id": "b83156bc",
   "metadata": {},
   "source": [
    "#### Write a NumPy program to create a three-dimension array with shape (3,5,4) and set to a variable."
   ]
  },
  {
   "cell_type": "code",
   "execution_count": 33,
   "id": "d7a81b6f",
   "metadata": {},
   "outputs": [
    {
     "name": "stdout",
     "output_type": "stream",
     "text": [
      "[[[402 714 713  61]\n",
      "  [906 505 355 916]\n",
      "  [817 868  76  99]\n",
      "  [223   5 146 202]\n",
      "  [774 440 179 617]]\n",
      "\n",
      " [[219 201 901 269]\n",
      "  [544  44 311 424]\n",
      "  [651 213 567 730]\n",
      "  [455 180 893 633]\n",
      "  [213  91 242 629]]\n",
      "\n",
      " [[410 655 300 453]\n",
      "  [484 624 232 942]\n",
      "  [932  18 447 598]\n",
      "  [285 548 204 683]\n",
      "  [259 333 969 131]]]\n"
     ]
    }
   ],
   "source": [
    "three_D_array = np.random.randint(1, 1000, 60).reshape(3, 5, 4)\n",
    "print(three_D_array)"
   ]
  },
  {
   "cell_type": "markdown",
   "id": "cb85cfa3",
   "metadata": {},
   "source": [
    "#### Write a NumPy program to multiply two given arrays of same size element-by-element."
   ]
  },
  {
   "cell_type": "code",
   "execution_count": 36,
   "id": "3ed33f83",
   "metadata": {},
   "outputs": [
    {
     "name": "stdout",
     "output_type": "stream",
     "text": [
      "Array 1: \n",
      " [[ 3  3 15]\n",
      " [15 19 13]\n",
      " [ 2 15  8]]\n",
      "\n",
      "Array 2: \n",
      " [[ 9  5  0]\n",
      " [ 8 14  9]\n",
      " [ 0 15  8]]\n",
      "\n",
      "Element wise multiplication: \n",
      " [[ 27  15   0]\n",
      " [120 266 117]\n",
      " [  0 225  64]]\n"
     ]
    }
   ],
   "source": [
    "arr1 = np.random.randint(0, 20, 9).reshape(3, 3)\n",
    "arr2 = np.random.randint(0, 20, 9).reshape(3, 3)\n",
    "\n",
    "print(\"Array 1: \\n\", arr1)\n",
    "print(\"\\nArray 2: \\n\", arr2)\n",
    "print(\"\\nElement wise multiplication: \\n\", arr1*arr2)"
   ]
  },
  {
   "cell_type": "code",
   "execution_count": null,
   "id": "541cf026",
   "metadata": {},
   "outputs": [],
   "source": []
  }
 ],
 "metadata": {
  "kernelspec": {
   "display_name": "Python 3 (ipykernel)",
   "language": "python",
   "name": "python3"
  },
  "language_info": {
   "codemirror_mode": {
    "name": "ipython",
    "version": 3
   },
   "file_extension": ".py",
   "mimetype": "text/x-python",
   "name": "python",
   "nbconvert_exporter": "python",
   "pygments_lexer": "ipython3",
   "version": "3.11.7"
  }
 },
 "nbformat": 4,
 "nbformat_minor": 5
}
