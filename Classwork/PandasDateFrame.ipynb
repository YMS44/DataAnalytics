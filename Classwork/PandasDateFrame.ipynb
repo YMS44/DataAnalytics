{
 "cells": [
  {
   "cell_type": "code",
   "execution_count": 67,
   "id": "aa2dda41-6dad-4e58-af2c-21c14952cca2",
   "metadata": {},
   "outputs": [],
   "source": [
    "import pandas as pd\n",
    "import numpy as np"
   ]
  },
  {
   "cell_type": "code",
   "execution_count": 68,
   "id": "31bd039d-0ce3-465d-aa9d-bc8815902bb1",
   "metadata": {},
   "outputs": [
    {
     "name": "stdout",
     "output_type": "stream",
     "text": [
      "     total_bill   tip  gender smoker   day    time  size  price_per_person  \\\n",
      "0         16.99  1.01  Female     No   Sun  Dinner     2              8.49   \n",
      "1         10.34  1.66    Male     No   Sun  Dinner     3              3.45   \n",
      "2         21.01  3.50    Male     No   Sun  Dinner     3              7.00   \n",
      "3         23.68  3.31    Male     No   Sun  Dinner     2             11.84   \n",
      "4         24.59  3.61  Female     No   Sun  Dinner     4              6.15   \n",
      "..          ...   ...     ...    ...   ...     ...   ...               ...   \n",
      "239       29.03  5.92    Male     No   Sat  Dinner     3              9.68   \n",
      "240       27.18  2.00  Female    Yes   Sat  Dinner     2             13.59   \n",
      "241       22.67  2.00    Male    Yes   Sat  Dinner     2             11.34   \n",
      "242       17.82  1.75    Male     No   Sat  Dinner     2              8.91   \n",
      "243       18.78  3.00  Female     No  Thur  Dinner     2              9.39   \n",
      "\n",
      "             Payer Name     CC Number Payment ID  \n",
      "0    Christy Cunningham  3.560330e+15    Sun2959  \n",
      "1        Douglas Tucker  4.478070e+15    Sun4608  \n",
      "2        Travis Walters  6.011810e+15    Sun4458  \n",
      "3      Nathaniel Harris  4.676140e+15    Sun5260  \n",
      "4          Tonya Carter  4.832730e+15    Sun2251  \n",
      "..                  ...           ...        ...  \n",
      "239       Michael Avila  5.296070e+15    Sat2657  \n",
      "240      Monica Sanders  3.506810e+15    Sat1766  \n",
      "241          Keith Wong  6.011890e+15    Sat3880  \n",
      "242        Dennis Dixon  4.375220e+12      Sat17  \n",
      "243     Michelle Hardin  3.511450e+15    Thur672  \n",
      "\n",
      "[244 rows x 11 columns]\n"
     ]
    }
   ],
   "source": [
    "df = pd.read_csv(\"../tips.csv\")\n",
    "print(df)"
   ]
  },
  {
   "cell_type": "code",
   "execution_count": 69,
   "id": "0e90d144-3e8e-4b34-bcc8-a1e976ed61d5",
   "metadata": {},
   "outputs": [
    {
     "name": "stdout",
     "output_type": "stream",
     "text": [
      "Index(['total_bill', 'tip', 'gender', 'smoker', 'day', 'time', 'size',\n",
      "       'price_per_person', 'Payer Name', 'CC Number', 'Payment ID'],\n",
      "      dtype='object')\n"
     ]
    }
   ],
   "source": [
    "print(df.columns) # column names"
   ]
  },
  {
   "cell_type": "code",
   "execution_count": 70,
   "id": "002018c6-1bb6-44ae-a492-18fadd9e6169",
   "metadata": {},
   "outputs": [
    {
     "name": "stdout",
     "output_type": "stream",
     "text": [
      "RangeIndex(start=0, stop=244, step=1)\n"
     ]
    }
   ],
   "source": [
    "print(df.index) # Index"
   ]
  },
  {
   "cell_type": "code",
   "execution_count": 71,
   "id": "df155187-2830-451d-8d1a-d9a7f023d9d7",
   "metadata": {},
   "outputs": [
    {
     "name": "stdout",
     "output_type": "stream",
     "text": [
      "   total_bill   tip  gender smoker  day    time  size  price_per_person  \\\n",
      "0       16.99  1.01  Female     No  Sun  Dinner     2              8.49   \n",
      "1       10.34  1.66    Male     No  Sun  Dinner     3              3.45   \n",
      "2       21.01  3.50    Male     No  Sun  Dinner     3              7.00   \n",
      "3       23.68  3.31    Male     No  Sun  Dinner     2             11.84   \n",
      "4       24.59  3.61  Female     No  Sun  Dinner     4              6.15   \n",
      "5       25.29  4.71    Male     No  Sun  Dinner     4              6.32   \n",
      "\n",
      "           Payer Name     CC Number Payment ID  \n",
      "0  Christy Cunningham  3.560330e+15    Sun2959  \n",
      "1      Douglas Tucker  4.478070e+15    Sun4608  \n",
      "2      Travis Walters  6.011810e+15    Sun4458  \n",
      "3    Nathaniel Harris  4.676140e+15    Sun5260  \n",
      "4        Tonya Carter  4.832730e+15    Sun2251  \n",
      "5          Erik Smith  2.131400e+14    Sun9679  \n"
     ]
    }
   ],
   "source": [
    "print(df.head(6)) # Fisrt 6 rows"
   ]
  },
  {
   "cell_type": "code",
   "execution_count": 72,
   "id": "ba65492f-bcef-4d55-9843-0085f79bfc85",
   "metadata": {},
   "outputs": [
    {
     "name": "stdout",
     "output_type": "stream",
     "text": [
      "     total_bill   tip  gender smoker   day    time  size  price_per_person  \\\n",
      "240       27.18  2.00  Female    Yes   Sat  Dinner     2             13.59   \n",
      "241       22.67  2.00    Male    Yes   Sat  Dinner     2             11.34   \n",
      "242       17.82  1.75    Male     No   Sat  Dinner     2              8.91   \n",
      "243       18.78  3.00  Female     No  Thur  Dinner     2              9.39   \n",
      "\n",
      "          Payer Name     CC Number Payment ID  \n",
      "240   Monica Sanders  3.506810e+15    Sat1766  \n",
      "241       Keith Wong  6.011890e+15    Sat3880  \n",
      "242     Dennis Dixon  4.375220e+12      Sat17  \n",
      "243  Michelle Hardin  3.511450e+15    Thur672  \n"
     ]
    }
   ],
   "source": [
    "print(df.tail(4)) # Last 4 rows"
   ]
  },
  {
   "cell_type": "code",
   "execution_count": 73,
   "id": "832fbbed-f43b-4d29-b62e-82e2f362d49f",
   "metadata": {},
   "outputs": [
    {
     "name": "stdout",
     "output_type": "stream",
     "text": [
      "<class 'pandas.core.frame.DataFrame'>\n",
      "RangeIndex: 244 entries, 0 to 243\n",
      "Data columns (total 11 columns):\n",
      " #   Column            Non-Null Count  Dtype  \n",
      "---  ------            --------------  -----  \n",
      " 0   total_bill        244 non-null    float64\n",
      " 1   tip               244 non-null    float64\n",
      " 2   gender            244 non-null    object \n",
      " 3   smoker            244 non-null    object \n",
      " 4   day               244 non-null    object \n",
      " 5   time              244 non-null    object \n",
      " 6   size              244 non-null    int64  \n",
      " 7   price_per_person  244 non-null    float64\n",
      " 8   Payer Name        244 non-null    object \n",
      " 9   CC Number         244 non-null    float64\n",
      " 10  Payment ID        244 non-null    object \n",
      "dtypes: float64(4), int64(1), object(6)\n",
      "memory usage: 21.1+ KB\n",
      "None\n"
     ]
    }
   ],
   "source": [
    "print(df.info()) "
   ]
  },
  {
   "cell_type": "code",
   "execution_count": 74,
   "id": "2265f2ac-4272-4945-884d-f8fc9c6580dc",
   "metadata": {},
   "outputs": [
    {
     "name": "stdout",
     "output_type": "stream",
     "text": [
      "244\n"
     ]
    }
   ],
   "source": [
    "print(len(df))"
   ]
  },
  {
   "cell_type": "code",
   "execution_count": 75,
   "id": "b8a9718f-4e79-499b-963f-0e91dea58cf6",
   "metadata": {},
   "outputs": [
    {
     "name": "stdout",
     "output_type": "stream",
     "text": [
      "       total_bill         tip        size  price_per_person     CC Number\n",
      "count  244.000000  244.000000  244.000000        244.000000  2.440000e+02\n",
      "mean    19.785943    2.998279    2.569672          7.888197  2.563495e+15\n",
      "std      8.902412    1.383638    0.951100          2.914234  2.369340e+15\n",
      "min      3.070000    1.000000    1.000000          2.880000  6.040679e+10\n",
      "25%     13.347500    2.000000    2.000000          5.800000  3.040732e+13\n",
      "50%     17.795000    2.900000    2.000000          7.255000  3.525320e+15\n",
      "75%     24.127500    3.562500    3.000000          9.390000  4.553675e+15\n",
      "max     50.810000   10.000000    6.000000         20.270000  6.596450e+15\n"
     ]
    }
   ],
   "source": [
    "print(df.describe())"
   ]
  },
  {
   "cell_type": "code",
   "execution_count": 76,
   "id": "e04a94a4-67a2-4315-8f9c-edb862839339",
   "metadata": {},
   "outputs": [
    {
     "name": "stdout",
     "output_type": "stream",
     "text": [
      "                  count          mean           std           min  \\\n",
      "total_bill        244.0  1.978594e+01  8.902412e+00  3.070000e+00   \n",
      "tip               244.0  2.998279e+00  1.383638e+00  1.000000e+00   \n",
      "size              244.0  2.569672e+00  9.510998e-01  1.000000e+00   \n",
      "price_per_person  244.0  7.888197e+00  2.914234e+00  2.880000e+00   \n",
      "CC Number         244.0  2.563495e+15  2.369340e+15  6.040679e+10   \n",
      "\n",
      "                           25%           50%           75%           max  \n",
      "total_bill        1.334750e+01  1.779500e+01  2.412750e+01  5.081000e+01  \n",
      "tip               2.000000e+00  2.900000e+00  3.562500e+00  1.000000e+01  \n",
      "size              2.000000e+00  2.000000e+00  3.000000e+00  6.000000e+00  \n",
      "price_per_person  5.800000e+00  7.255000e+00  9.390000e+00  2.027000e+01  \n",
      "CC Number         3.040732e+13  3.525320e+15  4.553675e+15  6.596450e+15  \n"
     ]
    }
   ],
   "source": [
    "print(df.describe().transpose())"
   ]
  },
  {
   "cell_type": "code",
   "execution_count": 77,
   "id": "efb9bdd2-4215-442a-8bb7-8f172d3829b9",
   "metadata": {},
   "outputs": [
    {
     "name": "stdout",
     "output_type": "stream",
     "text": [
      "0      16.99\n",
      "1      10.34\n",
      "2      21.01\n",
      "3      23.68\n",
      "4      24.59\n",
      "       ...  \n",
      "239    29.03\n",
      "240    27.18\n",
      "241    22.67\n",
      "242    17.82\n",
      "243    18.78\n",
      "Name: total_bill, Length: 244, dtype: float64\n"
     ]
    }
   ],
   "source": [
    "print(df['total_bill'])"
   ]
  },
  {
   "cell_type": "code",
   "execution_count": 78,
   "id": "2d32b548-9d4a-41da-8eb2-dc42e7e2f453",
   "metadata": {},
   "outputs": [
    {
     "name": "stdout",
     "output_type": "stream",
     "text": [
      "     total_bill   tip\n",
      "0         16.99  1.01\n",
      "1         10.34  1.66\n",
      "2         21.01  3.50\n",
      "3         23.68  3.31\n",
      "4         24.59  3.61\n",
      "..          ...   ...\n",
      "239       29.03  5.92\n",
      "240       27.18  2.00\n",
      "241       22.67  2.00\n",
      "242       17.82  1.75\n",
      "243       18.78  3.00\n",
      "\n",
      "[244 rows x 2 columns]\n"
     ]
    }
   ],
   "source": [
    "print(df[['total_bill','tip']])"
   ]
  },
  {
   "cell_type": "code",
   "execution_count": 79,
   "id": "7d621bcf-6858-4560-9a00-cde568f66950",
   "metadata": {},
   "outputs": [
    {
     "name": "stdout",
     "output_type": "stream",
     "text": [
      "   total_bill   tip  gender smoker  day    time  size  price_per_person  \\\n",
      "0       16.99  1.01  Female     No  Sun  Dinner     2              8.49   \n",
      "1       10.34  1.66    Male     No  Sun  Dinner     3              3.45   \n",
      "2       21.01  3.50    Male     No  Sun  Dinner     3              7.00   \n",
      "3       23.68  3.31    Male     No  Sun  Dinner     2             11.84   \n",
      "4       24.59  3.61  Female     No  Sun  Dinner     4              6.15   \n",
      "\n",
      "           Payer Name     CC Number Payment ID  tip_percentage  \n",
      "0  Christy Cunningham  3.560330e+15    Sun2959        5.944673  \n",
      "1      Douglas Tucker  4.478070e+15    Sun4608       16.054159  \n",
      "2      Travis Walters  6.011810e+15    Sun4458       16.658734  \n",
      "3    Nathaniel Harris  4.676140e+15    Sun5260       13.978041  \n",
      "4        Tonya Carter  4.832730e+15    Sun2251       14.680765  \n"
     ]
    }
   ],
   "source": [
    "# Select multiple columns\n",
    "# Note how its a python list of column names! Thus the double brackets\n",
    "df['tip_percentage'] = 100 * df['tip']/df['total_bill']\n",
    "print(df.head())"
   ]
  },
  {
   "cell_type": "code",
   "execution_count": 80,
   "id": "2b6e53b7-d4fd-41d9-88d3-2fa4a29d3ecf",
   "metadata": {},
   "outputs": [
    {
     "name": "stdout",
     "output_type": "stream",
     "text": [
      "   total_bill   tip  gender smoker  day    time  size  price_per_person  \\\n",
      "0       16.99  1.01  Female     No  Sun  Dinner     2          8.495000   \n",
      "1       10.34  1.66    Male     No  Sun  Dinner     3          3.446667   \n",
      "2       21.01  3.50    Male     No  Sun  Dinner     3          7.003333   \n",
      "3       23.68  3.31    Male     No  Sun  Dinner     2         11.840000   \n",
      "4       24.59  3.61  Female     No  Sun  Dinner     4          6.147500   \n",
      "\n",
      "           Payer Name     CC Number Payment ID  tip_percentage  \n",
      "0  Christy Cunningham  3.560330e+15    Sun2959        5.944673  \n",
      "1      Douglas Tucker  4.478070e+15    Sun4608       16.054159  \n",
      "2      Travis Walters  6.011810e+15    Sun4458       16.658734  \n",
      "3    Nathaniel Harris  4.676140e+15    Sun5260       13.978041  \n",
      "4        Tonya Carter  4.832730e+15    Sun2251       14.680765  \n"
     ]
    }
   ],
   "source": [
    "df['price_per_person'] = df['total_bill']/df['size']\n",
    "print(df.head())"
   ]
  },
  {
   "cell_type": "code",
   "execution_count": 81,
   "id": "0da83a17-2846-40f1-af62-11ea070bbd4e",
   "metadata": {},
   "outputs": [
    {
     "name": "stdout",
     "output_type": "stream",
     "text": [
      "   total_bill   tip  gender smoker  day    time  size  price_per_person  \\\n",
      "0       16.99  1.01  Female     No  Sun  Dinner     2              8.49   \n",
      "1       10.34  1.66    Male     No  Sun  Dinner     3              3.45   \n",
      "2       21.01  3.50    Male     No  Sun  Dinner     3              7.00   \n",
      "3       23.68  3.31    Male     No  Sun  Dinner     2             11.84   \n",
      "4       24.59  3.61  Female     No  Sun  Dinner     4              6.15   \n",
      "\n",
      "           Payer Name     CC Number Payment ID  tip_percentage  \n",
      "0  Christy Cunningham  3.560330e+15    Sun2959        5.944673  \n",
      "1      Douglas Tucker  4.478070e+15    Sun4608       16.054159  \n",
      "2      Travis Walters  6.011810e+15    Sun4458       16.658734  \n",
      "3    Nathaniel Harris  4.676140e+15    Sun5260       13.978041  \n",
      "4        Tonya Carter  4.832730e+15    Sun2251       14.680765  \n",
      "Index(['total_bill', 'tip', 'gender', 'smoker', 'day', 'time', 'size',\n",
      "       'price_per_person', 'Payer Name', 'CC Number', 'Payment ID',\n",
      "       'tip_percentage'],\n",
      "      dtype='object')\n"
     ]
    }
   ],
   "source": [
    "# Adjusting Existing columns\n",
    "df['price_per_person'] = np.round(df['price_per_person'], 2)\n",
    "print(df.head())\n",
    "print(df.columns)"
   ]
  },
  {
   "cell_type": "code",
   "execution_count": 82,
   "id": "4503782f-1d43-4804-b031-7e9105745a8b",
   "metadata": {},
   "outputs": [
    {
     "name": "stdout",
     "output_type": "stream",
     "text": [
      "   total_bill   tip  gender smoker  day    time  size  price_per_person  \\\n",
      "0       16.99  1.01  Female     No  Sun  Dinner     2              8.49   \n",
      "1       10.34  1.66    Male     No  Sun  Dinner     3              3.45   \n",
      "2       21.01  3.50    Male     No  Sun  Dinner     3              7.00   \n",
      "3       23.68  3.31    Male     No  Sun  Dinner     2             11.84   \n",
      "4       24.59  3.61  Female     No  Sun  Dinner     4              6.15   \n",
      "\n",
      "           Payer Name     CC Number Payment ID  \n",
      "0  Christy Cunningham  3.560330e+15    Sun2959  \n",
      "1      Douglas Tucker  4.478070e+15    Sun4608  \n",
      "2      Travis Walters  6.011810e+15    Sun4458  \n",
      "3    Nathaniel Harris  4.676140e+15    Sun5260  \n",
      "4        Tonya Carter  4.832730e+15    Sun2251  \n"
     ]
    }
   ],
   "source": [
    "# Remove columns\n",
    "df = df.drop('tip_percentage', axis=1)\n",
    "print(df.head())"
   ]
  },
  {
   "cell_type": "code",
   "execution_count": null,
   "id": "997859f5-9e0c-4141-8a2a-4760a6162322",
   "metadata": {},
   "outputs": [],
   "source": []
  },
  {
   "cell_type": "code",
   "execution_count": 83,
   "id": "e4b18f3f-fba4-4cfe-ba48-5469a26b65b6",
   "metadata": {},
   "outputs": [
    {
     "name": "stdout",
     "output_type": "stream",
     "text": [
      "   total_bill   tip  gender smoker  day    time  size  price_per_person  \\\n",
      "0       16.99  1.01  Female     No  Sun  Dinner     2              8.49   \n",
      "1       10.34  1.66    Male     No  Sun  Dinner     3              3.45   \n",
      "2       21.01  3.50    Male     No  Sun  Dinner     3              7.00   \n",
      "3       23.68  3.31    Male     No  Sun  Dinner     2             11.84   \n",
      "4       24.59  3.61  Female     No  Sun  Dinner     4              6.15   \n",
      "\n",
      "           Payer Name     CC Number Payment ID  \n",
      "0  Christy Cunningham  3.560330e+15    Sun2959  \n",
      "1      Douglas Tucker  4.478070e+15    Sun4608  \n",
      "2      Travis Walters  6.011810e+15    Sun4458  \n",
      "3    Nathaniel Harris  4.676140e+15    Sun5260  \n",
      "4        Tonya Carter  4.832730e+15    Sun2251  \n",
      "RangeIndex(start=0, stop=244, step=1)\n"
     ]
    }
   ],
   "source": [
    "# Index\n",
    "print(df.head())\n",
    "print(df.index)"
   ]
  },
  {
   "cell_type": "code",
   "execution_count": 84,
   "id": "1f9fad5f-e2d3-4cd2-afee-6aa964f00a2d",
   "metadata": {},
   "outputs": [
    {
     "name": "stdout",
     "output_type": "stream",
     "text": [
      "            total_bill   tip  gender smoker  day    time  size  \\\n",
      "Payment ID                                                       \n",
      "Sun2959          16.99  1.01  Female     No  Sun  Dinner     2   \n",
      "Sun4608          10.34  1.66    Male     No  Sun  Dinner     3   \n",
      "Sun4458          21.01  3.50    Male     No  Sun  Dinner     3   \n",
      "Sun5260          23.68  3.31    Male     No  Sun  Dinner     2   \n",
      "Sun2251          24.59  3.61  Female     No  Sun  Dinner     4   \n",
      "\n",
      "            price_per_person          Payer Name     CC Number  \n",
      "Payment ID                                                      \n",
      "Sun2959                 8.49  Christy Cunningham  3.560330e+15  \n",
      "Sun4608                 3.45      Douglas Tucker  4.478070e+15  \n",
      "Sun4458                 7.00      Travis Walters  6.011810e+15  \n",
      "Sun5260                11.84    Nathaniel Harris  4.676140e+15  \n",
      "Sun2251                 6.15        Tonya Carter  4.832730e+15  \n"
     ]
    }
   ],
   "source": [
    "df = df.set_index('Payment ID')\n",
    "print(df.head())"
   ]
  },
  {
   "cell_type": "code",
   "execution_count": 86,
   "id": "6b4dd582-a1bc-4f5a-ae7e-3ca8694bcde9",
   "metadata": {},
   "outputs": [
    {
     "name": "stdout",
     "output_type": "stream",
     "text": [
      "  Payment ID  total_bill   tip  gender smoker  day    time  size  \\\n",
      "0    Sun2959       16.99  1.01  Female     No  Sun  Dinner     2   \n",
      "1    Sun4608       10.34  1.66    Male     No  Sun  Dinner     3   \n",
      "2    Sun4458       21.01  3.50    Male     No  Sun  Dinner     3   \n",
      "3    Sun5260       23.68  3.31    Male     No  Sun  Dinner     2   \n",
      "4    Sun2251       24.59  3.61  Female     No  Sun  Dinner     4   \n",
      "\n",
      "   price_per_person          Payer Name     CC Number  \n",
      "0              8.49  Christy Cunningham  3.560330e+15  \n",
      "1              3.45      Douglas Tucker  4.478070e+15  \n",
      "2              7.00      Travis Walters  6.011810e+15  \n",
      "3             11.84    Nathaniel Harris  4.676140e+15  \n",
      "4              6.15        Tonya Carter  4.832730e+15  \n"
     ]
    }
   ],
   "source": [
    "df = df.reset_index()\n",
    "print(df.head())"
   ]
  },
  {
   "cell_type": "code",
   "execution_count": 85,
   "id": "f069ee7a-837c-46d3-905d-f294fb56d780",
   "metadata": {},
   "outputs": [
    {
     "name": "stdout",
     "output_type": "stream",
     "text": [
      "total_bill                       16.99\n",
      "tip                               1.01\n",
      "gender                          Female\n",
      "smoker                              No\n",
      "day                                Sun\n",
      "time                            Dinner\n",
      "size                                 2\n",
      "price_per_person                  8.49\n",
      "Payer Name          Christy Cunningham\n",
      "CC Number           3560330000000000.0\n",
      "Name: Sun2959, dtype: object\n"
     ]
    }
   ],
   "source": [
    "# Rows\n",
    "# Get a single row\n",
    "# Integer based\n",
    "print(df.iloc[0])"
   ]
  },
  {
   "cell_type": "code",
   "execution_count": null,
   "id": "6572f7cf-5eb9-48ed-a0a4-a9f766b81e9f",
   "metadata": {},
   "outputs": [],
   "source": [
    "# Name Based\n",
    "# First set the index to the column which will be used in locating the row\n"
   ]
  },
  {
   "cell_type": "code",
   "execution_count": 87,
   "id": "9884d20f-81e0-4850-a42f-a42505ddeb80",
   "metadata": {},
   "outputs": [
    {
     "name": "stdout",
     "output_type": "stream",
     "text": [
      "0      False\n",
      "1      False\n",
      "2      False\n",
      "3      False\n",
      "4      False\n",
      "       ...  \n",
      "239    False\n",
      "240    False\n",
      "241    False\n",
      "242    False\n",
      "243    False\n",
      "Name: total_bill, Length: 244, dtype: bool\n"
     ]
    }
   ],
   "source": [
    "print(df['total_bill']>30)   # True/False"
   ]
  },
  {
   "cell_type": "code",
   "execution_count": 91,
   "id": "6e92e1bd-fde3-403f-b95b-14af1dd9e3ba",
   "metadata": {},
   "outputs": [
    {
     "name": "stdout",
     "output_type": "stream",
     "text": [
      "0      False\n",
      "1      False\n",
      "2      False\n",
      "3      False\n",
      "4      False\n",
      "       ...  \n",
      "239    False\n",
      "240    False\n",
      "241    False\n",
      "242    False\n",
      "243    False\n",
      "Name: total_bill, Length: 244, dtype: bool\n",
      "    Payment ID  total_bill    tip  gender smoker   day    time  size  \\\n",
      "11     Sun6686       35.26   5.00  Female     No   Sun  Dinner     4   \n",
      "23      Sat239       39.42   7.58    Male     No   Sat  Dinner     4   \n",
      "39     Sat6373       31.27   5.00    Male     No   Sat  Dinner     3   \n",
      "44     Sun2274       30.40   5.60    Male     No   Sun  Dinner     4   \n",
      "47     Sun9677       32.40   6.00    Male     No   Sun  Dinner     4   \n",
      "52     Sun6165       34.81   5.20  Female     No   Sun  Dinner     4   \n",
      "56     Sat8903       38.01   3.00    Male    Yes   Sat  Dinner     4   \n",
      "59     Sat8139       48.27   6.73    Male     No   Sat  Dinner     4   \n",
      "83    Thur8801       32.68   5.00    Male    Yes  Thur   Lunch     2   \n",
      "85    Thur7972       34.83   5.17  Female     No  Thur   Lunch     4   \n",
      "95     Fri9628       40.17   4.73    Male    Yes   Fri  Dinner     4   \n",
      "102    Sat6240       44.30   2.50  Female    Yes   Sat  Dinner     3   \n",
      "112     Sun591       38.07   4.00    Male     No   Sun  Dinner     3   \n",
      "141   Thur1025       34.30   6.70    Male     No  Thur   Lunch     6   \n",
      "142   Thur3621       41.19   5.00    Male     No  Thur   Lunch     5   \n",
      "156    Sun7518       48.17   5.00    Male     No   Sun  Dinner     6   \n",
      "167    Sun3719       31.71   4.50    Male     No   Sun  Dinner     4   \n",
      "170    Sat1954       50.81  10.00    Male    Yes   Sat  Dinner     3   \n",
      "173    Sun9335       31.85   3.18    Male    Yes   Sun  Dinner     2   \n",
      "175    Sun5109       32.90   3.11    Male    Yes   Sun  Dinner     2   \n",
      "179    Sun9851       34.63   3.55    Male    Yes   Sun  Dinner     2   \n",
      "180    Sun7544       34.65   3.68    Male    Yes   Sun  Dinner     4   \n",
      "182    Sun2337       45.35   3.50    Male    Yes   Sun  Dinner     3   \n",
      "184    Sun5140       40.55   3.00    Male    Yes   Sun  Dinner     2   \n",
      "187    Sun9987       30.46   2.00    Male    Yes   Sun  Dinner     5   \n",
      "197   Thur9313       43.11   5.00  Female    Yes  Thur   Lunch     4   \n",
      "207    Sat4505       38.73   3.00    Male    Yes   Sat  Dinner     4   \n",
      "210    Sat8361       30.06   2.00    Male    Yes   Sat  Dinner     3   \n",
      "212    Sat4590       48.33   9.00    Male     No   Sat  Dinner     4   \n",
      "219    Sat8863       30.14   3.09  Female    Yes   Sat  Dinner     4   \n",
      "237    Sat2929       32.83   1.17    Male    Yes   Sat  Dinner     2   \n",
      "238    Sat9777       35.83   4.67  Female     No   Sat  Dinner     3   \n",
      "\n",
      "     price_per_person             Payer Name     CC Number  \n",
      "11               8.82           Diane Macias  4.577820e+15  \n",
      "23               9.86         Lance Peterson  3.542580e+15  \n",
      "39              10.42      Mr. Brandon Berry  6.011530e+15  \n",
      "44               7.60            Todd Cooper  5.038470e+11  \n",
      "47               8.10           James Barnes  3.552000e+15  \n",
      "52               8.70           Emily Daniel  4.291280e+15  \n",
      "56               9.50  James Christensen DDS  3.497940e+14  \n",
      "59              12.07            Brian Ortiz  6.596450e+15  \n",
      "83              16.34          Daniel Murphy  5.356180e+15  \n",
      "85               8.71            Shawna Cook  6.011790e+15  \n",
      "95              10.04          Aaron Bentley  1.800270e+14  \n",
      "102             14.77          Heather Cohen  3.797710e+14  \n",
      "112             12.69             Jeff Lopez  3.572870e+15  \n",
      "141              5.72         Steven Carlson  3.526520e+15  \n",
      "142              8.24           Eric Andrews  4.356530e+15  \n",
      "156              8.03          Ryan Gonzales  3.523150e+15  \n",
      "167              7.93         Michael Lawson  3.566290e+15  \n",
      "170             16.94          Gregory Clark  5.473850e+15  \n",
      "173             15.92            Scott Perez  3.577120e+15  \n",
      "175             16.45        Nathan Reynolds  3.703070e+14  \n",
      "179             17.32           Brian Bailey  3.466560e+14  \n",
      "180              8.66       James Hebert DDS  6.761690e+11  \n",
      "182             15.12           Jose Parsons  4.112210e+15  \n",
      "184             20.27            Stephen Cox  3.547800e+15  \n",
      "187              6.09          David Barrett  4.792880e+15  \n",
      "197             10.78            Brooke Soto  5.544900e+15  \n",
      "207              9.68          Ricky Ramirez  3.478180e+14  \n",
      "210             10.02          Shawn Mendoza  3.018400e+13  \n",
      "212             12.08        Alex Williamson  6.762190e+11  \n",
      "219              7.54           Shelby House  5.020970e+11  \n",
      "237             16.42           Thomas Brown  4.284720e+15  \n",
      "238             11.94         Kimberly Crane  6.761840e+11  \n"
     ]
    }
   ],
   "source": [
    "bool_series = df['total_bill'] > 30 # Save conditon in a variable\n",
    "print(bool_series)    # True/False\n",
    "print(df[bool_series]) # Actual results, applying the true/false conditions\n",
    "# The above statement means apply the true/false result to each row\n",
    "# Extract only rows where it is true, so the false ones will not appear in the output"
   ]
  },
  {
   "cell_type": "code",
   "execution_count": 94,
   "id": "1b48132e-bbb2-4cfd-82b4-e5f87ff9db41",
   "metadata": {},
   "outputs": [
    {
     "name": "stdout",
     "output_type": "stream",
     "text": [
      "0      False\n",
      "1      False\n",
      "2      False\n",
      "3      False\n",
      "4      False\n",
      "       ...  \n",
      "239    False\n",
      "240    False\n",
      "241    False\n",
      "242    False\n",
      "243    False\n",
      "Name: total_bill, Length: 244, dtype: bool\n"
     ]
    }
   ],
   "source": [
    "print(df.total_bill>30) # Same as print(df['total_bill']>30)"
   ]
  },
  {
   "cell_type": "code",
   "execution_count": 96,
   "id": "60f53ad4-9100-4f53-bfe2-70e2bf0ee14c",
   "metadata": {},
   "outputs": [
    {
     "name": "stdout",
     "output_type": "stream",
     "text": [
      "    Payment ID  total_bill    tip gender smoker   day    time  size  \\\n",
      "23      Sat239       39.42   7.58   Male     No   Sat  Dinner     4   \n",
      "39     Sat6373       31.27   5.00   Male     No   Sat  Dinner     3   \n",
      "44     Sun2274       30.40   5.60   Male     No   Sun  Dinner     4   \n",
      "47     Sun9677       32.40   6.00   Male     No   Sun  Dinner     4   \n",
      "56     Sat8903       38.01   3.00   Male    Yes   Sat  Dinner     4   \n",
      "59     Sat8139       48.27   6.73   Male     No   Sat  Dinner     4   \n",
      "83    Thur8801       32.68   5.00   Male    Yes  Thur   Lunch     2   \n",
      "95     Fri9628       40.17   4.73   Male    Yes   Fri  Dinner     4   \n",
      "112     Sun591       38.07   4.00   Male     No   Sun  Dinner     3   \n",
      "141   Thur1025       34.30   6.70   Male     No  Thur   Lunch     6   \n",
      "142   Thur3621       41.19   5.00   Male     No  Thur   Lunch     5   \n",
      "156    Sun7518       48.17   5.00   Male     No   Sun  Dinner     6   \n",
      "167    Sun3719       31.71   4.50   Male     No   Sun  Dinner     4   \n",
      "170    Sat1954       50.81  10.00   Male    Yes   Sat  Dinner     3   \n",
      "173    Sun9335       31.85   3.18   Male    Yes   Sun  Dinner     2   \n",
      "175    Sun5109       32.90   3.11   Male    Yes   Sun  Dinner     2   \n",
      "179    Sun9851       34.63   3.55   Male    Yes   Sun  Dinner     2   \n",
      "180    Sun7544       34.65   3.68   Male    Yes   Sun  Dinner     4   \n",
      "182    Sun2337       45.35   3.50   Male    Yes   Sun  Dinner     3   \n",
      "184    Sun5140       40.55   3.00   Male    Yes   Sun  Dinner     2   \n",
      "187    Sun9987       30.46   2.00   Male    Yes   Sun  Dinner     5   \n",
      "207    Sat4505       38.73   3.00   Male    Yes   Sat  Dinner     4   \n",
      "210    Sat8361       30.06   2.00   Male    Yes   Sat  Dinner     3   \n",
      "212    Sat4590       48.33   9.00   Male     No   Sat  Dinner     4   \n",
      "237    Sat2929       32.83   1.17   Male    Yes   Sat  Dinner     2   \n",
      "\n",
      "     price_per_person             Payer Name     CC Number  \n",
      "23               9.86         Lance Peterson  3.542580e+15  \n",
      "39              10.42      Mr. Brandon Berry  6.011530e+15  \n",
      "44               7.60            Todd Cooper  5.038470e+11  \n",
      "47               8.10           James Barnes  3.552000e+15  \n",
      "56               9.50  James Christensen DDS  3.497940e+14  \n",
      "59              12.07            Brian Ortiz  6.596450e+15  \n",
      "83              16.34          Daniel Murphy  5.356180e+15  \n",
      "95              10.04          Aaron Bentley  1.800270e+14  \n",
      "112             12.69             Jeff Lopez  3.572870e+15  \n",
      "141              5.72         Steven Carlson  3.526520e+15  \n",
      "142              8.24           Eric Andrews  4.356530e+15  \n",
      "156              8.03          Ryan Gonzales  3.523150e+15  \n",
      "167              7.93         Michael Lawson  3.566290e+15  \n",
      "170             16.94          Gregory Clark  5.473850e+15  \n",
      "173             15.92            Scott Perez  3.577120e+15  \n",
      "175             16.45        Nathan Reynolds  3.703070e+14  \n",
      "179             17.32           Brian Bailey  3.466560e+14  \n",
      "180              8.66       James Hebert DDS  6.761690e+11  \n",
      "182             15.12           Jose Parsons  4.112210e+15  \n",
      "184             20.27            Stephen Cox  3.547800e+15  \n",
      "187              6.09          David Barrett  4.792880e+15  \n",
      "207              9.68          Ricky Ramirez  3.478180e+14  \n",
      "210             10.02          Shawn Mendoza  3.018400e+13  \n",
      "212             12.08        Alex Williamson  6.762190e+11  \n",
      "237             16.42           Thomas Brown  4.284720e+15  \n"
     ]
    }
   ],
   "source": [
    "# Multiple conditions\n",
    "df_new = df[(df[\"total_bill\"]>30)&(df['gender']==\"Male\")]\n",
    "print(df_new)"
   ]
  },
  {
   "cell_type": "code",
   "execution_count": 100,
   "id": "e331368e-3348-4d5b-8181-7b5d001667aa",
   "metadata": {},
   "outputs": [
    {
     "name": "stdout",
     "output_type": "stream",
     "text": [
      "    Payment ID  total_bill   tip  gender smoker   day    time  size  \\\n",
      "11     Sun6686       35.26  5.00  Female     No   Sun  Dinner     4   \n",
      "52     Sun6165       34.81  5.20  Female     No   Sun  Dinner     4   \n",
      "85    Thur7972       34.83  5.17  Female     No  Thur   Lunch     4   \n",
      "102    Sat6240       44.30  2.50  Female    Yes   Sat  Dinner     3   \n",
      "197   Thur9313       43.11  5.00  Female    Yes  Thur   Lunch     4   \n",
      "219    Sat8863       30.14  3.09  Female    Yes   Sat  Dinner     4   \n",
      "238    Sat9777       35.83  4.67  Female     No   Sat  Dinner     3   \n",
      "\n",
      "     price_per_person      Payer Name     CC Number  \n",
      "11               8.82    Diane Macias  4.577820e+15  \n",
      "52               8.70    Emily Daniel  4.291280e+15  \n",
      "85               8.71     Shawna Cook  6.011790e+15  \n",
      "102             14.77   Heather Cohen  3.797710e+14  \n",
      "197             10.78     Brooke Soto  5.544900e+15  \n",
      "219              7.54    Shelby House  5.020970e+11  \n",
      "238             11.94  Kimberly Crane  6.761840e+11  \n"
     ]
    }
   ],
   "source": [
    "df_new = df[(df[\"total_bill\"]>30) & ~(df[\"gender\"]==\"Male\")]\n",
    "print(df_new)"
   ]
  },
  {
   "cell_type": "code",
   "execution_count": 102,
   "id": "1065cd3c-3b12-40c9-bd94-b375fede85dc",
   "metadata": {},
   "outputs": [
    {
     "name": "stdout",
     "output_type": "stream",
     "text": [
      "    Payment ID  total_bill   tip  gender smoker   day    time  size  \\\n",
      "11     Sun6686       35.26  5.00  Female     No   Sun  Dinner     4   \n",
      "52     Sun6165       34.81  5.20  Female     No   Sun  Dinner     4   \n",
      "85    Thur7972       34.83  5.17  Female     No  Thur   Lunch     4   \n",
      "102    Sat6240       44.30  2.50  Female    Yes   Sat  Dinner     3   \n",
      "197   Thur9313       43.11  5.00  Female    Yes  Thur   Lunch     4   \n",
      "219    Sat8863       30.14  3.09  Female    Yes   Sat  Dinner     4   \n",
      "238    Sat9777       35.83  4.67  Female     No   Sat  Dinner     3   \n",
      "\n",
      "     price_per_person      Payer Name     CC Number  \n",
      "11               8.82    Diane Macias  4.577820e+15  \n",
      "52               8.70    Emily Daniel  4.291280e+15  \n",
      "85               8.71     Shawna Cook  6.011790e+15  \n",
      "102             14.77   Heather Cohen  3.797710e+14  \n",
      "197             10.78     Brooke Soto  5.544900e+15  \n",
      "219              7.54    Shelby House  5.020970e+11  \n",
      "238             11.94  Kimberly Crane  6.761840e+11  \n"
     ]
    }
   ],
   "source": [
    "df_new = df[(df[\"total_bill\"]>30) & (df['gender']!=\"Male\")]\n",
    "print(df_new)"
   ]
  },
  {
   "cell_type": "code",
   "execution_count": 97,
   "id": "c974aa2e-bffd-4b39-9863-49f41130c3da",
   "metadata": {},
   "outputs": [
    {
     "name": "stdout",
     "output_type": "stream",
     "text": [
      "    Payment ID  total_bill    tip  gender smoker   day    time  size  \\\n",
      "11     Sun6686       35.26   5.00  Female     No   Sun  Dinner     4   \n",
      "23      Sat239       39.42   7.58    Male     No   Sat  Dinner     4   \n",
      "39     Sat6373       31.27   5.00    Male     No   Sat  Dinner     3   \n",
      "44     Sun2274       30.40   5.60    Male     No   Sun  Dinner     4   \n",
      "47     Sun9677       32.40   6.00    Male     No   Sun  Dinner     4   \n",
      "52     Sun6165       34.81   5.20  Female     No   Sun  Dinner     4   \n",
      "56     Sat8903       38.01   3.00    Male    Yes   Sat  Dinner     4   \n",
      "59     Sat8139       48.27   6.73    Male     No   Sat  Dinner     4   \n",
      "83    Thur8801       32.68   5.00    Male    Yes  Thur   Lunch     2   \n",
      "85    Thur7972       34.83   5.17  Female     No  Thur   Lunch     4   \n",
      "88    Thur9003       24.71   5.85    Male     No  Thur   Lunch     2   \n",
      "95     Fri9628       40.17   4.73    Male    Yes   Fri  Dinner     4   \n",
      "102    Sat6240       44.30   2.50  Female    Yes   Sat  Dinner     3   \n",
      "112     Sun591       38.07   4.00    Male     No   Sun  Dinner     3   \n",
      "116      Sun22       29.93   5.07    Male     No   Sun  Dinner     4   \n",
      "141   Thur1025       34.30   6.70    Male     No  Thur   Lunch     6   \n",
      "142   Thur3621       41.19   5.00    Male     No  Thur   Lunch     5   \n",
      "155    Sun9176       29.85   5.14  Female     No   Sun  Dinner     5   \n",
      "156    Sun7518       48.17   5.00    Male     No   Sun  Dinner     6   \n",
      "167    Sun3719       31.71   4.50    Male     No   Sun  Dinner     4   \n",
      "170    Sat1954       50.81  10.00    Male    Yes   Sat  Dinner     3   \n",
      "172    Sun9209        7.25   5.15    Male    Yes   Sun  Dinner     2   \n",
      "173    Sun9335       31.85   3.18    Male    Yes   Sun  Dinner     2   \n",
      "175    Sun5109       32.90   3.11    Male    Yes   Sun  Dinner     2   \n",
      "179    Sun9851       34.63   3.55    Male    Yes   Sun  Dinner     2   \n",
      "180    Sun7544       34.65   3.68    Male    Yes   Sun  Dinner     4   \n",
      "181    Sun3402       23.33   5.65    Male    Yes   Sun  Dinner     2   \n",
      "182    Sun2337       45.35   3.50    Male    Yes   Sun  Dinner     3   \n",
      "183    Sun6059       23.17   6.50    Male    Yes   Sun  Dinner     4   \n",
      "184    Sun5140       40.55   3.00    Male    Yes   Sun  Dinner     2   \n",
      "187    Sun9987       30.46   2.00    Male    Yes   Sun  Dinner     5   \n",
      "197   Thur9313       43.11   5.00  Female    Yes  Thur   Lunch     4   \n",
      "207    Sat4505       38.73   3.00    Male    Yes   Sat  Dinner     4   \n",
      "210    Sat8361       30.06   2.00    Male    Yes   Sat  Dinner     3   \n",
      "211    Sat6735       25.89   5.16    Male    Yes   Sat  Dinner     4   \n",
      "212    Sat4590       48.33   9.00    Male     No   Sat  Dinner     4   \n",
      "214    Sat3374       28.17   6.50  Female    Yes   Sat  Dinner     3   \n",
      "219    Sat8863       30.14   3.09  Female    Yes   Sat  Dinner     4   \n",
      "237    Sat2929       32.83   1.17    Male    Yes   Sat  Dinner     2   \n",
      "238    Sat9777       35.83   4.67  Female     No   Sat  Dinner     3   \n",
      "239    Sat2657       29.03   5.92    Male     No   Sat  Dinner     3   \n",
      "\n",
      "     price_per_person             Payer Name     CC Number  \n",
      "11               8.82           Diane Macias  4.577820e+15  \n",
      "23               9.86         Lance Peterson  3.542580e+15  \n",
      "39              10.42      Mr. Brandon Berry  6.011530e+15  \n",
      "44               7.60            Todd Cooper  5.038470e+11  \n",
      "47               8.10           James Barnes  3.552000e+15  \n",
      "52               8.70           Emily Daniel  4.291280e+15  \n",
      "56               9.50  James Christensen DDS  3.497940e+14  \n",
      "59              12.07            Brian Ortiz  6.596450e+15  \n",
      "83              16.34          Daniel Murphy  5.356180e+15  \n",
      "85               8.71            Shawna Cook  6.011790e+15  \n",
      "88              12.36           Roger Taylor  4.410250e+12  \n",
      "95              10.04          Aaron Bentley  1.800270e+14  \n",
      "102             14.77          Heather Cohen  3.797710e+14  \n",
      "112             12.69             Jeff Lopez  3.572870e+15  \n",
      "116              7.48            Shawn Blake  4.689080e+15  \n",
      "141              5.72         Steven Carlson  3.526520e+15  \n",
      "142              8.24           Eric Andrews  4.356530e+15  \n",
      "155              5.97         Madison Wilson  4.210880e+15  \n",
      "156              8.03          Ryan Gonzales  3.523150e+15  \n",
      "167              7.93         Michael Lawson  3.566290e+15  \n",
      "170             16.94          Gregory Clark  5.473850e+15  \n",
      "172              3.62            Larry White  3.043260e+13  \n",
      "173             15.92            Scott Perez  3.577120e+15  \n",
      "175             16.45        Nathan Reynolds  3.703070e+14  \n",
      "179             17.32           Brian Bailey  3.466560e+14  \n",
      "180              8.66       James Hebert DDS  6.761690e+11  \n",
      "181             11.66              Jason Cox  6.556930e+15  \n",
      "182             15.12           Jose Parsons  4.112210e+15  \n",
      "183              5.79      Dr. Michael James  4.718500e+12  \n",
      "184             20.27            Stephen Cox  3.547800e+15  \n",
      "187              6.09          David Barrett  4.792880e+15  \n",
      "197             10.78            Brooke Soto  5.544900e+15  \n",
      "207              9.68          Ricky Ramirez  3.478180e+14  \n",
      "210             10.02          Shawn Mendoza  3.018400e+13  \n",
      "211              6.47         Christopher Li  6.011960e+15  \n",
      "212             12.08        Alex Williamson  6.762190e+11  \n",
      "214              9.39        Marissa Jackson  4.922300e+15  \n",
      "219              7.54           Shelby House  5.020970e+11  \n",
      "237             16.42           Thomas Brown  4.284720e+15  \n",
      "238             11.94         Kimberly Crane  6.761840e+11  \n",
      "239              9.68          Michael Avila  5.296070e+15  \n"
     ]
    }
   ],
   "source": [
    "df_new = df[(df[\"total_bill\"]>30) | (df['tip']>5)]\n",
    "print(df_new)"
   ]
  },
  {
   "cell_type": "code",
   "execution_count": 103,
   "id": "43d87017-d492-421c-a0d6-68c58e605100",
   "metadata": {},
   "outputs": [
    {
     "name": "stdout",
     "output_type": "stream",
     "text": [
      "0       True\n",
      "1       True\n",
      "2       True\n",
      "3       True\n",
      "4       True\n",
      "       ...  \n",
      "239     True\n",
      "240     True\n",
      "241     True\n",
      "242     True\n",
      "243    False\n",
      "Name: day, Length: 244, dtype: bool\n"
     ]
    }
   ],
   "source": [
    "# Conditions is in operator \n",
    "options = [\"Sat\", \"Sun\"]\n",
    "print(df['day'].isin(options))"
   ]
  },
  {
   "cell_type": "code",
   "execution_count": 104,
   "id": "230795a1-84d3-4b65-80a7-1590b6435ae6",
   "metadata": {},
   "outputs": [
    {
     "name": "stdout",
     "output_type": "stream",
     "text": [
      "    Payment ID  total_bill   tip  gender smoker  day    time  size  \\\n",
      "0      Sun2959       16.99  1.01  Female     No  Sun  Dinner     2   \n",
      "1      Sun4608       10.34  1.66    Male     No  Sun  Dinner     3   \n",
      "2      Sun4458       21.01  3.50    Male     No  Sun  Dinner     3   \n",
      "3      Sun5260       23.68  3.31    Male     No  Sun  Dinner     2   \n",
      "4      Sun2251       24.59  3.61  Female     No  Sun  Dinner     4   \n",
      "..         ...         ...   ...     ...    ...  ...     ...   ...   \n",
      "238    Sat9777       35.83  4.67  Female     No  Sat  Dinner     3   \n",
      "239    Sat2657       29.03  5.92    Male     No  Sat  Dinner     3   \n",
      "240    Sat1766       27.18  2.00  Female    Yes  Sat  Dinner     2   \n",
      "241    Sat3880       22.67  2.00    Male    Yes  Sat  Dinner     2   \n",
      "242      Sat17       17.82  1.75    Male     No  Sat  Dinner     2   \n",
      "\n",
      "     price_per_person          Payer Name     CC Number  \n",
      "0                8.49  Christy Cunningham  3.560330e+15  \n",
      "1                3.45      Douglas Tucker  4.478070e+15  \n",
      "2                7.00      Travis Walters  6.011810e+15  \n",
      "3               11.84    Nathaniel Harris  4.676140e+15  \n",
      "4                6.15        Tonya Carter  4.832730e+15  \n",
      "..                ...                 ...           ...  \n",
      "238             11.94      Kimberly Crane  6.761840e+11  \n",
      "239              9.68       Michael Avila  5.296070e+15  \n",
      "240             13.59      Monica Sanders  3.506810e+15  \n",
      "241             11.34          Keith Wong  6.011890e+15  \n",
      "242              8.91        Dennis Dixon  4.375220e+12  \n",
      "\n",
      "[163 rows x 11 columns]\n"
     ]
    }
   ],
   "source": [
    "print(df[df['day'].isin(['Sat', 'Sun'])])"
   ]
  },
  {
   "cell_type": "code",
   "execution_count": 105,
   "id": "6209a383-f3d4-406a-857c-0f80ece6e518",
   "metadata": {},
   "outputs": [
    {
     "name": "stdout",
     "output_type": "stream",
     "text": [
      "    Payment ID  total_bill    tip  gender smoker   day    time  size  \\\n",
      "67     Sat3455        3.07   1.00  Female    Yes   Sat  Dinner     1   \n",
      "236    Sat5032       12.60   1.00    Male    Yes   Sat  Dinner     2   \n",
      "92     Fri3780        5.75   1.00  Female    Yes   Fri  Dinner     2   \n",
      "111    Sat4801        7.25   1.00  Female     No   Sat  Dinner     1   \n",
      "0      Sun2959       16.99   1.01  Female     No   Sun  Dinner     2   \n",
      "..         ...         ...    ...     ...    ...   ...     ...   ...   \n",
      "141   Thur1025       34.30   6.70    Male     No  Thur   Lunch     6   \n",
      "59     Sat8139       48.27   6.73    Male     No   Sat  Dinner     4   \n",
      "23      Sat239       39.42   7.58    Male     No   Sat  Dinner     4   \n",
      "212    Sat4590       48.33   9.00    Male     No   Sat  Dinner     4   \n",
      "170    Sat1954       50.81  10.00    Male    Yes   Sat  Dinner     3   \n",
      "\n",
      "     price_per_person          Payer Name     CC Number  \n",
      "67               3.07       Tiffany Brock  4.359490e+15  \n",
      "236              6.30       Matthew Myers  3.543680e+15  \n",
      "92               2.88        Leah Ramirez  3.508910e+15  \n",
      "111              7.25         Terri Jones  3.559220e+15  \n",
      "0                8.49  Christy Cunningham  3.560330e+15  \n",
      "..                ...                 ...           ...  \n",
      "141              5.72      Steven Carlson  3.526520e+15  \n",
      "59              12.07         Brian Ortiz  6.596450e+15  \n",
      "23               9.86      Lance Peterson  3.542580e+15  \n",
      "212             12.08     Alex Williamson  6.762190e+11  \n",
      "170             16.94       Gregory Clark  5.473850e+15  \n",
      "\n",
      "[244 rows x 11 columns]\n"
     ]
    }
   ],
   "source": [
    "# Sorting\n",
    "print(df.sort_values('tip'))"
   ]
  },
  {
   "cell_type": "code",
   "execution_count": 106,
   "id": "3959eaa7-801d-443a-be31-75db8268b0a2",
   "metadata": {},
   "outputs": [
    {
     "name": "stdout",
     "output_type": "stream",
     "text": [
      "            total_bill       tip\n",
      "total_bill    1.000000  0.675734\n",
      "tip           0.675734  1.000000\n"
     ]
    }
   ],
   "source": [
    "# Correlation\n",
    "print(df[['total_bill', 'tip']].corr())"
   ]
  },
  {
   "cell_type": "code",
   "execution_count": 108,
   "id": "64a7aaaa-2d6d-4a4b-9f5d-d4d62d2c2895",
   "metadata": {},
   "outputs": [
    {
     "name": "stdout",
     "output_type": "stream",
     "text": [
      "smoker\n",
      "No     151\n",
      "Yes     93\n",
      "Name: count, dtype: int64\n",
      "gender\n",
      "Male      157\n",
      "Female     87\n",
      "Name: count, dtype: int64\n"
     ]
    }
   ],
   "source": [
    "# value_counts - get_count on categorical columns\n",
    "print(df['smoker'].value_counts())  # Smokers and non-smokers\n",
    "print(df['gender'].value_counts())  # Males and Females"
   ]
  },
  {
   "cell_type": "code",
   "execution_count": 113,
   "id": "8d5e8fcd-adfc-4546-ab76-373ccee61946",
   "metadata": {},
   "outputs": [
    {
     "name": "stdout",
     "output_type": "stream",
     "text": [
      "[2 3 4 1 6 5]\n",
      "6\n",
      "['Dinner' 'Lunch']\n"
     ]
    }
   ],
   "source": [
    "# Unique\n",
    "print(df['size'].unique())  # All the unique values as an array\n",
    "print(df['size'].nunique()) # Number of unique values (i.e. count of the above array)\n",
    "print(df['time'].unique())  # For a char column"
   ]
  },
  {
   "cell_type": "code",
   "execution_count": 112,
   "id": "b1d87050-04cb-4bd4-a7e9-140fd109df5d",
   "metadata": {},
   "outputs": [
    {
     "name": "stdout",
     "output_type": "stream",
     "text": [
      "0       True\n",
      "1       True\n",
      "2      False\n",
      "3      False\n",
      "4      False\n",
      "       ...  \n",
      "239    False\n",
      "240    False\n",
      "241    False\n",
      "242     True\n",
      "243     True\n",
      "Name: total_bill, Length: 244, dtype: bool\n",
      "    Payment ID  total_bill   tip  gender smoker   day    time  size  \\\n",
      "0      Sun2959       16.99  1.01  Female     No   Sun  Dinner     2   \n",
      "1      Sun4608       10.34  1.66    Male     No   Sun  Dinner     3   \n",
      "8      Sun6820       15.04  1.96    Male     No   Sun  Dinner     2   \n",
      "9      Sun3775       14.78  3.23    Male     No   Sun  Dinner     2   \n",
      "10     Sun2546       10.27  1.71    Male     No   Sun  Dinner     2   \n",
      "..         ...         ...   ...     ...    ...   ...     ...   ...   \n",
      "234    Sat7220       15.53  3.00    Male    Yes   Sat  Dinner     2   \n",
      "235    Sat4615       10.07  1.25    Male     No   Sat  Dinner     2   \n",
      "236    Sat5032       12.60  1.00    Male    Yes   Sat  Dinner     2   \n",
      "242      Sat17       17.82  1.75    Male     No   Sat  Dinner     2   \n",
      "243    Thur672       18.78  3.00  Female     No  Thur  Dinner     2   \n",
      "\n",
      "     price_per_person          Payer Name     CC Number  \n",
      "0                8.49  Christy Cunningham  3.560330e+15  \n",
      "1                3.45      Douglas Tucker  4.478070e+15  \n",
      "8                7.52     Joseph Mcdonald  3.522870e+15  \n",
      "9                7.39       Jerome Abbott  3.532120e+15  \n",
      "10               5.14       William Riley  5.662880e+11  \n",
      "..                ...                 ...           ...  \n",
      "234              7.76       Tracy Douglas  4.097940e+15  \n",
      "235              5.04       Sean Gonzalez  3.534020e+15  \n",
      "236              6.30       Matthew Myers  3.543680e+15  \n",
      "242              8.91        Dennis Dixon  4.375220e+12  \n",
      "243              9.39     Michelle Hardin  3.511450e+15  \n",
      "\n",
      "[130 rows x 11 columns]\n"
     ]
    }
   ],
   "source": [
    "# between options for inclusive are both, left, right, neither\n",
    "print(df['total_bill'].between(10, 20, inclusive=\"both\"))    # True/ False\n",
    "print(df[df['total_bill'].between(10, 20, inclusive=\"both\")]) # Actual Data"
   ]
  },
  {
   "cell_type": "code",
   "execution_count": null,
   "id": "8d7269bf-3216-4d57-828d-053bcae3cbd6",
   "metadata": {},
   "outputs": [],
   "source": []
  }
 ],
 "metadata": {
  "kernelspec": {
   "display_name": "Python 3 (ipykernel)",
   "language": "python",
   "name": "python3"
  },
  "language_info": {
   "codemirror_mode": {
    "name": "ipython",
    "version": 3
   },
   "file_extension": ".py",
   "mimetype": "text/x-python",
   "name": "python",
   "nbconvert_exporter": "python",
   "pygments_lexer": "ipython3",
   "version": "3.11.7"
  }
 },
 "nbformat": 4,
 "nbformat_minor": 5
}
