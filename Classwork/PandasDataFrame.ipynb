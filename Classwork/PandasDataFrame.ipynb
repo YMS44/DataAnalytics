{
 "cells": [
  {
   "cell_type": "code",
   "execution_count": 2,
   "id": "89d101c6-43d3-42e2-a896-40231bad398d",
   "metadata": {},
   "outputs": [],
   "source": [
    "import numpy as np\n",
    "import pandas as pd"
   ]
  },
  {
   "cell_type": "code",
   "execution_count": 3,
   "id": "0badf69b-6b88-409f-8007-a17913c20cc1",
   "metadata": {},
   "outputs": [
    {
     "name": "stdout",
     "output_type": "stream",
     "text": [
      "[[95 11 81]\n",
      " [70 63 87]\n",
      " [75  9 77]\n",
      " [40  4 63]]\n"
     ]
    }
   ],
   "source": [
    "# Create a simple DataFrame from an existing Python list\n",
    "np.random.seed(101)\n",
    "mydata = np.random.randint(0, 101, (4, 3))\n",
    "print(mydata)"
   ]
  },
  {
   "cell_type": "code",
   "execution_count": 4,
   "id": "df7a7337-0ab1-4331-b5b2-0ce7a6f0f879",
   "metadata": {},
   "outputs": [
    {
     "name": "stdout",
     "output_type": "stream",
     "text": [
      "    0   1   2\n",
      "0  95  11  81\n",
      "1  70  63  87\n",
      "2  75   9  77\n",
      "3  40   4  63\n"
     ]
    }
   ],
   "source": [
    "myindex = ['CA', 'NY', 'AZ', 'TX']\n",
    "mycolumns = ['Jan', 'Feb', 'Mar']\n",
    "\n",
    "df = pd.DataFrame(data=mydata)\n",
    "print(df)"
   ]
  },
  {
   "cell_type": "code",
   "execution_count": 8,
   "id": "4a00efce-a2a0-47ff-85aa-dad58ad4fd5e",
   "metadata": {},
   "outputs": [
    {
     "name": "stdout",
     "output_type": "stream",
     "text": [
      "     0   1   2\n",
      "CA  95  11  81\n",
      "NY  70  63  87\n",
      "AZ  75   9  77\n",
      "TX  40   4  63\n"
     ]
    }
   ],
   "source": [
    "df = pd.DataFrame(data=mydata, index=myindex)\n",
    "print(df)"
   ]
  },
  {
   "cell_type": "code",
   "execution_count": 10,
   "id": "2611299e-ef80-4363-9556-2eac1be6b75c",
   "metadata": {},
   "outputs": [
    {
     "name": "stdout",
     "output_type": "stream",
     "text": [
      "    Jan  Feb  Mar\n",
      "CA   95   11   81\n",
      "NY   70   63   87\n",
      "AZ   75    9   77\n",
      "TX   40    4   63\n"
     ]
    }
   ],
   "source": [
    "df = pd.DataFrame(data=mydata, index=myindex, columns=mycolumns)\n",
    "print(df)"
   ]
  },
  {
   "cell_type": "code",
   "execution_count": 11,
   "id": "753fda61-793c-4c4c-8d9f-f44c15c50ef9",
   "metadata": {},
   "outputs": [
    {
     "name": "stdout",
     "output_type": "stream",
     "text": [
      "<class 'pandas.core.frame.DataFrame'>\n",
      "Index: 4 entries, CA to TX\n",
      "Data columns (total 3 columns):\n",
      " #   Column  Non-Null Count  Dtype\n",
      "---  ------  --------------  -----\n",
      " 0   Jan     4 non-null      int32\n",
      " 1   Feb     4 non-null      int32\n",
      " 2   Mar     4 non-null      int32\n",
      "dtypes: int32(3)\n",
      "memory usage: 80.0+ bytes\n",
      "None\n"
     ]
    }
   ],
   "source": [
    "print(df.info())"
   ]
  },
  {
   "cell_type": "code",
   "execution_count": 12,
   "id": "32338a6c-ca59-49db-b65f-5511b3927b8d",
   "metadata": {},
   "outputs": [
    {
     "name": "stdout",
     "output_type": "stream",
     "text": [
      "             Jan        Feb        Mar\n",
      "count   4.000000   4.000000   4.000000\n",
      "mean   70.000000  21.750000  77.000000\n",
      "std    22.730303  27.657127  10.198039\n",
      "min    40.000000   4.000000  63.000000\n",
      "25%    62.500000   7.750000  73.500000\n",
      "50%    72.500000  10.000000  79.000000\n",
      "75%    80.000000  24.000000  82.500000\n",
      "max    95.000000  63.000000  87.000000\n"
     ]
    }
   ],
   "source": [
    "print(df.describe())"
   ]
  },
  {
   "cell_type": "code",
   "execution_count": null,
   "id": "73c5dc2a-4ed5-476f-8557-675e21cfa4a8",
   "metadata": {},
   "outputs": [],
   "source": []
  }
 ],
 "metadata": {
  "kernelspec": {
   "display_name": "Python 3 (ipykernel)",
   "language": "python",
   "name": "python3"
  },
  "language_info": {
   "codemirror_mode": {
    "name": "ipython",
    "version": 3
   },
   "file_extension": ".py",
   "mimetype": "text/x-python",
   "name": "python",
   "nbconvert_exporter": "python",
   "pygments_lexer": "ipython3",
   "version": "3.11.7"
  }
 },
 "nbformat": 4,
 "nbformat_minor": 5
}
