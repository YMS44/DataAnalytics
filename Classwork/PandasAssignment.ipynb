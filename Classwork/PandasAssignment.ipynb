{
 "cells": [
  {
   "cell_type": "code",
   "execution_count": 11,
   "id": "3441d9e8-4135-480f-b3c2-bfbc296f797e",
   "metadata": {},
   "outputs": [],
   "source": [
    "import pandas as pd\n",
    "import numpy as np"
   ]
  },
  {
   "cell_type": "markdown",
   "id": "16ccf1ae-79e3-4027-9eb1-045e1b6f19ac",
   "metadata": {},
   "source": [
    "#### 1. Write a Pandas program to create and display a one-dimensional array-like object containing an array of data using Pandas module."
   ]
  },
  {
   "cell_type": "code",
   "execution_count": 12,
   "id": "68145928-7b57-410a-87de-f614c0152cb1",
   "metadata": {},
   "outputs": [
    {
     "name": "stdout",
     "output_type": "stream",
     "text": [
      "0     2\n",
      "1     4\n",
      "2     6\n",
      "3     8\n",
      "4    10\n",
      "dtype: int64\n"
     ]
    }
   ],
   "source": [
    "ds = pd.Series([2, 4, 6, 8, 10])\n",
    "print(ds)"
   ]
  },
  {
   "cell_type": "markdown",
   "id": "ba875678-9680-4e21-b126-e7ad8df6f4ee",
   "metadata": {},
   "source": [
    "#### 2. Write a Pandas program to convert a Panda module Series to Python list and it's type."
   ]
  },
  {
   "cell_type": "code",
   "execution_count": 13,
   "id": "f2aa015b-14da-4726-9fd0-2b1f6399b2d7",
   "metadata": {},
   "outputs": [
    {
     "name": "stdout",
     "output_type": "stream",
     "text": [
      "<class 'list'>\n",
      "[2, 4, 6, 8, 10]\n"
     ]
    }
   ],
   "source": [
    "ds = pd.Series([2, 4, 6, 8, 10])\n",
    "lst = list(ds)\n",
    "print(type(lst))\n",
    "print(lst)"
   ]
  },
  {
   "cell_type": "markdown",
   "id": "3c1b2f79-f594-44af-b95e-432901297bcf",
   "metadata": {},
   "source": [
    "#### 3. Write a Pandas program to add, subtract, multiple and divide two Pandas Series. Sample Series: [2, 4, 6, 8, 10], [1, 3, 5, 7, 9]"
   ]
  },
  {
   "cell_type": "code",
   "execution_count": 14,
   "id": "1f56cbca-43ed-43dc-8eed-9a3e898f75dc",
   "metadata": {},
   "outputs": [
    {
     "name": "stdout",
     "output_type": "stream",
     "text": [
      "0     3\n",
      "1     7\n",
      "2    11\n",
      "3    15\n",
      "4    19\n",
      "dtype: int64\n",
      "0    1\n",
      "1    1\n",
      "2    1\n",
      "3    1\n",
      "4    1\n",
      "dtype: int64\n",
      "0     2\n",
      "1    12\n",
      "2    30\n",
      "3    56\n",
      "4    90\n",
      "dtype: int64\n",
      "0    2.000000\n",
      "1    1.333333\n",
      "2    1.200000\n",
      "3    1.142857\n",
      "4    1.111111\n",
      "dtype: float64\n"
     ]
    }
   ],
   "source": [
    "sr1 = pd.Series([2, 4, 6, 8, 10])\n",
    "sr2 = pd.Series([1, 3, 5, 7, 9])\n",
    "\n",
    "print(sr1+sr2)\n",
    "print(sr1-sr2)\n",
    "print(sr1*sr2)\n",
    "print(sr1/sr2)"
   ]
  },
  {
   "cell_type": "markdown",
   "id": "2fffce1f-d105-42ba-93d3-86f402dd310a",
   "metadata": {},
   "source": [
    "#### 4. Write a Pandas program to compare the elements of the two Pandas Series.Sample Series: [2, 4, 6, 8, 10], [1, 3, 5, 7, 10]"
   ]
  },
  {
   "cell_type": "code",
   "execution_count": 15,
   "id": "272bbb60-fd03-446f-8412-ab725a249209",
   "metadata": {},
   "outputs": [
    {
     "name": "stdout",
     "output_type": "stream",
     "text": [
      "0    False\n",
      "1     True\n",
      "2    False\n",
      "3     True\n",
      "4    False\n",
      "dtype: bool\n"
     ]
    }
   ],
   "source": [
    "sr1 = pd.Series([2, 4, 6, 8, 10])\n",
    "sr2 = pd.Series([1, 4, 2, 8, 9])\n",
    "\n",
    "print(sr1 == sr2)"
   ]
  },
  {
   "cell_type": "markdown",
   "id": "9f8f9896-509e-4453-8eb2-746ac5885586",
   "metadata": {},
   "source": [
    "#### 5. Write a Pandas program to convert a dictionary to a Pandas series."
   ]
  },
  {
   "cell_type": "code",
   "execution_count": 16,
   "id": "27c9f049-f4cc-4fe5-82c2-8b6260a96219",
   "metadata": {},
   "outputs": [
    {
     "data": {
      "text/plain": [
       "a    100\n",
       "b    200\n",
       "c    300\n",
       "d    400\n",
       "e    800\n",
       "dtype: int64"
      ]
     },
     "execution_count": 16,
     "metadata": {},
     "output_type": "execute_result"
    }
   ],
   "source": [
    "Original_dictionary={'a': 100, 'b': 200, 'c': 300, 'd': 400, 'e': 800}\n",
    "s = pd.Series(Original_dictionary)\n",
    "s"
   ]
  },
  {
   "cell_type": "markdown",
   "id": "e51abace-a86a-4122-9a6f-c3e7e887ac0c",
   "metadata": {},
   "source": [
    " #### 6. Write a Pandas program to convert a NumPy array to a Pandas series."
   ]
  },
  {
   "cell_type": "code",
   "execution_count": 17,
   "id": "6b68d9a7-f2fc-4921-9e62-1d411fb903c8",
   "metadata": {},
   "outputs": [
    {
     "name": "stdout",
     "output_type": "stream",
     "text": [
      "0     77\n",
      "1     56\n",
      "2     83\n",
      "3     56\n",
      "4      6\n",
      "5     30\n",
      "6     68\n",
      "7      3\n",
      "8     61\n",
      "9     71\n",
      "10    64\n",
      "11    90\n",
      "dtype: int32\n"
     ]
    }
   ],
   "source": [
    "arr = np.random.randint(1, 100, 12)\n",
    "srs = pd.Series(arr)\n",
    "print(srs)"
   ]
  },
  {
   "cell_type": "markdown",
   "id": "7b5aaa5a-797e-4082-b026-622bce7d62e0",
   "metadata": {},
   "source": [
    "#### 7. Write a Pandas program to change the data type of given a column or a Series."
   ]
  },
  {
   "cell_type": "code",
   "execution_count": 18,
   "id": "9d741c7e-e28a-4c16-a0d2-7be67df1a84d",
   "metadata": {},
   "outputs": [
    {
     "name": "stdout",
     "output_type": "stream",
     "text": [
      "0    100.0\n",
      "1    200.0\n",
      "2      NaN\n",
      "3    400.0\n",
      "4    500.0\n",
      "dtype: float64\n"
     ]
    }
   ],
   "source": [
    "srs  = pd.Series([100, 200, \"python\", 400, 500])\n",
    "srs = pd.to_numeric(srs, errors='coerce')\n",
    "print(srs)"
   ]
  },
  {
   "cell_type": "markdown",
   "id": "51969c00-41d8-4b82-9da3-8c130fafb942",
   "metadata": {},
   "source": [
    "#### 8. Write a Pandas program to convert the first column of a DataFrame as a Series."
   ]
  },
  {
   "cell_type": "code",
   "execution_count": 19,
   "id": "8a3d381f-c672-452e-a893-1bcc6a001f93",
   "metadata": {},
   "outputs": [
    {
     "name": "stdout",
     "output_type": "stream",
     "text": [
      "   col1  col2  col3\n",
      "0    44    22    95\n",
      "1    87    41    58\n",
      "2    51    29    57\n",
      "3    56    76    50\n",
      "0    44\n",
      "1    87\n",
      "2    51\n",
      "3    56\n",
      "Name: col1, dtype: int32\n"
     ]
    }
   ],
   "source": [
    "mydata = np.random.randint(0, 101, (4, 3))\n",
    "mycolumns = ['col1', 'col2', 'col3']\n",
    "\n",
    "df = pd.DataFrame(data=mydata, columns=mycolumns)\n",
    "print(df)\n",
    "\n",
    "series = pd.Series(df[\"col1\"])\n",
    "print(series)"
   ]
  },
  {
   "cell_type": "markdown",
   "id": "7c303d56-68bf-4816-9bce-7e0e0d263b22",
   "metadata": {},
   "source": [
    "#### 9. Write a Pandas program to convert a given Series to an array."
   ]
  },
  {
   "cell_type": "code",
   "execution_count": 20,
   "id": "5e3e3ce8-0556-4668-afd4-e1bd4cf8a5b1",
   "metadata": {},
   "outputs": [
    {
     "name": "stdout",
     "output_type": "stream",
     "text": [
      "[100 200 300 400 500]\n"
     ]
    }
   ],
   "source": [
    "srs  = pd.Series([100, 200, 300, 400, 500])\n",
    "\n",
    "arr = np.array(srs)\n",
    "print(arr)"
   ]
  },
  {
   "cell_type": "markdown",
   "id": "c7b56798-06d2-43ba-a033-4360d5b0f5d5",
   "metadata": {},
   "source": [
    "#### 10. Write a Pandas program to convert Series of lists to one Series."
   ]
  },
  {
   "cell_type": "code",
   "execution_count": 21,
   "id": "3265611e-a19c-4c12-9a64-3ea4b3d3b57f",
   "metadata": {},
   "outputs": [
    {
     "name": "stdout",
     "output_type": "stream",
     "text": [
      "0     23\n",
      "1     67\n",
      "2     89\n",
      "3     76\n",
      "4     78\n",
      "5     67\n",
      "6     78\n",
      "7     65\n",
      "8     67\n",
      "9     54\n",
      "10    34\n",
      "11    23\n",
      "12    67\n",
      "13    56\n",
      "14    32\n",
      "15    98\n",
      "dtype: int64\n"
     ]
    }
   ],
   "source": [
    "srs  = pd.Series([[23,67,89,76],[78,67,78,65],[67,54,34,23],[67,56,32,98]])\n",
    "# srs = srs.apply(pd.Series).stack().reset_index(drop = True) \n",
    "# print(srs)\n",
    "l=[]\n",
    "for i in srs:\n",
    "    l.extend(i)\n",
    "\n",
    "print(pd.Series(l))"
   ]
  },
  {
   "cell_type": "markdown",
   "id": "2ba34b5d-27a4-4a6e-bc44-cd3b91b185a5",
   "metadata": {},
   "source": [
    "#### 11. Write a Pandas program to sort a given Series."
   ]
  },
  {
   "cell_type": "code",
   "execution_count": 22,
   "id": "6e14fe01-1730-4c18-b025-d86be2d257ad",
   "metadata": {},
   "outputs": [
    {
     "name": "stdout",
     "output_type": "stream",
     "text": [
      "0       100\n",
      "1       200\n",
      "3    300.12\n",
      "4       400\n",
      "2    python\n",
      "dtype: object\n"
     ]
    }
   ],
   "source": [
    "srs  = pd.Series(['100', '200', 'python', '300.12', '400'])\n",
    "new_s = pd.Series(srs).sort_values()\n",
    "print(new_s)"
   ]
  },
  {
   "cell_type": "markdown",
   "id": "5fa53a87-2cb8-4ab8-8881-dfc3e5f4e172",
   "metadata": {},
   "source": [
    "#### 12. Write a Pandas program to add some data to an existing Series."
   ]
  },
  {
   "cell_type": "code",
   "execution_count": 23,
   "id": "90055802-f545-48d0-b806-a5124c56f9b3",
   "metadata": {},
   "outputs": [
    {
     "name": "stdout",
     "output_type": "stream",
     "text": [
      "0       100\n",
      "1       200\n",
      "2    python\n",
      "3    300.12\n",
      "4       400\n",
      "0       101\n",
      "1      Riya\n",
      "dtype: object\n"
     ]
    }
   ],
   "source": [
    "srs  = pd.Series(['100', '200', 'python', '300.12', '400'])\n",
    "new_srs=pd.concat([srs,pd.Series([101,'Riya'])])\n",
    "print(new_srs)"
   ]
  },
  {
   "cell_type": "markdown",
   "id": "b10f7cfc-55da-4c95-acea-4bd0b376ae2b",
   "metadata": {},
   "source": [
    "#### 13. Write a Pandas program to create a subset of a given series based on value and condition."
   ]
  },
  {
   "cell_type": "code",
   "execution_count": 24,
   "id": "173e41dc-be3e-4b9e-80e1-21e1e65fbdb7",
   "metadata": {},
   "outputs": [
    {
     "name": "stdout",
     "output_type": "stream",
     "text": [
      "0    0\n",
      "1    1\n",
      "2    2\n",
      "3    3\n",
      "4    4\n",
      "5    5\n",
      "dtype: int32\n"
     ]
    }
   ],
   "source": [
    "arr = np.arange(11)\n",
    "srs = pd.Series(arr)\n",
    "print(srs[:6])"
   ]
  },
  {
   "cell_type": "markdown",
   "id": "bf16ef7d-3305-4ce3-9f83-ad964a11a655",
   "metadata": {},
   "source": [
    "#### 14. Write a Pandas program to change the order of index of a given series."
   ]
  },
  {
   "cell_type": "code",
   "execution_count": 25,
   "id": "ca98554d-6657-45ff-95b1-f165e2249e09",
   "metadata": {},
   "outputs": [
    {
     "name": "stdout",
     "output_type": "stream",
     "text": [
      "A    1\n",
      "B    2\n",
      "C    3\n",
      "D    4\n",
      "E    5\n",
      "dtype: int64\n",
      "B    2\n",
      "A    1\n",
      "C    3\n",
      "D    4\n",
      "E    5\n",
      "dtype: int64\n"
     ]
    }
   ],
   "source": [
    "l2=[1,2,3,4,5]\n",
    "l1=['A','B','C','D','E']\n",
    "srs = pd.Series(l2,index=l1)\n",
    "print(srs)\n",
    "srs = srs.reindex(index = ['B','A','C','D','E'])\n",
    "print(srs)"
   ]
  },
  {
   "cell_type": "markdown",
   "id": "ecf8b84e-cc14-4c28-89f5-330cdb20494a",
   "metadata": {},
   "source": [
    "#### 15. Write a Pandas program to create the mean and standard deviation of the data of a given Series."
   ]
  },
  {
   "cell_type": "code",
   "execution_count": 26,
   "id": "1b816fde-2f0b-4ce7-83b8-62a5302734b3",
   "metadata": {},
   "outputs": [
    {
     "name": "stdout",
     "output_type": "stream",
     "text": [
      "Series:\n",
      "0    3\n",
      "1    1\n",
      "2    5\n",
      "3    2\n",
      "4    3\n",
      "5    1\n",
      "6    9\n",
      "7    3\n",
      "8    2\n",
      "9    3\n",
      "dtype: int32  Mean:3.2 , STD: 2.3475755815545347\n"
     ]
    }
   ],
   "source": [
    "l =np.random.randint(1,10,10)\n",
    "srs = pd.Series(l)\n",
    "mean = srs.mean()\n",
    "std = srs.std()\n",
    "print(f'Series:\\n{srs}  Mean:{mean} , STD: {std}')"
   ]
  },
  {
   "cell_type": "markdown",
   "id": "d3d61acc-b9a3-4167-81b0-7947fa94276d",
   "metadata": {},
   "source": [
    "#### 16. Write a Pandas program to get the items of a given series not present in another given series."
   ]
  },
  {
   "cell_type": "code",
   "execution_count": 27,
   "id": "25a13d26-fba7-4dcd-905a-190271f2863f",
   "metadata": {},
   "outputs": [
    {
     "name": "stdout",
     "output_type": "stream",
     "text": [
      "0    1\n",
      "2    3\n",
      "4    5\n",
      "dtype: int64\n"
     ]
    }
   ],
   "source": [
    "sr1 = [1,2,3,4,5]\n",
    "sr2=[2,4,6,8,10]\n",
    "srs1 = pd.Series(sr1)\n",
    "srs2 = pd.Series(sr2)\n",
    "res = srs1[~srs1.isin(srs2)]\n",
    "print(res)"
   ]
  },
  {
   "cell_type": "markdown",
   "id": "32c96eb4-4a30-4342-8029-e2fd5c02aff7",
   "metadata": {},
   "source": [
    "#### 17. Write a Pandas program to get the items which are not common of two given series."
   ]
  },
  {
   "cell_type": "code",
   "execution_count": 28,
   "id": "00449a0c-b00f-40b3-a3b7-1bdd4323728d",
   "metadata": {},
   "outputs": [
    {
     "data": {
      "text/plain": [
       "0     1\n",
       "2     3\n",
       "4     5\n",
       "2     6\n",
       "3     8\n",
       "4    10\n",
       "dtype: int64"
      ]
     },
     "execution_count": 28,
     "metadata": {},
     "output_type": "execute_result"
    }
   ],
   "source": [
    "sr1 = [1,2,3,4,5]\n",
    "sr2=[2,4,6,8,10]\n",
    "srs1 = pd.Series(sr1)\n",
    "srs2 = pd.Series(sr2)\n",
    "res = srs1[~srs1.isin(srs2)]\n",
    "res1 = srs2[~srs2.isin(srs1)]\n",
    "res2 = pd.concat([res,res1])\n",
    "res2\n"
   ]
  },
  {
   "cell_type": "markdown",
   "id": "33f2fc2a-72bd-49ff-ae3d-c33b0f4b67fe",
   "metadata": {},
   "source": [
    "#### 18. Write a Pandas program to compute the minimum, 25th percentile, median, 75th, and maximum of a given series."
   ]
  },
  {
   "cell_type": "code",
   "execution_count": 29,
   "id": "ae1acf5c-2b44-4ac7-b24e-147420d5c80f",
   "metadata": {},
   "outputs": [
    {
     "name": "stdout",
     "output_type": "stream",
     "text": [
      "Original Series:\n",
      "0     14\n",
      "1     10\n",
      "2     13\n",
      "3     13\n",
      "4     15\n",
      "5     19\n",
      "6     14\n",
      "7     12\n",
      "8     16\n",
      "9     16\n",
      "10    19\n",
      "11    18\n",
      "12    13\n",
      "13    14\n",
      "14    19\n",
      "15    13\n",
      "16    18\n",
      "17    12\n",
      "18    15\n",
      "19    14\n",
      "dtype: int32\n",
      "\n",
      "Minimum, 25th percentile, median, 75th, and maximum of a given series:\n",
      "[10.  13.  14.  16.5 19. ]\n"
     ]
    }
   ],
   "source": [
    "num_series = pd.Series( np.random.randint(10,20,20))\n",
    "print(\"Original Series:\") \n",
    "print(num_series)\n",
    "result = np.percentile(num_series, q=[0, 25, 50, 75, 100])\n",
    "print(\"\\nMinimum, 25th percentile, median, 75th, and maximum of a given series:\")\n",
    "print(result)\n"
   ]
  },
  {
   "cell_type": "markdown",
   "id": "eab9bbab-5fcc-49d9-b298-c42d52f5a135",
   "metadata": {},
   "source": [
    "#### 19. Write a Pandas program to calculate the frequency counts of each unique value of a given series."
   ]
  },
  {
   "cell_type": "code",
   "execution_count": 30,
   "id": "96f3a30c-5713-422b-b459-7df4bf9fd60a",
   "metadata": {},
   "outputs": [
    {
     "data": {
      "text/plain": [
       "16    7\n",
       "18    7\n",
       "19    5\n",
       "15    4\n",
       "12    4\n",
       "13    4\n",
       "17    3\n",
       "11    3\n",
       "14    2\n",
       "10    1\n",
       "dtype: int64"
      ]
     },
     "execution_count": 30,
     "metadata": {},
     "output_type": "execute_result"
    }
   ],
   "source": [
    "num_series = pd.Series( np.random.randint(10,20,40))\n",
    "result = num_series.value_counts()\n",
    "result"
   ]
  },
  {
   "cell_type": "markdown",
   "id": "343da06a-64ca-48a8-937e-85a3a15edde2",
   "metadata": {},
   "source": [
    "#### 20. Write a Pandas program to display most frequent value in a given series and replace everything else as 'Other' in the series."
   ]
  },
  {
   "cell_type": "code",
   "execution_count": 31,
   "id": "826adb05-e388-4f6c-8281-c0522b5ccb18",
   "metadata": {},
   "outputs": [
    {
     "name": "stdout",
     "output_type": "stream",
     "text": [
      "Original Series: \n",
      "0     15\n",
      "1     13\n",
      "2     16\n",
      "3     15\n",
      "4     11\n",
      "5     11\n",
      "6     13\n",
      "7     17\n",
      "8     10\n",
      "9     12\n",
      "10    18\n",
      "11    11\n",
      "12    11\n",
      "13    10\n",
      "14    17\n",
      "15    14\n",
      "16    18\n",
      "17    15\n",
      "18    19\n",
      "19    15\n",
      "20    12\n",
      "21    10\n",
      "22    18\n",
      "23    13\n",
      "24    19\n",
      "25    14\n",
      "26    13\n",
      "27    11\n",
      "28    12\n",
      "29    18\n",
      "dtype: int32\n",
      "<class 'pandas.core.series.Series'>\n"
     ]
    }
   ],
   "source": [
    "num_series = pd.Series(np.random.randint(10,20,30))\n",
    "print(\"Original Series: \")\n",
    "print(num_series)\n",
    "print(type(num_series.value_counts()))"
   ]
  },
  {
   "cell_type": "markdown",
   "id": "05229ddb-7685-4310-8f49-8afabb46da2d",
   "metadata": {},
   "source": [
    "#### 21. Write a Pandas program to find the positions of numbers that are multiples of 5 of a given series."
   ]
  },
  {
   "cell_type": "code",
   "execution_count": 49,
   "id": "7e08961a",
   "metadata": {},
   "outputs": [
    {
     "name": "stdout",
     "output_type": "stream",
     "text": [
      "Original Series:\n",
      "0    3\n",
      "1    7\n",
      "2    5\n",
      "3    7\n",
      "4    6\n",
      "5    1\n",
      "6    3\n",
      "7    2\n",
      "8    4\n",
      "dtype: int32\n",
      "Positions of numbers that are multiples of 5:\n",
      "(array([2], dtype=int64),)\n"
     ]
    }
   ],
   "source": [
    "num_series = pd.Series(np.random.randint(1, 10, 9))\n",
    "print(\"Original Series:\")\n",
    "print(num_series)\n",
    "result = np.where(num_series % 5==0)\n",
    "print(\"Positions of numbers that are multiples of 5:\")\n",
    "print(result)"
   ]
  },
  {
   "cell_type": "markdown",
   "id": "fe86aade",
   "metadata": {},
   "source": [
    "#### 22. Write a Pandas program to extract items at given positions of a given series."
   ]
  },
  {
   "cell_type": "code",
   "execution_count": 50,
   "id": "3c54837c",
   "metadata": {},
   "outputs": [
    {
     "name": "stdout",
     "output_type": "stream",
     "text": [
      "Original Series:\n",
      "0     2\n",
      "1     3\n",
      "2     9\n",
      "3     0\n",
      "4     2\n",
      "5     3\n",
      "6     8\n",
      "7     9\n",
      "8     2\n",
      "9     3\n",
      "10    9\n",
      "11    0\n",
      "12    2\n",
      "13    3\n",
      "14    9\n",
      "15    0\n",
      "16    2\n",
      "17    3\n",
      "18    9\n",
      "19    0\n",
      "20    2\n",
      "21    3\n",
      "dtype: object\n",
      "\n",
      "Extract items at given positions of the said series:\n",
      "0     2\n",
      "2     9\n",
      "6     8\n",
      "11    0\n",
      "21    3\n",
      "dtype: object\n"
     ]
    }
   ],
   "source": [
    "num_series = pd.Series(list('2390238923902390239023'))\n",
    "element_pos = [0, 2, 6, 11, 21]\n",
    "print(\"Original Series:\")\n",
    "print(num_series)\n",
    "result = num_series.take(element_pos)\n",
    "print(\"\\nExtract items at given positions of the said series:\")\n",
    "print(result)"
   ]
  },
  {
   "cell_type": "markdown",
   "id": "eecc12b2",
   "metadata": {},
   "source": [
    "#### 23. Write a Pandas program to get the positions of items of a given series in another given series."
   ]
  },
  {
   "cell_type": "code",
   "execution_count": 52,
   "id": "774473a4",
   "metadata": {},
   "outputs": [
    {
     "name": "stdout",
     "output_type": "stream",
     "text": [
      "Original Series:\n",
      "0     1\n",
      "1     2\n",
      "2     3\n",
      "3     4\n",
      "4     5\n",
      "5     6\n",
      "6     7\n",
      "7     8\n",
      "8     9\n",
      "9    10\n",
      "dtype: int64\n",
      "0     1\n",
      "1     3\n",
      "2     5\n",
      "3     7\n",
      "4    10\n",
      "dtype: int64\n",
      "Positions of items of series2 in series1:\n",
      "[0, 2, 4, 6, 9]\n"
     ]
    }
   ],
   "source": [
    "series1 = pd.Series([1, 2, 3, 4, 5, 6, 7, 8, 9, 10])\n",
    "series2 = pd.Series([1, 3, 5, 7, 10])\n",
    "print(\"Original Series:\")\n",
    "print(series1)\n",
    "print(series2)\n",
    "result = [pd.Index(series1).get_loc(i) for i in series2]\n",
    "print(\"Positions of items of series2 in series1:\")\n",
    "print(result)"
   ]
  },
  {
   "cell_type": "markdown",
   "id": "34670bc6",
   "metadata": {},
   "source": [
    "#### 24. Write a Pandas program convert the first and last character of each word to upper case in each word of a given series."
   ]
  },
  {
   "cell_type": "code",
   "execution_count": 53,
   "id": "8a4e9923",
   "metadata": {},
   "outputs": [
    {
     "name": "stdout",
     "output_type": "stream",
     "text": [
      "Original Series:\n",
      "0       php\n",
      "1    python\n",
      "2      java\n",
      "3        c#\n",
      "dtype: object\n",
      "\n",
      "First and last character of each word to upper case:\n",
      "0       PhP\n",
      "1    PythoN\n",
      "2      JavA\n",
      "3        C#\n",
      "dtype: object\n"
     ]
    }
   ],
   "source": [
    "series1 = pd.Series(['php', 'python', 'java', 'c#'])\n",
    "print(\"Original Series:\")\n",
    "print(series1)\n",
    "result = series1.map(lambda x: x[0].upper() + x[1:-1] + x[-1].upper())\n",
    "print(\"\\nFirst and last character of each word to upper case:\")\n",
    "print(result)"
   ]
  },
  {
   "cell_type": "markdown",
   "id": "4ba46c63",
   "metadata": {},
   "source": [
    "#### 25. Write a Pandas program to calculate the number of characters in each word in a given series."
   ]
  },
  {
   "cell_type": "code",
   "execution_count": 55,
   "id": "e4458b8f",
   "metadata": {},
   "outputs": [
    {
     "name": "stdout",
     "output_type": "stream",
     "text": [
      "Original Series:\n",
      "0       Php\n",
      "1    Python\n",
      "2      Java\n",
      "3        C#\n",
      "dtype: object\n",
      "\n",
      "Number of characters in each word in the said series:\n",
      "0    3\n",
      "1    6\n",
      "2    4\n",
      "3    2\n",
      "dtype: int64\n"
     ]
    }
   ],
   "source": [
    "series1 = pd.Series(['Php', 'Python', 'Java', 'C#'])\n",
    "print(\"Original Series:\")\n",
    "print(series1)\n",
    "result = series1.map(lambda x: len(x))\n",
    "print(\"\\nNumber of characters in each word in the said series:\")\n",
    "print(result)"
   ]
  },
  {
   "cell_type": "markdown",
   "id": "ddf50538",
   "metadata": {},
   "source": [
    "#### 26. Write a Pandas program to compute difference of differences between consecutive numbers of a given series."
   ]
  },
  {
   "cell_type": "code",
   "execution_count": 32,
   "id": "a080ac06-2785-405c-a602-99d7b0982349",
   "metadata": {},
   "outputs": [
    {
     "name": "stdout",
     "output_type": "stream",
     "text": [
      "Original Series:\n",
      "0     1\n",
      "1     3\n",
      "2     5\n",
      "3     8\n",
      "4    10\n",
      "5    11\n",
      "6    15\n",
      "dtype: int64\n",
      "\n",
      "Difference of differences between consecutive numbers of the said series:\n",
      "[nan, 2.0, 2.0, 3.0, 2.0, 1.0, 4.0]\n",
      "[nan, nan, 0.0, 1.0, -1.0, -1.0, 3.0]\n"
     ]
    }
   ],
   "source": [
    "import pandas as pd\n",
    "series1 = pd.Series([1, 3, 5, 8, 10, 11, 15])\n",
    "print(\"Original Series:\")\n",
    "print(series1)\n",
    "print(\"\\nDifference of differences between consecutive numbers of the said series:\")\n",
    "print(series1.diff().tolist())\n",
    "print(series1.diff().diff().tolist())\n"
   ]
  },
  {
   "cell_type": "markdown",
   "id": "bca6312e",
   "metadata": {},
   "source": [
    "#### 27. Write a Pandas program to convert a series of date strings to a timeseries."
   ]
  },
  {
   "cell_type": "code",
   "execution_count": 33,
   "id": "ca46c56d-1300-4903-a157-a039d12ce93b",
   "metadata": {},
   "outputs": [
    {
     "name": "stdout",
     "output_type": "stream",
     "text": [
      "Original Series:\n",
      "0         01 Jan 2015\n",
      "1          10-02-2016\n",
      "2            20180307\n",
      "3          2014/05/06\n",
      "4          2016-04-12\n",
      "5    2019-04-06T11:20\n",
      "dtype: object\n",
      "\n",
      "Series of date strings to a timeseries:\n",
      "0   2015-01-01 00:00:00\n",
      "1   2016-10-02 00:00:00\n",
      "2   2018-03-07 00:00:00\n",
      "3   2014-05-06 00:00:00\n",
      "4   2016-04-12 00:00:00\n",
      "5   2019-04-06 11:20:00\n",
      "dtype: datetime64[ns]\n"
     ]
    }
   ],
   "source": [
    "date_series = pd.Series(['01 Jan 2015', '10-02-2016', '20180307', '2014/05/06', '2016-04-12', '2019-04-06T11:20'])\n",
    "print(\"Original Series:\")\n",
    "print(date_series)\n",
    "print(\"\\nSeries of date strings to a timeseries:\")\n",
    "print(pd.to_datetime(date_series))\n"
   ]
  },
  {
   "cell_type": "markdown",
   "id": "24c8847f",
   "metadata": {},
   "source": [
    "#### 28. Write a Pandas program to get the day of month, day of year, week number and day of week from a given series of date strings."
   ]
  },
  {
   "cell_type": "code",
   "execution_count": 2,
   "id": "925c0d3f",
   "metadata": {},
   "outputs": [
    {
     "name": "stdout",
     "output_type": "stream",
     "text": [
      "Original Series:\n",
      "0         01 Jan 2015\n",
      "1          10-02-2016\n",
      "2            20180307\n",
      "3          2014/05/06\n",
      "4          2016-04-12\n",
      "5    2019-04-06T11:20\n",
      "dtype: object\n",
      "Day of month:\n",
      "[1, 2, 7, 6, 12, 6]\n",
      "Day of year:\n",
      "[1, 276, 66, 126, 103, 96]\n",
      "Day of week:\n",
      "[3, 6, 2, 1, 1, 5]\n"
     ]
    }
   ],
   "source": [
    "import pandas as pd\n",
    "from dateutil.parser import parse\n",
    "date_series = pd.Series(['01 Jan 2015', '10-02-2016', '20180307', '2014/05/06', '2016-04-12', '2019-04-06T11:20'])\n",
    "print(\"Original Series:\")\n",
    "print(date_series)\n",
    "date_series = date_series.map(lambda x: parse(x))\n",
    "print(\"Day of month:\")\n",
    "print(date_series.dt.day.tolist())\n",
    "print(\"Day of year:\")\n",
    "print(date_series.dt.dayofyear.tolist())\n",
    "print(\"Day of week:\")\n",
    "print(date_series.dt.weekday.tolist())"
   ]
  },
  {
   "cell_type": "markdown",
   "id": "5575a89f",
   "metadata": {},
   "source": [
    "#### 29. Write a Pandas program to convert year-month string to dates adding a specified day of the month."
   ]
  },
  {
   "cell_type": "code",
   "execution_count": 35,
   "id": "23e4d060",
   "metadata": {},
   "outputs": [
    {
     "name": "stdout",
     "output_type": "stream",
     "text": [
      "Original Series:\n",
      "0    Jan 2015\n",
      "1    Feb 2016\n",
      "2    Mar 2017\n",
      "3    Apr 2018\n",
      "4    May 2019\n",
      "dtype: object\n",
      "\n",
      "New dates:\n",
      "0   2015-01-11\n",
      "1   2016-02-11\n",
      "2   2017-03-11\n",
      "3   2018-04-11\n",
      "4   2019-05-11\n",
      "dtype: datetime64[ns]\n"
     ]
    }
   ],
   "source": [
    "from dateutil.parser import parse\n",
    "date_series = pd.Series(['Jan 2015', 'Feb 2016', 'Mar 2017', 'Apr 2018', 'May 2019'])\n",
    "print(\"Original Series:\")\n",
    "print(date_series)\n",
    "print(\"\\nNew dates:\")\n",
    "result = date_series.map(lambda d: parse('11 ' + d))\n",
    "print(result)\n"
   ]
  },
  {
   "cell_type": "markdown",
   "id": "3646e18b",
   "metadata": {},
   "source": [
    "#### 30. Write a Pandas program to filter words from a given series that contain atleast two vowels."
   ]
  },
  {
   "cell_type": "code",
   "execution_count": 36,
   "id": "6fb5d681",
   "metadata": {},
   "outputs": [
    {
     "name": "stdout",
     "output_type": "stream",
     "text": [
      "Original Series:\n",
      "0       Red\n",
      "1     Green\n",
      "2    Orange\n",
      "3      Pink\n",
      "4    Yellow\n",
      "5     White\n",
      "dtype: object\n",
      "\n",
      "Filtered words:\n",
      "1     Green\n",
      "2    Orange\n",
      "4    Yellow\n",
      "5     White\n",
      "dtype: object\n"
     ]
    }
   ],
   "source": [
    "from collections import Counter\n",
    "color_series = pd.Series(['Red', 'Green', 'Orange', 'Pink', 'Yellow', 'White'])\n",
    "print(\"Original Series:\")\n",
    "print(color_series)\n",
    "print(\"\\nFiltered words:\")\n",
    "result =color_series.map(lambda c: sum([Counter(c.lower()).get(i, 0) for i in list('aeiou')]) >= 2)\n",
    "print(color_series[result])"
   ]
  },
  {
   "cell_type": "markdown",
   "id": "0f542bfd",
   "metadata": {},
   "source": [
    "#### 31. Write a Pandas program to compute the Euclidean distance between two given series."
   ]
  },
  {
   "cell_type": "code",
   "execution_count": 37,
   "id": "80a3e1b3",
   "metadata": {},
   "outputs": [
    {
     "name": "stdout",
     "output_type": "stream",
     "text": [
      "Original series:\n",
      "0     1\n",
      "1     2\n",
      "2     3\n",
      "3     4\n",
      "4     5\n",
      "5     6\n",
      "6     7\n",
      "7     8\n",
      "8     9\n",
      "9    10\n",
      "dtype: int64\n",
      "0    11\n",
      "1     8\n",
      "2     7\n",
      "3     5\n",
      "4     6\n",
      "5     5\n",
      "6     3\n",
      "7     4\n",
      "8     7\n",
      "9     1\n",
      "dtype: int64\n",
      "\n",
      "Euclidean distance between two said series:\n",
      "16.492422502470642\n"
     ]
    }
   ],
   "source": [
    "x = pd.Series([1, 2, 3, 4, 5, 6, 7, 8, 9, 10])\n",
    "y = pd.Series([11, 8, 7, 5, 6, 5, 3, 4, 7, 1])\n",
    "print(\"Original series:\")\n",
    "print(x)\n",
    "print(y)\n",
    "print(\"\\nEuclidean distance between two said series:\")\n",
    "print(np.linalg.norm(x-y))"
   ]
  },
  {
   "cell_type": "markdown",
   "id": "dfbb2878",
   "metadata": {},
   "source": [
    "#### 32. Write a Pandas program to find the positions of the values neighboured by smaller values on both sides in a given series."
   ]
  },
  {
   "cell_type": "code",
   "execution_count": 38,
   "id": "bc0315ec",
   "metadata": {},
   "outputs": [
    {
     "name": "stdout",
     "output_type": "stream",
     "text": [
      "Original series:\n",
      "0    1\n",
      "1    8\n",
      "2    7\n",
      "3    5\n",
      "4    6\n",
      "5    5\n",
      "6    3\n",
      "7    4\n",
      "8    7\n",
      "9    1\n",
      "dtype: int64\n",
      "\n",
      "Positions of the values surrounded by smaller values on both sides:\n",
      "[1 4 8]\n"
     ]
    }
   ],
   "source": [
    "nums = pd.Series([1, 8, 7, 5, 6, 5, 3, 4, 7, 1])\n",
    "print(\"Original series:\")\n",
    "print(nums)\n",
    "print(\"\\nPositions of the values surrounded by smaller values on both sides:\")\n",
    "temp = np.diff(np.sign(np.diff(nums)))\n",
    "result = np.where(temp == -2)[0] + 1\n",
    "print(result)"
   ]
  },
  {
   "cell_type": "markdown",
   "id": "87866565",
   "metadata": {},
   "source": [
    "#### 33. Write a Pandas program to replace missing white spaces in a given string with the least frequent character."
   ]
  },
  {
   "cell_type": "code",
   "execution_count": 40,
   "id": "debf8155",
   "metadata": {},
   "outputs": [
    {
     "name": "stdout",
     "output_type": "stream",
     "text": [
      "Original series:\n",
      "abc def abcdef icd\n",
      "c    3\n",
      "     3\n",
      "d    3\n",
      "a    2\n",
      "b    2\n",
      "e    2\n",
      "f    2\n",
      "i    1\n",
      "dtype: int64\n",
      "abcidefiabcdefiicd\n"
     ]
    }
   ],
   "source": [
    "str1 = 'abc def abcdef icd'\n",
    "print(\"Original series:\")\n",
    "print(str1)\n",
    "ser = pd.Series(list(str1))\n",
    "element_freq = ser.value_counts()\n",
    "print(element_freq)\n",
    "current_freq = element_freq.dropna().index[-1]\n",
    "result = \"\".join(ser.replace(' ', current_freq))\n",
    "print(result)"
   ]
  },
  {
   "cell_type": "markdown",
   "id": "49ebe607",
   "metadata": {},
   "source": [
    "#### 34. Write a Pandas program to compute the autocorrelations of a given numeric series."
   ]
  },
  {
   "cell_type": "code",
   "execution_count": 41,
   "id": "0718eb76",
   "metadata": {},
   "outputs": [
    {
     "name": "stdout",
     "output_type": "stream",
     "text": [
      "Original series:\n",
      "0     14.759319\n",
      "1     -8.706663\n",
      "2     -7.216158\n",
      "3     14.196768\n",
      "4      2.887033\n",
      "5     19.847339\n",
      "6      8.247172\n",
      "7     -2.780151\n",
      "8      5.478152\n",
      "9     10.712405\n",
      "10    32.861031\n",
      "11     9.022204\n",
      "12    12.902963\n",
      "13     5.422447\n",
      "14    21.363790\n",
      "dtype: float64\n",
      "\n",
      "Autocorrelations of the said series:\n",
      "[0.01, -0.08, -0.28, 0.03, 0.68, 0.25, 0.09, -0.63, -0.2, 0.39]\n"
     ]
    }
   ],
   "source": [
    "num_series = pd.Series(np.arange(15) + np.random.normal(1, 10, 15))\n",
    "print(\"Original series:\")\n",
    "print(num_series)\n",
    "autocorrelations = [num_series.autocorr(i).round(2) for i in range(11)]\n",
    "print(\"\\nAutocorrelations of the said series:\")\n",
    "print(autocorrelations[1:])"
   ]
  },
  {
   "cell_type": "markdown",
   "id": "5699cd71",
   "metadata": {},
   "source": [
    "#### 35. Write a Pandas program to create a TimeSeries to display all the Sundays of given year."
   ]
  },
  {
   "cell_type": "code",
   "execution_count": 42,
   "id": "323b991f",
   "metadata": {},
   "outputs": [
    {
     "name": "stdout",
     "output_type": "stream",
     "text": [
      "All Sundays of 2019:\n",
      "0    2020-01-05\n",
      "1    2020-01-12\n",
      "2    2020-01-19\n",
      "3    2020-01-26\n",
      "4    2020-02-02\n",
      "5    2020-02-09\n",
      "6    2020-02-16\n",
      "7    2020-02-23\n",
      "8    2020-03-01\n",
      "9    2020-03-08\n",
      "10   2020-03-15\n",
      "11   2020-03-22\n",
      "12   2020-03-29\n",
      "13   2020-04-05\n",
      "14   2020-04-12\n",
      "15   2020-04-19\n",
      "16   2020-04-26\n",
      "17   2020-05-03\n",
      "18   2020-05-10\n",
      "19   2020-05-17\n",
      "20   2020-05-24\n",
      "21   2020-05-31\n",
      "22   2020-06-07\n",
      "23   2020-06-14\n",
      "24   2020-06-21\n",
      "25   2020-06-28\n",
      "26   2020-07-05\n",
      "27   2020-07-12\n",
      "28   2020-07-19\n",
      "29   2020-07-26\n",
      "30   2020-08-02\n",
      "31   2020-08-09\n",
      "32   2020-08-16\n",
      "33   2020-08-23\n",
      "34   2020-08-30\n",
      "35   2020-09-06\n",
      "36   2020-09-13\n",
      "37   2020-09-20\n",
      "38   2020-09-27\n",
      "39   2020-10-04\n",
      "40   2020-10-11\n",
      "41   2020-10-18\n",
      "42   2020-10-25\n",
      "43   2020-11-01\n",
      "44   2020-11-08\n",
      "45   2020-11-15\n",
      "46   2020-11-22\n",
      "47   2020-11-29\n",
      "48   2020-12-06\n",
      "49   2020-12-13\n",
      "50   2020-12-20\n",
      "51   2020-12-27\n",
      "dtype: datetime64[ns]\n"
     ]
    }
   ],
   "source": [
    "result = pd.Series(pd.date_range('2020-01-01', periods=52, freq='W-SUN'))\n",
    "print(\"All Sundays of 2019:\")\n",
    "print(result)"
   ]
  },
  {
   "cell_type": "markdown",
   "id": "a41e3a47",
   "metadata": {},
   "source": [
    "#### 36. Write a Pandas program to convert given series into a dataframe with its index as another column on the dataframe."
   ]
  },
  {
   "cell_type": "code",
   "execution_count": 43,
   "id": "77b5885c",
   "metadata": {},
   "outputs": [
    {
     "name": "stdout",
     "output_type": "stream",
     "text": [
      "  index  0\n",
      "0     A  0\n",
      "1     B  1\n",
      "2     C  2\n",
      "3     D  3\n",
      "4     E  4\n"
     ]
    }
   ],
   "source": [
    "char_list = list('ABCDEFGHIJKLMNOP')\n",
    "num_arra = np.arange(8)\n",
    "num_dict = dict(zip(char_list, num_arra))\n",
    "num_ser = pd.Series(num_dict)\n",
    "df = num_ser.to_frame().reset_index()\n",
    "print(df.head())"
   ]
  },
  {
   "cell_type": "markdown",
   "id": "70f3357a",
   "metadata": {},
   "source": [
    "#### 37. Write a Pandas program to stack two given series vertically and horizontally."
   ]
  },
  {
   "cell_type": "code",
   "execution_count": 15,
   "id": "a54bd513",
   "metadata": {},
   "outputs": [
    {
     "name": "stdout",
     "output_type": "stream",
     "text": [
      "Original Series:\n",
      "0    0\n",
      "1    1\n",
      "2    2\n",
      "3    3\n",
      "4    4\n",
      "5    5\n",
      "6    6\n",
      "7    7\n",
      "8    8\n",
      "9    9\n",
      "dtype: int64\n",
      "0    p\n",
      "1    q\n",
      "2    r\n",
      "3    s\n",
      "4    t\n",
      "5    u\n",
      "6    v\n",
      "7    w\n",
      "8    x\n",
      "9    y\n",
      "dtype: object\n",
      "\n",
      "Stack two given series vertically and horizontally:\n",
      "   0  1\n",
      "0  0  p\n",
      "1  1  q\n",
      "2  2  r\n",
      "3  3  s\n",
      "4  4  t\n",
      "5  5  u\n",
      "6  6  v\n",
      "7  7  w\n",
      "8  8  x\n",
      "9  9  y\n",
      "0     0\n",
      "1     1\n",
      "2     2\n",
      "3     3\n",
      "4     4\n",
      "5     5\n",
      "6     6\n",
      "7     7\n",
      "8     8\n",
      "9     9\n",
      "10    p\n",
      "11    q\n",
      "12    r\n",
      "13    s\n",
      "14    t\n",
      "15    u\n",
      "16    v\n",
      "17    w\n",
      "18    x\n",
      "19    y\n",
      "dtype: object\n"
     ]
    }
   ],
   "source": [
    "series1 = pd.Series(range(10))\n",
    "series2 = pd.Series(list('pqrstuvwxy'))\n",
    "print(\"Original Series:\")\n",
    "print(series1)\n",
    "print(series2)\n",
    "df = pd.concat([series1, series2], axis=1)\n",
    "df1 = pd.concat([series1, series2], axis=0,ignore_index = True)\n",
    "print(\"\\nStack two given series vertically and horizontally:\")\n",
    "print(df)\n",
    "print(df1)"
   ]
  },
  {
   "cell_type": "markdown",
   "id": "b29012e5",
   "metadata": {},
   "source": [
    "#### 38. Write a Pandas program to check the equality of two given series."
   ]
  },
  {
   "cell_type": "code",
   "execution_count": 45,
   "id": "798432a0",
   "metadata": {},
   "outputs": [
    {
     "name": "stdout",
     "output_type": "stream",
     "text": [
      "Original Series:\n",
      "0    1\n",
      "1    8\n",
      "2    7\n",
      "3    5\n",
      "4    6\n",
      "5    5\n",
      "6    3\n",
      "7    4\n",
      "8    7\n",
      "9    1\n",
      "dtype: int64\n",
      "0    1\n",
      "1    8\n",
      "2    7\n",
      "3    5\n",
      "4    6\n",
      "5    5\n",
      "6    3\n",
      "7    4\n",
      "8    7\n",
      "9    1\n",
      "dtype: int64\n",
      "Check 2 series are equal or not?\n",
      "0    True\n",
      "1    True\n",
      "2    True\n",
      "3    True\n",
      "4    True\n",
      "5    True\n",
      "6    True\n",
      "7    True\n",
      "8    True\n",
      "9    True\n",
      "dtype: bool\n"
     ]
    }
   ],
   "source": [
    "nums1 = pd.Series([1, 8, 7, 5, 6, 5, 3, 4, 7, 1])\n",
    "nums2 = pd.Series([1, 8, 7, 5, 6, 5, 3, 4, 7, 1])\n",
    "print(\"Original Series:\")\n",
    "print(nums1)\n",
    "print(nums2)\n",
    "print(\"Check 2 series are equal or not?\")\n",
    "print(nums1 == nums2)"
   ]
  },
  {
   "cell_type": "markdown",
   "id": "f396c84b",
   "metadata": {},
   "source": [
    "#### 39. Write a Pandas program to find the index of the first occurrence of the smallest and largest value of a given series."
   ]
  },
  {
   "cell_type": "code",
   "execution_count": 47,
   "id": "d68eb902",
   "metadata": {},
   "outputs": [
    {
     "name": "stdout",
     "output_type": "stream",
     "text": [
      "Original Series:\n",
      "0     1\n",
      "1     3\n",
      "2     7\n",
      "3    12\n",
      "4    88\n",
      "5    23\n",
      "6     3\n",
      "7     1\n",
      "8     9\n",
      "9     0\n",
      "dtype: int64\n",
      "Index of the first occurrence of the smallest and largest value of the said series:\n",
      "9\n",
      "4\n"
     ]
    }
   ],
   "source": [
    "nums = pd.Series([1, 3, 7, 12, 88, 23, 3, 1, 9, 0])\n",
    "print(\"Original Series:\")\n",
    "print(nums)\n",
    "print(\"Index of the first occurrence of the smallest and largest value of the said series:\")\n",
    "print(nums.idxmin())\n",
    "print(nums.idxmax())"
   ]
  },
  {
   "cell_type": "markdown",
   "id": "92a7f68f",
   "metadata": {},
   "source": [
    "#### 40. Write a Pandas program to check inequality over the index axis of a given dataframe and a given series."
   ]
  },
  {
   "cell_type": "code",
   "execution_count": 48,
   "id": "a83e1613",
   "metadata": {},
   "outputs": [
    {
     "name": "stdout",
     "output_type": "stream",
     "text": [
      "Original DataFrame:\n",
      "      W     X   Y   Z\n",
      "0  68.0  78.0  84  86\n",
      "1  75.0  75.0  94  97\n",
      "2  86.0   NaN  89  96\n",
      "3  80.0  80.0  86  72\n",
      "4   NaN  86.0  86  83\n",
      "\n",
      "Original Series:\n",
      "0    68.0\n",
      "1    75.0\n",
      "2    86.0\n",
      "3    80.0\n",
      "4     NaN\n",
      "dtype: float64\n",
      "\n",
      "Check for inequality of the said series & dataframe:\n",
      "       W      X     Y     Z\n",
      "0  False   True  True  True\n",
      "1  False  False  True  True\n",
      "2  False   True  True  True\n",
      "3  False  False  True  True\n",
      "4   True   True  True  True\n"
     ]
    }
   ],
   "source": [
    "df_data = pd.DataFrame({'W':[68,75,86,80,None],'X':[78,75,None,80,86], 'Y':[84,94,89,86,86],'Z':[86,97,96,72,83]});\n",
    "sr_data = pd.Series([68, 75, 86, 80, None]) \n",
    "print(\"Original DataFrame:\")\n",
    "print(df_data)\n",
    "print(\"\\nOriginal Series:\")\n",
    "print(sr_data)\n",
    "print(\"\\nCheck for inequality of the said series & dataframe:\")\n",
    "print(df_data.ne(sr_data, axis = 0))"
   ]
  }
 ],
 "metadata": {
  "kernelspec": {
   "display_name": "Python 3 (ipykernel)",
   "language": "python",
   "name": "python3"
  },
  "language_info": {
   "codemirror_mode": {
    "name": "ipython",
    "version": 3
   },
   "file_extension": ".py",
   "mimetype": "text/x-python",
   "name": "python",
   "nbconvert_exporter": "python",
   "pygments_lexer": "ipython3",
   "version": "3.11.7"
  }
 },
 "nbformat": 4,
 "nbformat_minor": 5
}
