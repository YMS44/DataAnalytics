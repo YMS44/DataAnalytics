{
 "cells": [
  {
   "cell_type": "code",
   "execution_count": 2,
   "id": "abef6bde",
   "metadata": {},
   "outputs": [],
   "source": [
    "import numpy as np\n",
    "import pandas as pd\n",
    "import matplotlib.pyplot as plt\n",
    "import seaborn as sns"
   ]
  },
  {
   "cell_type": "code",
   "execution_count": 12,
   "id": "e8f74aa0",
   "metadata": {},
   "outputs": [
    {
     "data": {
      "text/html": [
       "<div>\n",
       "<style scoped>\n",
       "    .dataframe tbody tr th:only-of-type {\n",
       "        vertical-align: middle;\n",
       "    }\n",
       "\n",
       "    .dataframe tbody tr th {\n",
       "        vertical-align: top;\n",
       "    }\n",
       "\n",
       "    .dataframe thead th {\n",
       "        text-align: right;\n",
       "    }\n",
       "</style>\n",
       "<table border=\"1\" class=\"dataframe\">\n",
       "  <thead>\n",
       "    <tr style=\"text-align: right;\">\n",
       "      <th></th>\n",
       "      <th>Unnamed: 0</th>\n",
       "      <th>carat</th>\n",
       "      <th>cut</th>\n",
       "      <th>color</th>\n",
       "      <th>clarity</th>\n",
       "      <th>depth</th>\n",
       "      <th>table</th>\n",
       "      <th>price</th>\n",
       "      <th>x</th>\n",
       "      <th>y</th>\n",
       "      <th>z</th>\n",
       "    </tr>\n",
       "  </thead>\n",
       "  <tbody>\n",
       "    <tr>\n",
       "      <th>0</th>\n",
       "      <td>1</td>\n",
       "      <td>0.23</td>\n",
       "      <td>Ideal</td>\n",
       "      <td>E</td>\n",
       "      <td>SI2</td>\n",
       "      <td>61.5</td>\n",
       "      <td>55.0</td>\n",
       "      <td>326</td>\n",
       "      <td>3.95</td>\n",
       "      <td>3.98</td>\n",
       "      <td>2.43</td>\n",
       "    </tr>\n",
       "    <tr>\n",
       "      <th>1</th>\n",
       "      <td>2</td>\n",
       "      <td>0.21</td>\n",
       "      <td>Premium</td>\n",
       "      <td>E</td>\n",
       "      <td>SI1</td>\n",
       "      <td>59.8</td>\n",
       "      <td>61.0</td>\n",
       "      <td>326</td>\n",
       "      <td>3.89</td>\n",
       "      <td>3.84</td>\n",
       "      <td>2.31</td>\n",
       "    </tr>\n",
       "    <tr>\n",
       "      <th>2</th>\n",
       "      <td>3</td>\n",
       "      <td>0.23</td>\n",
       "      <td>Good</td>\n",
       "      <td>E</td>\n",
       "      <td>VS1</td>\n",
       "      <td>56.9</td>\n",
       "      <td>65.0</td>\n",
       "      <td>327</td>\n",
       "      <td>4.05</td>\n",
       "      <td>4.07</td>\n",
       "      <td>2.31</td>\n",
       "    </tr>\n",
       "    <tr>\n",
       "      <th>3</th>\n",
       "      <td>4</td>\n",
       "      <td>0.29</td>\n",
       "      <td>Premium</td>\n",
       "      <td>I</td>\n",
       "      <td>VS2</td>\n",
       "      <td>62.4</td>\n",
       "      <td>58.0</td>\n",
       "      <td>334</td>\n",
       "      <td>4.20</td>\n",
       "      <td>4.23</td>\n",
       "      <td>2.63</td>\n",
       "    </tr>\n",
       "    <tr>\n",
       "      <th>4</th>\n",
       "      <td>5</td>\n",
       "      <td>0.31</td>\n",
       "      <td>Good</td>\n",
       "      <td>J</td>\n",
       "      <td>SI2</td>\n",
       "      <td>63.3</td>\n",
       "      <td>58.0</td>\n",
       "      <td>335</td>\n",
       "      <td>4.34</td>\n",
       "      <td>4.35</td>\n",
       "      <td>2.75</td>\n",
       "    </tr>\n",
       "    <tr>\n",
       "      <th>...</th>\n",
       "      <td>...</td>\n",
       "      <td>...</td>\n",
       "      <td>...</td>\n",
       "      <td>...</td>\n",
       "      <td>...</td>\n",
       "      <td>...</td>\n",
       "      <td>...</td>\n",
       "      <td>...</td>\n",
       "      <td>...</td>\n",
       "      <td>...</td>\n",
       "      <td>...</td>\n",
       "    </tr>\n",
       "    <tr>\n",
       "      <th>53935</th>\n",
       "      <td>53936</td>\n",
       "      <td>0.72</td>\n",
       "      <td>Ideal</td>\n",
       "      <td>D</td>\n",
       "      <td>SI1</td>\n",
       "      <td>60.8</td>\n",
       "      <td>57.0</td>\n",
       "      <td>2757</td>\n",
       "      <td>5.75</td>\n",
       "      <td>5.76</td>\n",
       "      <td>3.50</td>\n",
       "    </tr>\n",
       "    <tr>\n",
       "      <th>53936</th>\n",
       "      <td>53937</td>\n",
       "      <td>0.72</td>\n",
       "      <td>Good</td>\n",
       "      <td>D</td>\n",
       "      <td>SI1</td>\n",
       "      <td>63.1</td>\n",
       "      <td>55.0</td>\n",
       "      <td>2757</td>\n",
       "      <td>5.69</td>\n",
       "      <td>5.75</td>\n",
       "      <td>3.61</td>\n",
       "    </tr>\n",
       "    <tr>\n",
       "      <th>53937</th>\n",
       "      <td>53938</td>\n",
       "      <td>0.70</td>\n",
       "      <td>Very Good</td>\n",
       "      <td>D</td>\n",
       "      <td>SI1</td>\n",
       "      <td>62.8</td>\n",
       "      <td>60.0</td>\n",
       "      <td>2757</td>\n",
       "      <td>5.66</td>\n",
       "      <td>5.68</td>\n",
       "      <td>3.56</td>\n",
       "    </tr>\n",
       "    <tr>\n",
       "      <th>53938</th>\n",
       "      <td>53939</td>\n",
       "      <td>0.86</td>\n",
       "      <td>Premium</td>\n",
       "      <td>H</td>\n",
       "      <td>SI2</td>\n",
       "      <td>61.0</td>\n",
       "      <td>58.0</td>\n",
       "      <td>2757</td>\n",
       "      <td>6.15</td>\n",
       "      <td>6.12</td>\n",
       "      <td>3.74</td>\n",
       "    </tr>\n",
       "    <tr>\n",
       "      <th>53939</th>\n",
       "      <td>53940</td>\n",
       "      <td>0.75</td>\n",
       "      <td>Ideal</td>\n",
       "      <td>D</td>\n",
       "      <td>SI2</td>\n",
       "      <td>62.2</td>\n",
       "      <td>55.0</td>\n",
       "      <td>2757</td>\n",
       "      <td>5.83</td>\n",
       "      <td>5.87</td>\n",
       "      <td>3.64</td>\n",
       "    </tr>\n",
       "  </tbody>\n",
       "</table>\n",
       "<p>53940 rows × 11 columns</p>\n",
       "</div>"
      ],
      "text/plain": [
       "       Unnamed: 0  carat        cut color clarity  depth  table  price     x  \\\n",
       "0               1   0.23      Ideal     E     SI2   61.5   55.0    326  3.95   \n",
       "1               2   0.21    Premium     E     SI1   59.8   61.0    326  3.89   \n",
       "2               3   0.23       Good     E     VS1   56.9   65.0    327  4.05   \n",
       "3               4   0.29    Premium     I     VS2   62.4   58.0    334  4.20   \n",
       "4               5   0.31       Good     J     SI2   63.3   58.0    335  4.34   \n",
       "...           ...    ...        ...   ...     ...    ...    ...    ...   ...   \n",
       "53935       53936   0.72      Ideal     D     SI1   60.8   57.0   2757  5.75   \n",
       "53936       53937   0.72       Good     D     SI1   63.1   55.0   2757  5.69   \n",
       "53937       53938   0.70  Very Good     D     SI1   62.8   60.0   2757  5.66   \n",
       "53938       53939   0.86    Premium     H     SI2   61.0   58.0   2757  6.15   \n",
       "53939       53940   0.75      Ideal     D     SI2   62.2   55.0   2757  5.83   \n",
       "\n",
       "          y     z  \n",
       "0      3.98  2.43  \n",
       "1      3.84  2.31  \n",
       "2      4.07  2.31  \n",
       "3      4.23  2.63  \n",
       "4      4.35  2.75  \n",
       "...     ...   ...  \n",
       "53935  5.76  3.50  \n",
       "53936  5.75  3.61  \n",
       "53937  5.68  3.56  \n",
       "53938  6.12  3.74  \n",
       "53939  5.87  3.64  \n",
       "\n",
       "[53940 rows x 11 columns]"
      ]
     },
     "execution_count": 12,
     "metadata": {},
     "output_type": "execute_result"
    }
   ],
   "source": [
    "#1. Write a Pandas program to read a csv file from a specified source and print the first 5 rows. (Diamonds.csv)\n",
    "df = pd.read_csv('diamonds.csv')\n",
    "df"
   ]
  },
  {
   "cell_type": "code",
   "execution_count": 4,
   "id": "7325455d",
   "metadata": {},
   "outputs": [
    {
     "name": "stdout",
     "output_type": "stream",
     "text": [
      "First 6 rows:\n",
      "   carat        cut     x     y     z\n",
      "0   0.23      Ideal  3.95  3.98  2.43\n",
      "1   0.21    Premium  3.89  3.84  2.31\n",
      "2   0.23       Good  4.05  4.07  2.31\n",
      "3   0.29    Premium  4.20  4.23  2.63\n",
      "4   0.31       Good  4.34  4.35  2.75\n",
      "5   0.24  Very Good  3.94  3.96  2.48\n"
     ]
    }
   ],
   "source": [
    "#2.Write a Pandas program to read a dataset from diamonds DataFrame and modify the default columns values and print the first 6 rows.\n",
    "user_cols = ['carat', 'cut', 'x', 'y', 'z']\n",
    "print(\"First 6 rows:\")\n",
    "print(df[user_cols].head(6))"
   ]
  },
  {
   "cell_type": "code",
   "execution_count": 5,
   "id": "19068a65",
   "metadata": {},
   "outputs": [
    {
     "name": "stdout",
     "output_type": "stream",
     "text": [
      "0        0.23\n",
      "1        0.21\n",
      "2        0.23\n",
      "3        0.29\n",
      "4        0.31\n",
      "         ... \n",
      "53935    0.72\n",
      "53936    0.72\n",
      "53937    0.70\n",
      "53938    0.86\n",
      "53939    0.75\n",
      "Name: carat, Length: 53940, dtype: float64\n"
     ]
    }
   ],
   "source": [
    "#3. Write a Pandas program to select a series from diamonds DataFrame. Print the content of the series.\n",
    "print(df['carat'])"
   ]
  },
  {
   "cell_type": "code",
   "execution_count": 6,
   "id": "b301f524",
   "metadata": {},
   "outputs": [
    {
     "name": "stdout",
     "output_type": "stream",
     "text": [
      "0            Ideal,E\n",
      "1          Premium,E\n",
      "2             Good,E\n",
      "3          Premium,I\n",
      "4             Good,J\n",
      "            ...     \n",
      "53935        Ideal,D\n",
      "53936         Good,D\n",
      "53937    Very Good,D\n",
      "53938      Premium,H\n",
      "53939        Ideal,D\n",
      "Name: Quality -color, Length: 53940, dtype: object\n"
     ]
    }
   ],
   "source": [
    "#4.Write a Pandas program to create a new 'Quality -color' Series (use bracket notation to define the Series name) of the diamonds DataFrame.\n",
    "df['Quality -color'] = df.cut + ',' + df.color\n",
    "print(df['Quality -color'])"
   ]
  },
  {
   "cell_type": "code",
   "execution_count": 9,
   "id": "248c23de",
   "metadata": {},
   "outputs": [
    {
     "name": "stdout",
     "output_type": "stream",
     "text": [
      "(53940, 12)\n",
      "\n",
      "Data type of each column:\n",
      "Unnamed: 0          int64\n",
      "carat             float64\n",
      "cut                object\n",
      "color              object\n",
      "clarity            object\n",
      "depth             float64\n",
      "table             float64\n",
      "price               int64\n",
      "x                 float64\n",
      "y                 float64\n",
      "z                 float64\n",
      "Quality -color     object\n",
      "dtype: object\n"
     ]
    }
   ],
   "source": [
    "#5. Write a Pandas program to find the number of rows and columns and data type of each column of diamonds Dataframe.\n",
    "print(df.shape)\n",
    "print(\"\\nData type of each column:\")\n",
    "print(df.dtypes)"
   ]
  },
  {
   "cell_type": "code",
   "execution_count": 10,
   "id": "c26e8a59",
   "metadata": {},
   "outputs": [
    {
     "name": "stdout",
     "output_type": "stream",
     "text": [
      "          cut  color clarity Quality -color\n",
      "count   53940  53940   53940          53940\n",
      "unique      5      7       8             35\n",
      "top     Ideal      G     SI1        Ideal,G\n",
      "freq    21551  11292   13065           4884\n"
     ]
    }
   ],
   "source": [
    "#6. Write a Pandas program to summarize only 'object' columns of the diamonds Dataframe.\n",
    "print(df.describe(include=['object']))"
   ]
  },
  {
   "cell_type": "code",
   "execution_count": 11,
   "id": "b564d1bc",
   "metadata": {},
   "outputs": [
    {
     "name": "stdout",
     "output_type": "stream",
     "text": [
      "   Unnamed: 0  carat      cut diamond_color dimaond_clarity  depth  table  \\\n",
      "0           1   0.23    Ideal             E             SI2   61.5   55.0   \n",
      "1           2   0.21  Premium             E             SI1   59.8   61.0   \n",
      "2           3   0.23     Good             E             VS1   56.9   65.0   \n",
      "3           4   0.29  Premium             I             VS2   62.4   58.0   \n",
      "4           5   0.31     Good             J             SI2   63.3   58.0   \n",
      "\n",
      "   price     x     y     z Quality -color  \n",
      "0    326  3.95  3.98  2.43        Ideal,E  \n",
      "1    326  3.89  3.84  2.31      Premium,E  \n",
      "2    327  4.05  4.07  2.31         Good,E  \n",
      "3    334  4.20  4.23  2.63      Premium,I  \n",
      "4    335  4.34  4.35  2.75         Good,J  \n"
     ]
    }
   ],
   "source": [
    "#7. Write a Pandas program to rename two of the columns of the diamonds Dataframe.\n",
    "df.rename(columns={'color':'diamond_color', 'clarity':'dimaond_clarity'}, inplace=True)\n",
    "print(df.head())"
   ]
  },
  {
   "cell_type": "code",
   "execution_count": 17,
   "id": "ba904cd7",
   "metadata": {},
   "outputs": [
    {
     "name": "stdout",
     "output_type": "stream",
     "text": [
      "   new_carat  new_cut new_color new_clarity new_depth  new_table  new_price  \\\n",
      "0          1     0.23     Ideal           E       SI2       61.5       55.0   \n",
      "1          2     0.21   Premium           E       SI1       59.8       61.0   \n",
      "2          3     0.23      Good           E       VS1       56.9       65.0   \n",
      "3          4     0.29   Premium           I       VS2       62.4       58.0   \n",
      "4          5     0.31      Good           J       SI2       63.3       58.0   \n",
      "\n",
      "   new_x  new_y  new_z  new_Quality -color  \n",
      "0    326   3.95   3.98                2.43  \n",
      "1    326   3.89   3.84                2.31  \n",
      "2    327   4.05   4.07                2.31  \n",
      "3    334   4.20   4.23                2.63  \n",
      "4    335   4.34   4.35                2.75  \n"
     ]
    }
   ],
   "source": [
    "#8. Write a Pandas program to rename all the columns of the diamonds Dataframe.\n",
    "diamonds_cols = ['new_carat', 'new_cut', 'new_color', 'new_clarity', 'new_depth', 'new_table', 'new_price', 'new_x', 'new_y', 'new_z','new_Quality -color']\n",
    "df.columns = diamonds_cols\n",
    "df.rename(columns={'color':'diamond_color', 'clarity':'dimaond_clarity'}, inplace=True)\n",
    "print(df.head())"
   ]
  },
  {
   "cell_type": "code",
   "execution_count": 19,
   "id": "78902ef8",
   "metadata": {},
   "outputs": [
    {
     "name": "stdout",
     "output_type": "stream",
     "text": [
      "   new_carat new_color new_clarity new_depth  new_table  new_price  new_x  \\\n",
      "0          1     Ideal           E       SI2       61.5       55.0    326   \n",
      "1          2   Premium           E       SI1       59.8       61.0    326   \n",
      "2          3      Good           E       VS1       56.9       65.0    327   \n",
      "3          4   Premium           I       VS2       62.4       58.0    334   \n",
      "4          5      Good           J       SI2       63.3       58.0    335   \n",
      "\n",
      "   new_y  new_z  new_Quality -color  \n",
      "0   3.95   3.98                2.43  \n",
      "1   3.89   3.84                2.31  \n",
      "2   4.05   4.07                2.31  \n",
      "3   4.20   4.23                2.63  \n",
      "4   4.34   4.35                2.75  \n"
     ]
    }
   ],
   "source": [
    "#9. Write a Pandas program to remove the second column of the diamonds Dataframe.\n",
    "df.drop('new_cut', axis=1, inplace=True)\n",
    "print(df.head())"
   ]
  },
  {
   "cell_type": "code",
   "execution_count": 7,
   "id": "3b6f0cfa",
   "metadata": {},
   "outputs": [],
   "source": [
    "#10. Write a Pandas program to remove multiple columns at once of the diamonds Dataframe.\n",
    "df.drop(['carat', 'color', 'y'], axis=1, inplace=True)"
   ]
  },
  {
   "cell_type": "code",
   "execution_count": 8,
   "id": "2970fde4",
   "metadata": {},
   "outputs": [
    {
     "name": "stdout",
     "output_type": "stream",
     "text": [
      "   Unnamed: 0      cut clarity  depth  table  price     x     z\n",
      "0           1    Ideal     SI2   61.5   55.0    326  3.95  2.43\n",
      "1           2  Premium     SI1   59.8   61.0    326  3.89  2.31\n",
      "2           3     Good     VS1   56.9   65.0    327  4.05  2.31\n",
      "3           4  Premium     VS2   62.4   58.0    334  4.20  2.63\n",
      "4           5     Good     SI2   63.3   58.0    335  4.34  2.75\n"
     ]
    }
   ],
   "source": [
    "print(df.head())"
   ]
  },
  {
   "cell_type": "code",
   "execution_count": 21,
   "id": "acf4e0e1",
   "metadata": {},
   "outputs": [
    {
     "ename": "KeyError",
     "evalue": "'[2, 4, 5] not found in axis'",
     "output_type": "error",
     "traceback": [
      "\u001b[1;31m---------------------------------------------------------------------------\u001b[0m",
      "\u001b[1;31mKeyError\u001b[0m                                  Traceback (most recent call last)",
      "\u001b[1;32m~\\AppData\\Local\\Temp\\ipykernel_28984\\775805747.py\u001b[0m in \u001b[0;36m<module>\u001b[1;34m\u001b[0m\n\u001b[0;32m      1\u001b[0m \u001b[1;31m#11. Write a Pandas program to remove multiple rows at once (axis=0 refers to rows) from diamonds dataframe.\u001b[0m\u001b[1;33m\u001b[0m\u001b[1;33m\u001b[0m\u001b[0m\n\u001b[1;32m----> 2\u001b[1;33m \u001b[0mdf\u001b[0m\u001b[1;33m.\u001b[0m\u001b[0mdrop\u001b[0m\u001b[1;33m(\u001b[0m\u001b[1;33m[\u001b[0m\u001b[1;36m2\u001b[0m\u001b[1;33m,\u001b[0m \u001b[1;36m4\u001b[0m\u001b[1;33m,\u001b[0m \u001b[1;36m5\u001b[0m\u001b[1;33m]\u001b[0m\u001b[1;33m,\u001b[0m \u001b[0maxis\u001b[0m\u001b[1;33m=\u001b[0m\u001b[1;36m0\u001b[0m\u001b[1;33m,\u001b[0m \u001b[0minplace\u001b[0m\u001b[1;33m=\u001b[0m\u001b[1;32mTrue\u001b[0m\u001b[1;33m)\u001b[0m\u001b[1;33m\u001b[0m\u001b[1;33m\u001b[0m\u001b[0m\n\u001b[0m",
      "\u001b[1;32mC:\\ProgramData\\Anaconda3\\lib\\site-packages\\pandas\\util\\_decorators.py\u001b[0m in \u001b[0;36mwrapper\u001b[1;34m(*args, **kwargs)\u001b[0m\n\u001b[0;32m    309\u001b[0m                     \u001b[0mstacklevel\u001b[0m\u001b[1;33m=\u001b[0m\u001b[0mstacklevel\u001b[0m\u001b[1;33m,\u001b[0m\u001b[1;33m\u001b[0m\u001b[1;33m\u001b[0m\u001b[0m\n\u001b[0;32m    310\u001b[0m                 )\n\u001b[1;32m--> 311\u001b[1;33m             \u001b[1;32mreturn\u001b[0m \u001b[0mfunc\u001b[0m\u001b[1;33m(\u001b[0m\u001b[1;33m*\u001b[0m\u001b[0margs\u001b[0m\u001b[1;33m,\u001b[0m \u001b[1;33m**\u001b[0m\u001b[0mkwargs\u001b[0m\u001b[1;33m)\u001b[0m\u001b[1;33m\u001b[0m\u001b[1;33m\u001b[0m\u001b[0m\n\u001b[0m\u001b[0;32m    312\u001b[0m \u001b[1;33m\u001b[0m\u001b[0m\n\u001b[0;32m    313\u001b[0m         \u001b[1;32mreturn\u001b[0m \u001b[0mwrapper\u001b[0m\u001b[1;33m\u001b[0m\u001b[1;33m\u001b[0m\u001b[0m\n",
      "\u001b[1;32mC:\\ProgramData\\Anaconda3\\lib\\site-packages\\pandas\\core\\frame.py\u001b[0m in \u001b[0;36mdrop\u001b[1;34m(self, labels, axis, index, columns, level, inplace, errors)\u001b[0m\n\u001b[0;32m   4955\u001b[0m                 \u001b[0mweight\u001b[0m  \u001b[1;36m1.0\u001b[0m     \u001b[1;36m0.8\u001b[0m\u001b[1;33m\u001b[0m\u001b[1;33m\u001b[0m\u001b[0m\n\u001b[0;32m   4956\u001b[0m         \"\"\"\n\u001b[1;32m-> 4957\u001b[1;33m         return super().drop(\n\u001b[0m\u001b[0;32m   4958\u001b[0m             \u001b[0mlabels\u001b[0m\u001b[1;33m=\u001b[0m\u001b[0mlabels\u001b[0m\u001b[1;33m,\u001b[0m\u001b[1;33m\u001b[0m\u001b[1;33m\u001b[0m\u001b[0m\n\u001b[0;32m   4959\u001b[0m             \u001b[0maxis\u001b[0m\u001b[1;33m=\u001b[0m\u001b[0maxis\u001b[0m\u001b[1;33m,\u001b[0m\u001b[1;33m\u001b[0m\u001b[1;33m\u001b[0m\u001b[0m\n",
      "\u001b[1;32mC:\\ProgramData\\Anaconda3\\lib\\site-packages\\pandas\\core\\generic.py\u001b[0m in \u001b[0;36mdrop\u001b[1;34m(self, labels, axis, index, columns, level, inplace, errors)\u001b[0m\n\u001b[0;32m   4265\u001b[0m         \u001b[1;32mfor\u001b[0m \u001b[0maxis\u001b[0m\u001b[1;33m,\u001b[0m \u001b[0mlabels\u001b[0m \u001b[1;32min\u001b[0m \u001b[0maxes\u001b[0m\u001b[1;33m.\u001b[0m\u001b[0mitems\u001b[0m\u001b[1;33m(\u001b[0m\u001b[1;33m)\u001b[0m\u001b[1;33m:\u001b[0m\u001b[1;33m\u001b[0m\u001b[1;33m\u001b[0m\u001b[0m\n\u001b[0;32m   4266\u001b[0m             \u001b[1;32mif\u001b[0m \u001b[0mlabels\u001b[0m \u001b[1;32mis\u001b[0m \u001b[1;32mnot\u001b[0m \u001b[1;32mNone\u001b[0m\u001b[1;33m:\u001b[0m\u001b[1;33m\u001b[0m\u001b[1;33m\u001b[0m\u001b[0m\n\u001b[1;32m-> 4267\u001b[1;33m                 \u001b[0mobj\u001b[0m \u001b[1;33m=\u001b[0m \u001b[0mobj\u001b[0m\u001b[1;33m.\u001b[0m\u001b[0m_drop_axis\u001b[0m\u001b[1;33m(\u001b[0m\u001b[0mlabels\u001b[0m\u001b[1;33m,\u001b[0m \u001b[0maxis\u001b[0m\u001b[1;33m,\u001b[0m \u001b[0mlevel\u001b[0m\u001b[1;33m=\u001b[0m\u001b[0mlevel\u001b[0m\u001b[1;33m,\u001b[0m \u001b[0merrors\u001b[0m\u001b[1;33m=\u001b[0m\u001b[0merrors\u001b[0m\u001b[1;33m)\u001b[0m\u001b[1;33m\u001b[0m\u001b[1;33m\u001b[0m\u001b[0m\n\u001b[0m\u001b[0;32m   4268\u001b[0m \u001b[1;33m\u001b[0m\u001b[0m\n\u001b[0;32m   4269\u001b[0m         \u001b[1;32mif\u001b[0m \u001b[0minplace\u001b[0m\u001b[1;33m:\u001b[0m\u001b[1;33m\u001b[0m\u001b[1;33m\u001b[0m\u001b[0m\n",
      "\u001b[1;32mC:\\ProgramData\\Anaconda3\\lib\\site-packages\\pandas\\core\\generic.py\u001b[0m in \u001b[0;36m_drop_axis\u001b[1;34m(self, labels, axis, level, errors, consolidate, only_slice)\u001b[0m\n\u001b[0;32m   4309\u001b[0m                 \u001b[0mnew_axis\u001b[0m \u001b[1;33m=\u001b[0m \u001b[0maxis\u001b[0m\u001b[1;33m.\u001b[0m\u001b[0mdrop\u001b[0m\u001b[1;33m(\u001b[0m\u001b[0mlabels\u001b[0m\u001b[1;33m,\u001b[0m \u001b[0mlevel\u001b[0m\u001b[1;33m=\u001b[0m\u001b[0mlevel\u001b[0m\u001b[1;33m,\u001b[0m \u001b[0merrors\u001b[0m\u001b[1;33m=\u001b[0m\u001b[0merrors\u001b[0m\u001b[1;33m)\u001b[0m\u001b[1;33m\u001b[0m\u001b[1;33m\u001b[0m\u001b[0m\n\u001b[0;32m   4310\u001b[0m             \u001b[1;32melse\u001b[0m\u001b[1;33m:\u001b[0m\u001b[1;33m\u001b[0m\u001b[1;33m\u001b[0m\u001b[0m\n\u001b[1;32m-> 4311\u001b[1;33m                 \u001b[0mnew_axis\u001b[0m \u001b[1;33m=\u001b[0m \u001b[0maxis\u001b[0m\u001b[1;33m.\u001b[0m\u001b[0mdrop\u001b[0m\u001b[1;33m(\u001b[0m\u001b[0mlabels\u001b[0m\u001b[1;33m,\u001b[0m \u001b[0merrors\u001b[0m\u001b[1;33m=\u001b[0m\u001b[0merrors\u001b[0m\u001b[1;33m)\u001b[0m\u001b[1;33m\u001b[0m\u001b[1;33m\u001b[0m\u001b[0m\n\u001b[0m\u001b[0;32m   4312\u001b[0m             \u001b[0mindexer\u001b[0m \u001b[1;33m=\u001b[0m \u001b[0maxis\u001b[0m\u001b[1;33m.\u001b[0m\u001b[0mget_indexer\u001b[0m\u001b[1;33m(\u001b[0m\u001b[0mnew_axis\u001b[0m\u001b[1;33m)\u001b[0m\u001b[1;33m\u001b[0m\u001b[1;33m\u001b[0m\u001b[0m\n\u001b[0;32m   4313\u001b[0m \u001b[1;33m\u001b[0m\u001b[0m\n",
      "\u001b[1;32mC:\\ProgramData\\Anaconda3\\lib\\site-packages\\pandas\\core\\indexes\\base.py\u001b[0m in \u001b[0;36mdrop\u001b[1;34m(self, labels, errors)\u001b[0m\n\u001b[0;32m   6659\u001b[0m         \u001b[1;32mif\u001b[0m \u001b[0mmask\u001b[0m\u001b[1;33m.\u001b[0m\u001b[0many\u001b[0m\u001b[1;33m(\u001b[0m\u001b[1;33m)\u001b[0m\u001b[1;33m:\u001b[0m\u001b[1;33m\u001b[0m\u001b[1;33m\u001b[0m\u001b[0m\n\u001b[0;32m   6660\u001b[0m             \u001b[1;32mif\u001b[0m \u001b[0merrors\u001b[0m \u001b[1;33m!=\u001b[0m \u001b[1;34m\"ignore\"\u001b[0m\u001b[1;33m:\u001b[0m\u001b[1;33m\u001b[0m\u001b[1;33m\u001b[0m\u001b[0m\n\u001b[1;32m-> 6661\u001b[1;33m                 \u001b[1;32mraise\u001b[0m \u001b[0mKeyError\u001b[0m\u001b[1;33m(\u001b[0m\u001b[1;34mf\"{list(labels[mask])} not found in axis\"\u001b[0m\u001b[1;33m)\u001b[0m\u001b[1;33m\u001b[0m\u001b[1;33m\u001b[0m\u001b[0m\n\u001b[0m\u001b[0;32m   6662\u001b[0m             \u001b[0mindexer\u001b[0m \u001b[1;33m=\u001b[0m \u001b[0mindexer\u001b[0m\u001b[1;33m[\u001b[0m\u001b[1;33m~\u001b[0m\u001b[0mmask\u001b[0m\u001b[1;33m]\u001b[0m\u001b[1;33m\u001b[0m\u001b[1;33m\u001b[0m\u001b[0m\n\u001b[0;32m   6663\u001b[0m         \u001b[1;32mreturn\u001b[0m \u001b[0mself\u001b[0m\u001b[1;33m.\u001b[0m\u001b[0mdelete\u001b[0m\u001b[1;33m(\u001b[0m\u001b[0mindexer\u001b[0m\u001b[1;33m)\u001b[0m\u001b[1;33m\u001b[0m\u001b[1;33m\u001b[0m\u001b[0m\n",
      "\u001b[1;31mKeyError\u001b[0m: '[2, 4, 5] not found in axis'"
     ]
    }
   ],
   "source": [
    "#11. Write a Pandas program to remove multiple rows at once (axis=0 refers to rows) from diamonds dataframe.\n",
    "df.drop([2, 4, 5], axis=0, inplace=True)"
   ]
  },
  {
   "cell_type": "code",
   "execution_count": 16,
   "id": "b564030c",
   "metadata": {},
   "outputs": [
    {
     "name": "stdout",
     "output_type": "stream",
     "text": [
      "   Unnamed: 0  carat        cut color clarity  depth  table  price     x  \\\n",
      "0           1   0.23      Ideal     E     SI2   61.5   55.0    326  3.95   \n",
      "1           2   0.21    Premium     E     SI1   59.8   61.0    326  3.89   \n",
      "3           4   0.29    Premium     I     VS2   62.4   58.0    334  4.20   \n",
      "6           7   0.24  Very Good     I    VVS1   62.3   57.0    336  3.95   \n",
      "7           8   0.26  Very Good     H     SI1   61.9   55.0    337  4.07   \n",
      "\n",
      "      y     z  \n",
      "0  3.98  2.43  \n",
      "1  3.84  2.31  \n",
      "3  4.23  2.63  \n",
      "6  3.98  2.47  \n",
      "7  4.11  2.53  \n"
     ]
    }
   ],
   "source": [
    "print(df.head())"
   ]
  },
  {
   "cell_type": "code",
   "execution_count": 17,
   "id": "d703ae22",
   "metadata": {},
   "outputs": [
    {
     "name": "stdout",
     "output_type": "stream",
     "text": [
      "2583          Fair\n",
      "8200          Fair\n",
      "47802         Fair\n",
      "51026         Fair\n",
      "8197          Fair\n",
      "           ...    \n",
      "16893    Very Good\n",
      "43101    Very Good\n",
      "7402     Very Good\n",
      "16898    Very Good\n",
      "21164    Very Good\n",
      "Name: cut, Length: 53937, dtype: object\n"
     ]
    }
   ],
   "source": [
    "#12. Write a Pandas program to sort the 'cut' Series in ascending order (returns a Series) of diamonds Dataframe.\n",
    "result = df.cut.sort_values(ascending=True)\n",
    "print(result)"
   ]
  },
  {
   "cell_type": "code",
   "execution_count": 18,
   "id": "0b4f87a2",
   "metadata": {},
   "outputs": [
    {
     "name": "stdout",
     "output_type": "stream",
     "text": [
      "27749    18823\n",
      "27748    18818\n",
      "27747    18806\n",
      "27746    18804\n",
      "27745    18803\n",
      "         ...  \n",
      "7          337\n",
      "6          336\n",
      "3          334\n",
      "1          326\n",
      "0          326\n",
      "Name: price, Length: 53937, dtype: int64\n"
     ]
    }
   ],
   "source": [
    "#13. Write a Pandas program to sort the 'price' Series in descending order (returns a Series) of diamonds Dataframe.\n",
    "result = df.price.sort_values(ascending=False)\n",
    "print(result)"
   ]
  },
  {
   "cell_type": "code",
   "execution_count": 19,
   "id": "a20c4493",
   "metadata": {},
   "outputs": [
    {
     "name": "stdout",
     "output_type": "stream",
     "text": [
      "       Unnamed: 0  carat        cut color clarity  depth  table  price      x  \\\n",
      "31593       31594   0.20    Premium     E     VS2   61.1   59.0    367   3.81   \n",
      "31598       31599   0.20  Very Good     E     VS2   63.4   59.0    367   3.74   \n",
      "14             15   0.20    Premium     E     SI2   60.2   62.0    345   3.79   \n",
      "31600       31601   0.20    Premium     D     VS2   62.3   60.0    367   3.73   \n",
      "31599       31600   0.20      Ideal     E     VS2   62.2   57.0    367   3.76   \n",
      "...           ...    ...        ...   ...     ...    ...    ...    ...    ...   \n",
      "25998       25999   4.01    Premium     I      I1   61.0   61.0  15223  10.14   \n",
      "25999       26000   4.01    Premium     J      I1   62.5   62.0  15223  10.02   \n",
      "27130       27131   4.13       Fair     H      I1   64.8   61.0  17329  10.00   \n",
      "27630       27631   4.50       Fair     J      I1   65.8   58.0  18531  10.23   \n",
      "27415       27416   5.01       Fair     J      I1   65.5   59.0  18018  10.74   \n",
      "\n",
      "           y     z  \n",
      "31593   3.78  2.32  \n",
      "31598   3.71  2.36  \n",
      "14      3.75  2.27  \n",
      "31600   3.68  2.31  \n",
      "31599   3.73  2.33  \n",
      "...      ...   ...  \n",
      "25998  10.10  6.17  \n",
      "25999   9.94  6.24  \n",
      "27130   9.85  6.43  \n",
      "27630  10.16  6.72  \n",
      "27415  10.54  6.98  \n",
      "\n",
      "[53937 rows x 11 columns]\n",
      "       Unnamed: 0  carat      cut color clarity  depth  table  price      x  \\\n",
      "27415       27416   5.01     Fair     J      I1   65.5   59.0  18018  10.74   \n",
      "27630       27631   4.50     Fair     J      I1   65.8   58.0  18531  10.23   \n",
      "27130       27131   4.13     Fair     H      I1   64.8   61.0  17329  10.00   \n",
      "25999       26000   4.01  Premium     J      I1   62.5   62.0  15223  10.02   \n",
      "25998       25999   4.01  Premium     I      I1   61.0   61.0  15223  10.14   \n",
      "...           ...    ...      ...   ...     ...    ...    ...    ...    ...   \n",
      "31594       31595   0.20  Premium     E     VS2   59.7   62.0    367   3.84   \n",
      "31593       31594   0.20  Premium     E     VS2   61.1   59.0    367   3.81   \n",
      "31592       31593   0.20  Premium     E     VS2   59.0   60.0    367   3.81   \n",
      "31591       31592   0.20  Premium     E     VS2   59.8   62.0    367   3.79   \n",
      "31600       31601   0.20  Premium     D     VS2   62.3   60.0    367   3.73   \n",
      "\n",
      "           y     z  \n",
      "27415  10.54  6.98  \n",
      "27630  10.16  6.72  \n",
      "27130   9.85  6.43  \n",
      "25999   9.94  6.24  \n",
      "25998  10.10  6.17  \n",
      "...      ...   ...  \n",
      "31594   3.80  2.28  \n",
      "31593   3.78  2.32  \n",
      "31592   3.78  2.24  \n",
      "31591   3.77  2.26  \n",
      "31600   3.68  2.31  \n",
      "\n",
      "[53937 rows x 11 columns]\n"
     ]
    }
   ],
   "source": [
    "#14. Write a Pandas program to sort the entire diamonds DataFrame by the 'carat' Series in ascending and descending order.\n",
    "result = df.sort_values('carat')\n",
    "print(result)\n",
    "result1 = df.sort_values('carat', ascending=False)\n",
    "print(result1)"
   ]
  },
  {
   "cell_type": "code",
   "execution_count": 20,
   "id": "530250ea",
   "metadata": {},
   "outputs": [
    {
     "name": "stdout",
     "output_type": "stream",
     "text": [
      "    Unnamed: 0  carat        cut color clarity  depth  table  price     x  \\\n",
      "0            1   0.23      Ideal     E     SI2   61.5   55.0    326  3.95   \n",
      "1            2   0.21    Premium     E     SI1   59.8   61.0    326  3.89   \n",
      "3            4   0.29    Premium     I     VS2   62.4   58.0    334  4.20   \n",
      "6            7   0.24  Very Good     I    VVS1   62.3   57.0    336  3.95   \n",
      "7            8   0.26  Very Good     H     SI1   61.9   55.0    337  4.07   \n",
      "8            9   0.22       Fair     E     VS2   65.1   61.0    337  3.87   \n",
      "9           10   0.23  Very Good     H     VS1   59.4   61.0    338  4.00   \n",
      "10          11   0.30       Good     J     SI1   64.0   55.0    339  4.25   \n",
      "11          12   0.23      Ideal     J     VS1   62.8   56.0    340  3.93   \n",
      "12          13   0.22    Premium     F     SI1   60.4   61.0    342  3.88   \n",
      "13          14   0.31      Ideal     J     SI2   62.2   54.0    344  4.35   \n",
      "14          15   0.20    Premium     E     SI2   60.2   62.0    345  3.79   \n",
      "15          16   0.32    Premium     E      I1   60.9   58.0    345  4.38   \n",
      "16          17   0.30      Ideal     I     SI2   62.0   54.0    348  4.31   \n",
      "17          18   0.30       Good     J     SI1   63.4   54.0    351  4.23   \n",
      "18          19   0.30       Good     J     SI1   63.8   56.0    351  4.23   \n",
      "19          20   0.30  Very Good     J     SI1   62.7   59.0    351  4.21   \n",
      "20          21   0.30       Good     I     SI2   63.3   56.0    351  4.26   \n",
      "21          22   0.23  Very Good     E     VS2   63.8   55.0    352  3.85   \n",
      "22          23   0.23  Very Good     H     VS1   61.0   57.0    353  3.94   \n",
      "\n",
      "       y     z  \n",
      "0   3.98  2.43  \n",
      "1   3.84  2.31  \n",
      "3   4.23  2.63  \n",
      "6   3.98  2.47  \n",
      "7   4.11  2.53  \n",
      "8   3.78  2.49  \n",
      "9   4.05  2.39  \n",
      "10  4.28  2.73  \n",
      "11  3.90  2.46  \n",
      "12  3.84  2.33  \n",
      "13  4.37  2.71  \n",
      "14  3.75  2.27  \n",
      "15  4.42  2.68  \n",
      "16  4.34  2.68  \n",
      "17  4.29  2.70  \n",
      "18  4.26  2.71  \n",
      "19  4.27  2.66  \n",
      "20  4.30  2.71  \n",
      "21  3.92  2.48  \n",
      "22  3.96  2.41  \n",
      "\n",
      "Rows to only show carat weight at least 0.3:\n",
      "[False, False, False, False, False, False, False, True, False, False, True, False, True, True, True, True, True, True, False, False]\n"
     ]
    }
   ],
   "source": [
    "#15. Write a Pandas program to filter the DataFrame rows to only show carat weight at least 0.3.\n",
    "print(df.head(20))\n",
    "print(\"\\nRows to only show carat weight at least 0.3:\")\n",
    "booleans = []\n",
    "for w in df.carat:\n",
    "   if w >= .3:\n",
    "       booleans.append(True)\n",
    "   else:\n",
    "       booleans.append(False)\n",
    "print(booleans[0:20])"
   ]
  },
  {
   "cell_type": "code",
   "execution_count": 22,
   "id": "0974a430",
   "metadata": {},
   "outputs": [
    {
     "name": "stdout",
     "output_type": "stream",
     "text": [
      "0     2\n",
      "1     4\n",
      "2     6\n",
      "3     8\n",
      "4    10\n",
      "dtype: int64\n",
      "<class 'pandas.core.series.Series'>\n",
      "Convert Pandas Series to Python list\n",
      "[2, 4, 6, 8, 10]\n",
      "<class 'list'>\n"
     ]
    }
   ],
   "source": [
    "#16. Write a Pandas program to convert a python list to pandas series.\n",
    "ds = pd.Series([2, 4, 6, 8, 10])\n",
    "print(ds)\n",
    "print(type(ds))\n",
    "print(\"Convert Pandas Series to Python list\")\n",
    "print(ds.tolist())\n",
    "print(type(ds.tolist()))"
   ]
  },
  {
   "cell_type": "code",
   "execution_count": 23,
   "id": "31071a8e",
   "metadata": {},
   "outputs": [
    {
     "name": "stdout",
     "output_type": "stream",
     "text": [
      "       Unnamed: 0  carat   cut color clarity  depth  table  price     x     y  \\\n",
      "11778       11779   1.83  Fair     J      I1   70.0   58.0   5083  7.34  7.28   \n",
      "13002       13003   2.14  Fair     J      I1   69.4   57.0   5405  7.74  7.70   \n",
      "13118       13119   2.15  Fair     J      I1   65.5   57.0   5430  8.01  7.95   \n",
      "13562       13563   1.96  Fair     F      I1   66.6   60.0   5554  7.59  7.56   \n",
      "13757       13758   2.22  Fair     J      I1   66.7   56.0   5607  8.04  8.02   \n",
      "\n",
      "          z  \n",
      "11778  5.12  \n",
      "13002  5.36  \n",
      "13118  5.23  \n",
      "13562  5.04  \n",
      "13757  5.36  \n"
     ]
    }
   ],
   "source": [
    "#17. Write a Pandas program to find the details of the diamonds where length>5, width>5 and depth>5.\n",
    "result = df[(df.x>5) & (df.y>5) & (df.z>5)]\n",
    "print(result.head())"
   ]
  },
  {
   "cell_type": "code",
   "execution_count": 24,
   "id": "dd781469",
   "metadata": {},
   "outputs": [
    {
     "name": "stdout",
     "output_type": "stream",
     "text": [
      "    Unnamed: 0  carat      cut color clarity  depth  table  price     x     y  \\\n",
      "0            1   0.23    Ideal     E     SI2   61.5   55.0    326  3.95  3.98   \n",
      "1            2   0.21  Premium     E     SI1   59.8   61.0    326  3.89  3.84   \n",
      "3            4   0.29  Premium     I     VS2   62.4   58.0    334  4.20  4.23   \n",
      "11          12   0.23    Ideal     J     VS1   62.8   56.0    340  3.93  3.90   \n",
      "12          13   0.22  Premium     F     SI1   60.4   61.0    342  3.88  3.84   \n",
      "\n",
      "       z  \n",
      "0   2.43  \n",
      "1   2.31  \n",
      "3   2.63  \n",
      "11  2.46  \n",
      "12  2.33  \n"
     ]
    }
   ],
   "source": [
    "#18. Write a Pandas program to find the diamonds that are either Premium or Ideal.\n",
    "result = df[(df.cut == 'Premium') | (df.cut == 'Ideal')]\n",
    "print(result.head())"
   ]
  },
  {
   "cell_type": "code",
   "execution_count": 25,
   "id": "5e973529",
   "metadata": {},
   "outputs": [
    {
     "name": "stdout",
     "output_type": "stream",
     "text": [
      "    Unnamed: 0  carat      cut color clarity  depth  table  price     x     y  \\\n",
      "1            2   0.21  Premium     E     SI1   59.8   61.0    326  3.89  3.84   \n",
      "3            4   0.29  Premium     I     VS2   62.4   58.0    334  4.20  4.23   \n",
      "8            9   0.22     Fair     E     VS2   65.1   61.0    337  3.87  3.78   \n",
      "10          11   0.30     Good     J     SI1   64.0   55.0    339  4.25  4.28   \n",
      "12          13   0.22  Premium     F     SI1   60.4   61.0    342  3.88  3.84   \n",
      "\n",
      "       z  \n",
      "1   2.31  \n",
      "3   2.63  \n",
      "8   2.49  \n",
      "10  2.73  \n",
      "12  2.33  \n"
     ]
    }
   ],
   "source": [
    "#19.Write a Pandas program to find the diamonds that are with a Fair or Good or Premium.\n",
    "result = df[df.cut.isin(['Fair', 'Good', 'Premium'])]\n",
    "print(result.head())"
   ]
  },
  {
   "cell_type": "code",
   "execution_count": 27,
   "id": "ce45fa8b",
   "metadata": {},
   "outputs": [
    {
     "name": "stdout",
     "output_type": "stream",
     "text": [
      "Index(['Unnamed: 0', 'carat', 'cut', 'color', 'clarity', 'depth', 'table',\n",
      "       'price', 'x', 'y', 'z'],\n",
      "      dtype='object')\n"
     ]
    }
   ],
   "source": [
    "#20.Write a Pandas program to display all column labels of diamonds DataFrame.\n",
    "print(df.columns)"
   ]
  },
  {
   "cell_type": "code",
   "execution_count": null,
   "id": "aa9975f8",
   "metadata": {},
   "outputs": [],
   "source": []
  }
 ],
 "metadata": {
  "kernelspec": {
   "display_name": "Python 3 (ipykernel)",
   "language": "python",
   "name": "python3"
  },
  "language_info": {
   "codemirror_mode": {
    "name": "ipython",
    "version": 3
   },
   "file_extension": ".py",
   "mimetype": "text/x-python",
   "name": "python",
   "nbconvert_exporter": "python",
   "pygments_lexer": "ipython3",
   "version": "3.11.7"
  }
 },
 "nbformat": 4,
 "nbformat_minor": 5
}
